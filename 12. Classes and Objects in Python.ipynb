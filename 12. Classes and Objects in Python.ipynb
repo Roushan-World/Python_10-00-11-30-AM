{
 "cells": [
  {
   "cell_type": "markdown",
   "id": "19eda202",
   "metadata": {},
   "source": [
    "# 12. Classes and Objects in Python\n",
    "\n",
    "\n",
    "\n",
    " * Python is an object-oriented programming language.\n",
    " * Unlike procedure-oriented programming, where the main emphasis is on functions, object-oriented programming stresses on objects.\n",
    " * An object is simply a collection of data(variables) and methods (functions) that act on those data.\n",
    " * Similarly, a class is a blueprint for that object.\n",
    " * Like function definitions begin with the def keyword in Python, class definitions begin with a class keyword.\n",
    " * The first string inside the class is called docstring and has s brief description of the class.\n",
    " * Although not mandatory, this is highly recommended."
   ]
  },
  {
   "cell_type": "markdown",
   "id": "fed2ad0c",
   "metadata": {},
   "source": [
    "class student:\n",
    "    school_name = 'ABC School'          <---------------- Class Variable\n",
    "    \n",
    "    def __init__(self,name,age):       <------------------ Constructor to initialize instance variables.\n",
    "        self.name=name\n",
    "        self.age=age\n",
    "@classmethod\n",
    "\n",
    "def change_school(cls,name):        <----------- cls refers to the class\n",
    "\n",
    "    print(student.school_name)      <------------ Access class variables\n",
    "    \n",
    "    student.school_name=name        <------------ Modify Class Variables\n",
    "    \n",
    "jessa=student('jessa',14)\n",
    "\n",
    "student.change_school('XYZ School') <----------- Call class method"
   ]
  },
  {
   "cell_type": "code",
   "execution_count": 8,
   "id": "33802ffa",
   "metadata": {},
   "outputs": [
    {
     "name": "stdout",
     "output_type": "stream",
     "text": [
      "3.14\n",
      "Amey\n",
      "26\n"
     ]
    }
   ],
   "source": [
    "class Data:\n",
    "    num=3.14\n",
    "    name='Amey'\n",
    "    age=26\n",
    "    \n",
    "var=Data()\n",
    "print(var.num)\n",
    "print(var.name)\n",
    "print(var.age)"
   ]
  },
  {
   "cell_type": "code",
   "execution_count": 13,
   "id": "d95ba403",
   "metadata": {},
   "outputs": [
    {
     "name": "stdout",
     "output_type": "stream",
     "text": [
      "Amey\n",
      "25\n",
      "Male\n"
     ]
    }
   ],
   "source": [
    "class amey:\n",
    "    name='Amey'\n",
    "    age=25\n",
    "    gender='Male'\n",
    "    \n",
    "x=amey()\n",
    "print(x.name)\n",
    "print(x.age)\n",
    "print(x.gender)"
   ]
  },
  {
   "cell_type": "code",
   "execution_count": 16,
   "id": "8414659b",
   "metadata": {},
   "outputs": [
    {
     "name": "stdout",
     "output_type": "stream",
     "text": [
      "Amey\n",
      "25\n",
      "Male\n"
     ]
    }
   ],
   "source": [
    "class information:\n",
    "    def __init__(self,name,age,gender):\n",
    "        self.name=name\n",
    "        self.age=age\n",
    "        self.gender=gender\n",
    "var=information('Amey',25,'Male')\n",
    "print(var.name)\n",
    "print(var.age)\n",
    "print(var.gender)"
   ]
  },
  {
   "cell_type": "code",
   "execution_count": 22,
   "id": "8702b9e5",
   "metadata": {},
   "outputs": [
    {
     "name": "stdout",
     "output_type": "stream",
     "text": [
      "Amey\n",
      "25\n",
      "Male\n"
     ]
    }
   ],
   "source": [
    "class information:\n",
    "    def __init__(x,name,age,gender):\n",
    "        x.name=name\n",
    "        x.age=age\n",
    "        x.gender=gender\n",
    "var=information('Amey',25,'Male')\n",
    "print(var.name)\n",
    "print(var.age)\n",
    "print(var.gender)"
   ]
  },
  {
   "cell_type": "markdown",
   "id": "7f81f53d",
   "metadata": {},
   "source": [
    "# Function init()"
   ]
  },
  {
   "cell_type": "code",
   "execution_count": 19,
   "id": "359247b1",
   "metadata": {},
   "outputs": [
    {
     "name": "stdout",
     "output_type": "stream",
     "text": [
      "Amey\n",
      "25\n",
      "Male\n"
     ]
    }
   ],
   "source": [
    "class information:\n",
    "    def __init__(cat,name,age,gender):\n",
    "        cat.name=name\n",
    "        cat.age=age\n",
    "        cat.gender=gender\n",
    "var=information('Amey',25,'Male')\n",
    "print(var.name)\n",
    "print(var.age)\n",
    "print(var.gender)"
   ]
  },
  {
   "cell_type": "code",
   "execution_count": 23,
   "id": "491b8074",
   "metadata": {},
   "outputs": [
    {
     "name": "stdout",
     "output_type": "stream",
     "text": [
      "The Number is: 2.2\n",
      "The ratio is: 3.14\n",
      "The alphabet is: 26\n"
     ]
    }
   ],
   "source": [
    "class data:\n",
    "    def __init__(self,number,ratio,alphabet):\n",
    "        self.number=number\n",
    "        self.ratio=ratio\n",
    "        self.alphabet=alphabet\n",
    "    def msg_function(self):\n",
    "        print('The Number is:',self.number)\n",
    "        print('The ratio is:',self.ratio)\n",
    "        print('The alphabet is:',self.alphabet)\n",
    "        \n",
    "val=data(2.20,3.14,26)\n",
    "val.msg_function()"
   ]
  },
  {
   "cell_type": "code",
   "execution_count": 24,
   "id": "81e7a0ce",
   "metadata": {},
   "outputs": [
    {
     "name": "stdout",
     "output_type": "stream",
     "text": [
      "My name is  Amey\n",
      "My age is  21\n",
      "My phone number is  9923907693\n"
     ]
    }
   ],
   "source": [
    "class Details:\n",
    "    def __init__(self,name,age,ph_no):\n",
    "        self.name = name\n",
    "        self.age = age\n",
    "        self.ph_no = ph_no\n",
    "    def msg_function(self):\n",
    "        print('My name is ',self.name)\n",
    "        print('My age is ',self.age)\n",
    "        print('My phone number is ',self.ph_no)\n",
    "        \n",
    "val = Details('Amey',21,9923907693)\n",
    "val.msg_function()"
   ]
  },
  {
   "cell_type": "markdown",
   "id": "be1f56f6",
   "metadata": {},
   "source": [
    "# Self parameter\n",
    "\n",
    " * The self parameter is a refrence to the current instance of the class, and is used to access variables that belongs to the class.\n",
    " * It does not have to be named self, you can call it whatever you like, but it has to be the first parameter of any function in the class.\n",
    " "
   ]
  },
  {
   "cell_type": "code",
   "execution_count": 3,
   "id": "e07da2fc",
   "metadata": {},
   "outputs": [
    {
     "name": "stdout",
     "output_type": "stream",
     "text": [
      "10\n",
      "5\n",
      "blue\n"
     ]
    },
    {
     "data": {
      "image/png": "[encoded data removed]",
      "text/plain": [
       "<Figure size 640x480 with 1 Axes>"
      ]
     },
     "metadata": {},
     "output_type": "display_data"
    }
   ],
   "source": [
    "# import library to draw the Rectangle.\n",
    "\n",
    "import matplotlib.pyplot as plt\n",
    "\n",
    "%matplotlib inline\n",
    "\n",
    "# Creating a class to draw a Rectangle.\n",
    "\n",
    "class Rectangle(object):\n",
    "    \n",
    "    # Constructor\n",
    "    \n",
    "    def __init__(self,width,height,color):\n",
    "        self.width = width\n",
    "        self.height = height\n",
    "        self.color = color\n",
    "        \n",
    "    # method\n",
    "    def drawRectangle(self):\n",
    "        plt.gca().add_patch(plt.Rectangle((0,0), self.width,self.height,fc=self.color))\n",
    "        plt.axis('Scaled')\n",
    "        plt.show\n",
    "        \n",
    "# Creating an object.\n",
    "\n",
    "one_Rectangle=Rectangle(10,5,'blue')\n",
    "\n",
    "print(one_Rectangle.width)\n",
    "\n",
    "print(one_Rectangle.height)\n",
    "print(one_Rectangle.color)\n",
    "one_Rectangle.drawRectangle()\n"
   ]
  },
  {
   "cell_type": "code",
   "execution_count": 4,
   "id": "08b403e4",
   "metadata": {},
   "outputs": [
    {
     "data": {
      "image/png": "[encoded data removed]",
      "text/plain": [
       "<Figure size 640x480 with 1 Axes>"
      ]
     },
     "metadata": {},
     "output_type": "display_data"
    }
   ],
   "source": [
    "two_Rectangle=Rectangle(20,10,'red')\n",
    "two_Rectangle.drawRectangle()"
   ]
  },
  {
   "cell_type": "code",
   "execution_count": 6,
   "id": "8a444c61",
   "metadata": {},
   "outputs": [
    {
     "name": "stdout",
     "output_type": "stream",
     "text": [
      "5\n",
      "blue\n"
     ]
    },
    {
     "data": {
      "image/png": "[encoded data removed]",
      "text/plain": [
       "<Figure size 640x480 with 1 Axes>"
      ]
     },
     "metadata": {},
     "output_type": "display_data"
    }
   ],
   "source": [
    "# import library to draw the Rectangle.\n",
    "\n",
    "import matplotlib.pyplot as plt\n",
    "\n",
    "%matplotlib inline\n",
    "\n",
    "\n",
    "class Circle(object):\n",
    "    \n",
    "    # Constructor\n",
    "    def __init__(self,radius,color):\n",
    "        self.radius=radius\n",
    "        self.color=color\n",
    "        \n",
    "    # Method\n",
    "    def increase_radius(self,r):\n",
    "        self.radius=self.radius+r\n",
    "        return self.radius\n",
    "    \n",
    "    \n",
    "    # method\n",
    "    \n",
    "    def drawCircle(self):\n",
    "        plt.gca().add_patch(plt.Circle((0,0),self.radius,fc=self.color))\n",
    "        plt.axis('scaled')\n",
    "        plt.show()\n",
    "        \n",
    "        \n",
    "one_circle=Circle(5,'blue')\n",
    "print(one_circle.radius)\n",
    "print(one_circle.color)\n",
    "one_circle.drawCircle()    "
   ]
  },
  {
   "cell_type": "code",
   "execution_count": 1,
   "id": "79bcac11",
   "metadata": {},
   "outputs": [],
   "source": [
    "class person(object):\n",
    "    def __init__(self,first_name,last_name):\n",
    "        self.first_name = first_name\n",
    "        self.last_name = last_name\n",
    "        \n",
    "    def printname(self):\n",
    "        print(f'You have entered: ',self.first_name,self.last_name)"
   ]
  },
  {
   "cell_type": "code",
   "execution_count": 2,
   "id": "bf3a8be7",
   "metadata": {},
   "outputs": [
    {
     "name": "stdout",
     "output_type": "stream",
     "text": [
      "John Barbie\n"
     ]
    }
   ],
   "source": [
    "class person:\n",
    "    def __init__(self,firstname,lastname):\n",
    "        self.firstname=firstname\n",
    "        self.lastname=lastname\n",
    "    def printname(self):\n",
    "        print(self.firstname,self.lastname)\n",
    "        \n",
    "x = person('John','Barbie')\n",
    "\n",
    "x.printname()"
   ]
  },
  {
   "cell_type": "code",
   "execution_count": 3,
   "id": "98586a03",
   "metadata": {},
   "outputs": [
    {
     "name": "stdout",
     "output_type": "stream",
     "text": [
      "First Name: Marry\n",
      "Last Name: Gold\n"
     ]
    }
   ],
   "source": [
    "class Data:\n",
    "    def __init__(self,firstname,lastname):\n",
    "        self.firstname=firstname\n",
    "        self.lastname=lastname\n",
    "    def status(self):\n",
    "        return True\n",
    "    def Programming(self):\n",
    "        return True\n",
    "class Data_person(Data):\n",
    "    pass\n",
    "\n",
    "x = Data_person('Marry','Gold')\n",
    "\n",
    "print('First Name:',x.firstname)\n",
    "print('Last Name:',x.lastname)"
   ]
  },
  {
   "cell_type": "markdown",
   "id": "ea931e5e",
   "metadata": {},
   "source": [
    "#  Inheritance.\n",
    "\n",
    "\n",
    " * Simple(single) Inheritance = Parent class and Child Class\n",
    " \n",
    " * Multi Level Inheritance = Parent Class/Child class ----Child Class\n",
    " \n",
    " * Multiple Inheritance = Parent class and parent class ----- Child class\n",
    " \n",
    " * Hierarchical Inheritance = Parent -------- Child class ------ Child."
   ]
  },
  {
   "cell_type": "code",
   "execution_count": 5,
   "id": "702ee7c2",
   "metadata": {},
   "outputs": [
    {
     "name": "stdout",
     "output_type": "stream",
     "text": [
      "This function is parent class.\n",
      "This function is child class.\n"
     ]
    }
   ],
   "source": [
    "# Single Inheritance.\n",
    "\n",
    "class parent:\n",
    "    def func1(self):\n",
    "        print('This function is parent class.')\n",
    "class Child(parent):\n",
    "    def func2(self):\n",
    "        print('This function is child class.')\n",
    "        \n",
    "object=Child()\n",
    "object.func1()\n",
    "object.func2()"
   ]
  },
  {
   "cell_type": "code",
   "execution_count": 11,
   "id": "01bc9c5b",
   "metadata": {},
   "outputs": [
    {
     "name": "stdout",
     "output_type": "stream",
     "text": [
      "Grandfather name: Rajveer\n",
      "Father name:  Prince\n",
      "Son_name:  Bob\n"
     ]
    }
   ],
   "source": [
    "# Multilevel Inheritance\n",
    "\n",
    "class Grandfather:\n",
    "    def __init__(self,grandfathername):\n",
    "        self.grandfathername=grandfathername\n",
    "        \n",
    "# Intermediate class\n",
    "\n",
    "class Father(Grandfather):\n",
    "    def __init__(self,fathername,grandfathername):\n",
    "        self.fathername=fathername\n",
    "        # involving constructor of grandfather class\n",
    "        Grandfather.__init__(self,grandfathername)\n",
    "        \n",
    "class Son(Father):\n",
    "    def __init__(self,sonname,fathername,grandfathername):\n",
    "        self.sonname=sonname\n",
    "        \n",
    "        # involving constructor of father class\n",
    "        Father.__init__(self,fathername,grandfathername)\n",
    "    def print_name(self):\n",
    "        print('Grandfather name:',self.grandfathername)\n",
    "        print('Father name: ',self.fathername)\n",
    "        print('Son_name: ',self.sonname)\n",
    "s1=Son('Bob','Prince','Rajveer')\n",
    "s1.print_name()"
   ]
  },
  {
   "cell_type": "code",
   "execution_count": 14,
   "id": "29ef716a",
   "metadata": {},
   "outputs": [
    {
     "name": "stdout",
     "output_type": "stream",
     "text": [
      "Fahter:  Ram\n",
      "Mother: Sita\n"
     ]
    }
   ],
   "source": [
    "# Multiple Inheritance\n",
    "\n",
    "# Base class1\n",
    "class Mother:\n",
    "    mothername=''\n",
    "    def mother(self):\n",
    "        print(self.mothername)\n",
    "# Base class 2\n",
    "class Father:\n",
    "    fathername=''\n",
    "    def father(self):\n",
    "        print(self.fathername)\n",
    "        \n",
    "# Derived class\n",
    "class son(Mother,Father):\n",
    "    def parents(self):\n",
    "        print('Fahter: ',self.fathername)\n",
    "        print('Mother:',self.mothername)\n",
    "        \n",
    "s1=son()\n",
    "s1.mothername='Sita'\n",
    "s1.fathername='Ram'\n",
    "s1.parents()"
   ]
  },
  {
   "cell_type": "markdown",
   "id": "9551568b",
   "metadata": {},
   "source": [
    "# Single Inheritance:- When child class is derived from only one parent class This is called single inheritance."
   ]
  },
  {
   "cell_type": "code",
   "execution_count": 19,
   "id": "171089e4",
   "metadata": {},
   "outputs": [
    {
     "name": "stdout",
     "output_type": "stream",
     "text": [
      "Amazon is an Online Commerce store\n",
      "Flipkart is a Online Store\n",
      "olx is an Online Buy Sell Store\n"
     ]
    }
   ],
   "source": [
    "# Single inheritance.\n",
    "\n",
    "class Brands:            # parent class\n",
    "    brand_name_1='Amazon'\n",
    "    brand_name_2='Flipkart'\n",
    "    brand_name_3='olx'\n",
    "    \n",
    "class products(Brands):   # Child class\n",
    "    prod_1='Online Commerce store'\n",
    "    prod_2='Online Store'\n",
    "    prod_3='Online Buy Sell Store'\n",
    "obj_1=products()   # Object Creation\n",
    "\n",
    "print(obj_1.brand_name_1+' is an',obj_1.prod_1)\n",
    "print(obj_1.brand_name_2+' is a',obj_1.prod_2)\n",
    "print(obj_1.brand_name_3+' is an',obj_1.prod_3)"
   ]
  },
  {
   "cell_type": "code",
   "execution_count": null,
   "id": "f7ed063b",
   "metadata": {},
   "outputs": [],
   "source": []
  }
 ],
 "metadata": {
  "kernelspec": {
   "display_name": "Python 3 (ipykernel)",
   "language": "python",
   "name": "python3"
  },
  "language_info": {
   "codemirror_mode": {
    "name": "ipython",
    "version": 3
   },
   "file_extension": ".py",
   "mimetype": "text/x-python",
   "name": "python",
   "nbconvert_exporter": "python",
   "pygments_lexer": "ipython3",
   "version": "3.9.13"
  }
 },
 "nbformat": 4,
 "nbformat_minor": 5
}
