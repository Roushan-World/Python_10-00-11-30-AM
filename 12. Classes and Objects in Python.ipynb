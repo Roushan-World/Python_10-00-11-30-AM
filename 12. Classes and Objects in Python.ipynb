{
 "cells": [
  {
   "cell_type": "markdown",
   "id": "19eda202",
   "metadata": {},
   "source": [
    "# 12. Classes and Objects in Python\n",
    "\n",
    "\n",
    "\n",
    " * Python is an object-oriented programming language.\n",
    " * Unlike procedure-oriented programming, where the main emphasis is on functions, object-oriented programming stresses on objects.\n",
    " * An object is simply a collection of data(variables) and methods (functions) that act on those data.\n",
    " * Similarly, a class is a blueprint for that object.\n",
    " * Like function definitions begin with the def keyword in Python, class definitions begin with a class keyword.\n",
    " * The first string inside the class is called docstring and has s brief description of the class.\n",
    " * Although not mandatory, this is highly recommended."
   ]
  },
  {
   "cell_type": "markdown",
   "id": "fed2ad0c",
   "metadata": {},
   "source": [
    "class student:\n",
    "    school_name = 'ABC School'          <---------------- Class Variable\n",
    "    \n",
    "    def __init__(self,name,age):       <------------------ Constructor to initialize instance variables.\n",
    "        self.name=name\n",
    "        self.age=age\n",
    "@classmethod\n",
    "\n",
    "def change_school(cls,name):        <----------- cls refers to the class\n",
    "\n",
    "    print(student.school_name)      <------------ Access class variables\n",
    "    \n",
    "    student.school_name=name        <------------ Modify Class Variables\n",
    "    \n",
    "jessa=student('jessa',14)\n",
    "\n",
    "student.change_school('XYZ School') <----------- Call class method"
   ]
  },
  {
   "cell_type": "code",
   "execution_count": 8,
   "id": "33802ffa",
   "metadata": {},
   "outputs": [
    {
     "name": "stdout",
     "output_type": "stream",
     "text": [
      "3.14\n",
      "Amey\n",
      "26\n"
     ]
    }
   ],
   "source": [
    "class Data:\n",
    "    num=3.14\n",
    "    name='Amey'\n",
    "    age=26\n",
    "    \n",
    "var=Data()\n",
    "print(var.num)\n",
    "print(var.name)\n",
    "print(var.age)"
   ]
  },
  {
   "cell_type": "code",
   "execution_count": 13,
   "id": "d95ba403",
   "metadata": {},
   "outputs": [
    {
     "name": "stdout",
     "output_type": "stream",
     "text": [
      "Amey\n",
      "25\n",
      "Male\n"
     ]
    }
   ],
   "source": [
    "class amey:\n",
    "    name='Amey'\n",
    "    age=25\n",
    "    gender='Male'\n",
    "    \n",
    "x=amey()\n",
    "print(x.name)\n",
    "print(x.age)\n",
    "print(x.gender)"
   ]
  },
  {
   "cell_type": "code",
   "execution_count": 16,
   "id": "8414659b",
   "metadata": {},
   "outputs": [
    {
     "name": "stdout",
     "output_type": "stream",
     "text": [
      "Amey\n",
      "25\n",
      "Male\n"
     ]
    }
   ],
   "source": [
    "class information:\n",
    "    def __init__(self,name,age,gender):\n",
    "        self.name=name\n",
    "        self.age=age\n",
    "        self.gender=gender\n",
    "var=information('Amey',25,'Male')\n",
    "print(var.name)\n",
    "print(var.age)\n",
    "print(var.gender)"
   ]
  },
  {
   "cell_type": "code",
   "execution_count": 22,
   "id": "8702b9e5",
   "metadata": {},
   "outputs": [
    {
     "name": "stdout",
     "output_type": "stream",
     "text": [
      "Amey\n",
      "25\n",
      "Male\n"
     ]
    }
   ],
   "source": [
    "class information:\n",
    "    def __init__(x,name,age,gender):\n",
    "        x.name=name\n",
    "        x.age=age\n",
    "        x.gender=gender\n",
    "var=information('Amey',25,'Male')\n",
    "print(var.name)\n",
    "print(var.age)\n",
    "print(var.gender)"
   ]
  },
  {
   "cell_type": "markdown",
   "id": "7f81f53d",
   "metadata": {},
   "source": [
    "# Function init()"
   ]
  },
  {
   "cell_type": "code",
   "execution_count": 19,
   "id": "359247b1",
   "metadata": {},
   "outputs": [
    {
     "name": "stdout",
     "output_type": "stream",
     "text": [
      "Amey\n",
      "25\n",
      "Male\n"
     ]
    }
   ],
   "source": [
    "class information:\n",
    "    def __init__(cat,name,age,gender):\n",
    "        cat.name=name\n",
    "        cat.age=age\n",
    "        cat.gender=gender\n",
    "var=information('Amey',25,'Male')\n",
    "print(var.name)\n",
    "print(var.age)\n",
    "print(var.gender)"
   ]
  },
  {
   "cell_type": "code",
   "execution_count": 23,
   "id": "491b8074",
   "metadata": {},
   "outputs": [
    {
     "name": "stdout",
     "output_type": "stream",
     "text": [
      "The Number is: 2.2\n",
      "The ratio is: 3.14\n",
      "The alphabet is: 26\n"
     ]
    }
   ],
   "source": [
    "class data:\n",
    "    def __init__(self,number,ratio,alphabet):\n",
    "        self.number=number\n",
    "        self.ratio=ratio\n",
    "        self.alphabet=alphabet\n",
    "    def msg_function(self):\n",
    "        print('The Number is:',self.number)\n",
    "        print('The ratio is:',self.ratio)\n",
    "        print('The alphabet is:',self.alphabet)\n",
    "        \n",
    "val=data(2.20,3.14,26)\n",
    "val.msg_function()"
   ]
  },
  {
   "cell_type": "code",
   "execution_count": 24,
   "id": "81e7a0ce",
   "metadata": {},
   "outputs": [
    {
     "name": "stdout",
     "output_type": "stream",
     "text": [
      "My name is  Amey\n",
      "My age is  21\n",
      "My phone number is  9923907693\n"
     ]
    }
   ],
   "source": [
    "class Details:\n",
    "    def __init__(self,name,age,ph_no):\n",
    "        self.name = name\n",
    "        self.age = age\n",
    "        self.ph_no = ph_no\n",
    "    def msg_function(self):\n",
    "        print('My name is ',self.name)\n",
    "        print('My age is ',self.age)\n",
    "        print('My phone number is ',self.ph_no)\n",
    "        \n",
    "val = Details('Amey',21,9923907693)\n",
    "val.msg_function()"
   ]
  },
  {
   "cell_type": "code",
   "execution_count": null,
   "id": "b6f1232b",
   "metadata": {},
   "outputs": [],
   "source": []
  }
 ],
 "metadata": {
  "kernelspec": {
   "display_name": "Python 3 (ipykernel)",
   "language": "python",
   "name": "python3"
  },
  "language_info": {
   "codemirror_mode": {
    "name": "ipython",
    "version": 3
   },
   "file_extension": ".py",
   "mimetype": "text/x-python",
   "name": "python",
   "nbconvert_exporter": "python",
   "pygments_lexer": "ipython3",
   "version": "3.9.13"
  }
 },
 "nbformat": 4,
 "nbformat_minor": 5
}
