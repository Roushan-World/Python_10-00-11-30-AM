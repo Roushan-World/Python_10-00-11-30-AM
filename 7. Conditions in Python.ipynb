{
 "cells": [
  {
   "cell_type": "markdown",
   "id": "8f9b2338",
   "metadata": {},
   "source": [
    "# 7. Conditions in Python\n",
    "\n",
    "\n",
    " *Comparison Operators\n",
    " \n",
    " Comparison operations compare some value or operands and based on a condition, produce a Boolean. Python has six comparison operators as below:\n",
    "  * Less than(<)\n",
    "  * Less than or equal to(<=)\n",
    "  * Greater than(>)\n",
    "  * Greater than or equal to(>=)\n",
    "  * Equal to(==)\n",
    "  * Not equal to(!=)"
   ]
  },
  {
   "cell_type": "code",
   "execution_count": 7,
   "id": "6124a033",
   "metadata": {},
   "outputs": [
    {
     "name": "stdout",
     "output_type": "stream",
     "text": [
      "True\n",
      "False\n",
      "True\n",
      "True\n",
      "True\n",
      "True\n"
     ]
    }
   ],
   "source": [
    "# Take a variable\n",
    "\n",
    "ratio=1.618\n",
    "\n",
    "#Condition less than\n",
    "\n",
    "print(ratio<2)\n",
    "print(ratio>2)\n",
    "print(ratio<=2)\n",
    "print(ratio>=1)\n",
    "print(ratio<=1.618)\n",
    "print(ratio>1)\n"
   ]
  },
  {
   "cell_type": "code",
   "execution_count": 9,
   "id": "f53e8d33",
   "metadata": {},
   "outputs": [
    {
     "name": "stdout",
     "output_type": "stream",
     "text": [
      "False\n"
     ]
    }
   ],
   "source": [
    "hello='Hello'\n",
    "python='Python'\n",
    "print(hello>python)"
   ]
  },
  {
   "cell_type": "markdown",
   "id": "be6c1641",
   "metadata": {},
   "source": [
    "# Branching (If, elif, else)\n",
    "\n",
    "    * Decision making is required when we want to execute a code only if certain condition is satisfied.\n",
    "    * The if/elif/else statement is used in Python for decision making.\n",
    "    * An else statement can be combined with an if statement.\n",
    "    * An else statement contains the block of code that executes if the conditional expression in the if statement resolves to 0 or a false value.\n",
    "    * The else statement is an optional statement and there could be at most only else statement following if.\n",
    "    * The elif statement allows you to check multiple expression for True and execute a block of code as soon as one of the condition evaluates to True.\n",
    "    \n",
    "    * Similar to the else, the elif statement is optional.\n",
    "    * However, unlike else, for which there can be most one statement, there can be an arbitrary number of elif statements following an if."
   ]
  },
  {
   "cell_type": "code",
   "execution_count": null,
   "id": "fdd5d97e",
   "metadata": {},
   "outputs": [],
   "source": []
  }
 ],
 "metadata": {
  "kernelspec": {
   "display_name": "Python 3 (ipykernel)",
   "language": "python",
   "name": "python3"
  },
  "language_info": {
   "codemirror_mode": {
    "name": "ipython",
    "version": 3
   },
   "file_extension": ".py",
   "mimetype": "text/x-python",
   "name": "python",
   "nbconvert_exporter": "python",
   "pygments_lexer": "ipython3",
   "version": "3.9.7"
  }
 },
 "nbformat": 4,
 "nbformat_minor": 5
}
