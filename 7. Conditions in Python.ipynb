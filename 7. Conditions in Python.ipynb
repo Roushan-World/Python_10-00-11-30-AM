{
 "cells": [
  {
   "cell_type": "markdown",
   "id": "f7b9f066",
   "metadata": {},
   "source": [
    "# 7. Conditions in Python\n",
    "    * Comparison Operators\n",
    "\n",
    "        Comparison operations compare some value or operands and based on a condition, produce a Boolean. Python has six comparison operators as below:\n",
    "\n",
    "    Less than(<)\n",
    "    Less than or equal to(<=)\n",
    "    Greater than(>)\n",
    "    Greater than or equal to(>=)\n",
    "    Equal to(==)\n",
    "    Not equal to(!=)"
   ]
  },
  {
   "cell_type": "code",
   "execution_count": 1,
   "id": "37cb0841",
   "metadata": {},
   "outputs": [
    {
     "name": "stdout",
     "output_type": "stream",
     "text": [
      "True\n",
      "False\n",
      "True\n",
      "True\n",
      "True\n",
      "True\n"
     ]
    }
   ],
   "source": [
    "# Take a variable\n",
    "\n",
    "ratio=1.618\n",
    "\n",
    "#Condition less than\n",
    "\n",
    "print(ratio<2)\n",
    "print(ratio>2)\n",
    "print(ratio<=2)\n",
    "print(ratio>=1)\n",
    "print(ratio<=1.618)\n",
    "print(ratio>1)"
   ]
  },
  {
   "cell_type": "markdown",
   "id": "ef3e4605",
   "metadata": {},
   "source": [
    "# Branching (If, elif, else)\n",
    "Decision making is required when we want to execute a code only if certain condition is satisfied.\n",
    "\n",
    "The if/elif/else statement is used in Python for decision making.\n",
    "\n",
    "An else statement can be combined with an if statement.\n",
    "\n",
    "An else statement contains the block of code that executes if the conditional expression in the if statement resolves to 0 or a false value.\n",
    "\n",
    "The else statement is an optional statement and there could be at most only else statement following if.\n",
    "\n",
    "The elif statement allows you to check multiple expression for True and execute a block of code as soon as one of the condition evaluates to True.\n",
    "\n",
    "Similar to the else, the elif statement is optional.\n",
    "\n",
    "However, unlike else, for which there can be most one statement, there can be an arbitrary number of elif statements following an if."
   ]
  },
  {
   "cell_type": "code",
   "execution_count": 2,
   "id": "9759f92b",
   "metadata": {},
   "outputs": [
    {
     "name": "stdout",
     "output_type": "stream",
     "text": [
      "The number pi 3.14 is greater than the ratio 1.618.\n"
     ]
    }
   ],
   "source": [
    "pi = 3.14\n",
    "\n",
    "ratio=1.618\n",
    "\n",
    "if pi>ratio:\n",
    "    print(f'The number pi {pi} is greater than the ratio {ratio}.')"
   ]
  },
  {
   "cell_type": "code",
   "execution_count": 3,
   "id": "74958b1e",
   "metadata": {},
   "outputs": [
    {
     "name": "stdout",
     "output_type": "stream",
     "text": [
      "The ratio is 1.618 is lower than the number pi 3.14\n"
     ]
    }
   ],
   "source": [
    "pi = 3.14\n",
    "\n",
    "ratio=1.618\n",
    "\n",
    "if pi<ratio:\n",
    "    print(f'The number pi {pi} is greater than the ratio {ratio}.')\n",
    "    \n",
    "else:\n",
    "    print(f'The ratio is {ratio} is lower than the number pi {pi}')"
   ]
  },
  {
   "cell_type": "code",
   "execution_count": 4,
   "id": "a2338860",
   "metadata": {},
   "outputs": [
    {
     "name": "stdout",
     "output_type": "stream",
     "text": [
      "You can go to KG\n",
      "Done!\n"
     ]
    }
   ],
   "source": [
    "age=5\n",
    "\n",
    "if age>6:\n",
    "    print('You can go to primary school')\n",
    "    \n",
    "elif age==5:\n",
    "    print('You can go to KG')\n",
    "    \n",
    "else:\n",
    "    print('You are a baby!')\n",
    "    \n",
    "    \n",
    "print(\"Done!\")"
   ]
  },
  {
   "cell_type": "code",
   "execution_count": 5,
   "id": "1c662159",
   "metadata": {},
   "outputs": [
    {
     "name": "stdout",
     "output_type": "stream",
     "text": [
      "Enter your age: 45\n",
      "You can go to primary school.\n"
     ]
    }
   ],
   "source": [
    "# Write a program to check your age and execute program\n",
    "\n",
    "age=int(input('Enter your age: '))\n",
    "\n",
    "if age>6:\n",
    "    print('You can go to primary school.')\n",
    "    \n",
    "elif age==5:\n",
    "    print('You can go to Kindergarten.')\n",
    "    \n",
    "else:\n",
    "    print('You are a baby.')"
   ]
  },
  {
   "cell_type": "code",
   "execution_count": 6,
   "id": "6b6a5e4d",
   "metadata": {},
   "outputs": [
    {
     "name": "stdout",
     "output_type": "stream",
     "text": [
      "Enter your age: 20\n",
      "You can vote!\n"
     ]
    }
   ],
   "source": [
    "age = int(input('Enter your age: '))\n",
    "\n",
    "if age >= 18:\n",
    "    print('You can vote!')\n",
    "\n",
    "else:\n",
    "    print('You cannot vote!')"
   ]
  },
  {
   "cell_type": "code",
   "execution_count": 7,
   "id": "203c6e0d",
   "metadata": {},
   "outputs": [
    {
     "name": "stdout",
     "output_type": "stream",
     "text": [
      "Enter your age: 22\n",
      "You can watch movie in theatre\n"
     ]
    }
   ],
   "source": [
    "age = int(input('Enter your age: '))\n",
    "\n",
    "if age >= 20:\n",
    "    print('You can watch movie in theatre')\n",
    "\n",
    "elif age >= 15:\n",
    "    print('You can watch movie at home')\n",
    "    \n",
    "else:\n",
    "    print('You can watch cartoon at home')"
   ]
  },
  {
   "cell_type": "code",
   "execution_count": 8,
   "id": "fda122dd",
   "metadata": {},
   "outputs": [
    {
     "name": "stdout",
     "output_type": "stream",
     "text": [
      "Enter your number: 45\n",
      "Number 45 is odd\n"
     ]
    }
   ],
   "source": [
    "#  Write a program to check a number is entered by a user is even or odd.\n",
    "num = int(input('Enter your number: '))\n",
    "\n",
    "if num%2 == 0:\n",
    "    print(f'Number {num} is even')\n",
    "else:\n",
    "    print(f'Number {num} is odd')"
   ]
  },
  {
   "cell_type": "code",
   "execution_count": 9,
   "id": "91135561",
   "metadata": {},
   "outputs": [
    {
     "name": "stdout",
     "output_type": "stream",
     "text": [
      "Enter a number: 49\n",
      "Number 49 is divisible by 7\n"
     ]
    }
   ],
   "source": [
    "# write a program to check whether a number is divisible by 7 or not.\n",
    "num = int(input('Enter a number: '))\n",
    "\n",
    "if num%7 == 0:\n",
    "    print(f'Number {num} is divisible by 7')\n",
    "\n",
    "else:\n",
    "    print(f'Number {num} is not divisible by 7')"
   ]
  },
  {
   "cell_type": "code",
   "execution_count": 10,
   "id": "86992f91",
   "metadata": {},
   "outputs": [
    {
     "name": "stdout",
     "output_type": "stream",
     "text": [
      "Enter your number: 25\n",
      "Hello\n"
     ]
    }
   ],
   "source": [
    "# Write a program to display 'Hello' if a number is entered by user is a multiple of 5.\n",
    "num = int(input('Enter your number: '))\n",
    "\n",
    "if num % 5 == 0:\n",
    "    print('Hello')\n",
    "\n",
    "else:\n",
    "    print('Bye')"
   ]
  },
  {
   "cell_type": "code",
   "execution_count": 11,
   "id": "3637c8a4",
   "metadata": {},
   "outputs": [
    {
     "name": "stdout",
     "output_type": "stream",
     "text": [
      "Enter your percentage: 70\n",
      "Your grade is C\n"
     ]
    }
   ],
   "source": [
    "# Write a program to accept percentage from the user and display the grade according to the following\n",
    "# criteria:\n",
    "\n",
    "# marks---------------------> Grade\n",
    "# >90-----------------------> A\n",
    "# >80 and <=90--------------> B\n",
    "# >=60 and <=80-------------> C\n",
    "# below 60 -----------------> D\n",
    "\n",
    "p = float(input('Enter your percentage: '))\n",
    "\n",
    "if p > 90:\n",
    "    print('Your grade is A')\n",
    "    \n",
    "elif p>80 and p<=90:\n",
    "    print('Your grade is B')\n",
    "    \n",
    "elif p>=60 and p<=80:\n",
    "    print('Your grade is C')\n",
    "    \n",
    "else:\n",
    "    print('Your grade is D')"
   ]
  },
  {
   "cell_type": "code",
   "execution_count": 12,
   "id": "104e2400",
   "metadata": {},
   "outputs": [
    {
     "name": "stdout",
     "output_type": "stream",
     "text": [
      "Enter your number: 5\n",
      "Day is Thursday \n"
     ]
    }
   ],
   "source": [
    "# Write a program to accept number form 1 to 7 and display the name of the day like 1 for sunday,\n",
    "# 2 for monday and so on.\n",
    "num = int(input('Enter your number: '))\n",
    "\n",
    "if num == 1:\n",
    "    print('Day is Sunday')\n",
    "\n",
    "elif num == 2:\n",
    "    print('Day is Monday')\n",
    "\n",
    "elif num == 3:\n",
    "    print('Day is Tuesday')\n",
    "    \n",
    "elif num == 4:\n",
    "    print('Day is Wednesday')\n",
    "    \n",
    "elif num == 5:\n",
    "    print('Day is Thursday ')\n",
    "    \n",
    "elif num == 6:\n",
    "    print('Day is Friday')\n",
    "    \n",
    "elif num == 7:\n",
    "    print('Day is Saturday')\n",
    "    \n",
    "else:\n",
    "    print('Out of Range!')"
   ]
  },
  {
   "cell_type": "code",
   "execution_count": 13,
   "id": "dd8341d3",
   "metadata": {},
   "outputs": [
    {
     "name": "stdout",
     "output_type": "stream",
     "text": [
      "Enter your number from 1 to 12: 11\n",
      "Month is November and number of Days are 30\n"
     ]
    }
   ],
   "source": [
    "# Write a program to accept number from 1 to 12 and display name of the month and days in \n",
    "# that month like 1 for January and number of days is 31.\n",
    "num = int(input('Enter your number from 1 to 12: '))\n",
    "\n",
    "if num == 1:\n",
    "    print('Month is January and Number of Days are 31.')\n",
    "\n",
    "elif num == 2:\n",
    "    print('Month is February and Number of Days are 28 or 29')\n",
    "    \n",
    "elif num == 3:\n",
    "    print('Month is March and number of Days are 31')\n",
    "    \n",
    "elif num == 4:\n",
    "    print('Month is April and number of Days are 30')\n",
    "    \n",
    "elif num == 5:\n",
    "    print('Month is May and number of Days are 31')\n",
    "    \n",
    "elif num == 6:\n",
    "    print('Month is June and number of Days are 30')\n",
    "    \n",
    "elif num == 7:\n",
    "    print('Month is July and number of Days are 31')\n",
    "    \n",
    "elif num == 8:\n",
    "    print('Month is August and number of Days are 31')\n",
    "    \n",
    "elif num == 9:\n",
    "    print('Month is September and number of Days are 30')\n",
    "\n",
    "elif num == 10:\n",
    "    print('Month is October and number of Days are 31')\n",
    "    \n",
    "elif num == 11:\n",
    "    print('Month is November and number of Days are 30')\n",
    "    \n",
    "elif num == 12:\n",
    "    print('Month is December and number of Days are 31')\n",
    "    \n",
    "else:\n",
    "    print('Out of Range')"
   ]
  },
  {
   "cell_type": "code",
   "execution_count": 14,
   "id": "fd99d938",
   "metadata": {},
   "outputs": [
    {
     "name": "stdout",
     "output_type": "stream",
     "text": [
      "The List of Cities are:  ['Delhi', 'Mumbai', 'Agra', 'Jaipur', 'Pune', 'Gaya', 'Lucknow']\n",
      "Enter the name of Given city: delhi\n",
      "Monument is : Red Fort\n"
     ]
    }
   ],
   "source": [
    "# Accept any city from the user and display monumnet of that city.\n",
    "# City--------------------> Monument\n",
    "# Delhi-------------------> Red Fort\n",
    "# Agra -------------------> Tajmahal\n",
    "# Jaipur------------------> Jal Mahal\n",
    "# Pune--------------------> Shaniwar wada\n",
    "# Mumbai -----------------> India Gate\n",
    "# Gaya -------------------> BodhGaya\n",
    "# Lucknow ----------------> Bara Immambara\n",
    "\n",
    "new_list = ['Delhi','Mumbai','Agra','Jaipur','Pune','Gaya','Lucknow']\n",
    "print('The List of Cities are: ',new_list)\n",
    "\n",
    "city=input('Enter the name of Given city: ')\n",
    "\n",
    "if city.lower() == 'delhi':\n",
    "    print('Monument is : Red Fort')\n",
    "    \n",
    "elif city.lower() == 'agra':\n",
    "    print('Monument is : Taj Mahal')\n",
    "elif city.lower() == 'mumbai':\n",
    "    print('Monument is : Gateway of India')\n",
    "    \n",
    "elif city.lower() =='jaipur':\n",
    "    print('Monument is : Jal Mahal')\n",
    "elif city.lower() =='pune':\n",
    "    print('Monument is : Shaniwar Bada')\n",
    "elif city.lower() == 'Gaya':\n",
    "    print('Monument is : Body-Gaya')\n",
    "elif city.lower() == 'lucknow':\n",
    "    print('Monument is : Bada Immambada')\n",
    "    \n",
    "else:\n",
    "    print('Please! Enter Correct City Name')"
   ]
  },
  {
   "cell_type": "code",
   "execution_count": 15,
   "id": "14f03ecd",
   "metadata": {},
   "outputs": [
    {
     "name": "stdout",
     "output_type": "stream",
     "text": [
      "Enter your age: 60\n",
      "You are a senior citizen\n"
     ]
    }
   ],
   "source": [
    "# write a program to check whether a person is senior citizen or not?\n",
    "\n",
    "# >=60 -----------------> Senior citizen\n",
    "# >=45 and <60----------> Adult\n",
    "# >=18 amd <45----------> Youth\n",
    "# >=15 and <18 ---------> Teenager\n",
    "# below 15--------------> Child\n",
    "age = int(input('Enter your age: '))\n",
    "\n",
    "if age >= 60 and age!=101:\n",
    "    print('You are a senior citizen')\n",
    "    \n",
    "elif age >= 45 and age<60:\n",
    "    print('You are an adult')\n",
    "    \n",
    "elif age>=18 and age<45:\n",
    "    print('You are youth')\n",
    "elif age>=15 and age<18:\n",
    "    print('You are Teenager')\n",
    "else:\n",
    "    print('You are a child')"
   ]
  },
  {
   "cell_type": "code",
   "execution_count": null,
   "id": "79c7f98f",
   "metadata": {},
   "outputs": [],
   "source": []
  }
 ],
 "metadata": {
  "kernelspec": {
   "display_name": "Python 3 (ipykernel)",
   "language": "python",
   "name": "python3"
  },
  "language_info": {
   "codemirror_mode": {
    "name": "ipython",
    "version": 3
   },
   "file_extension": ".py",
   "mimetype": "text/x-python",
   "name": "python",
   "nbconvert_exporter": "python",
   "pygments_lexer": "ipython3",
   "version": "3.9.13"
  }
 },
 "nbformat": 4,
 "nbformat_minor": 5
}
