{
 "cells": [
  {
   "cell_type": "code",
   "execution_count": 1,
   "id": "11737afe",
   "metadata": {},
   "outputs": [
    {
     "data": {
      "text/plain": [
       "'Hello Word'"
      ]
     },
     "execution_count": 1,
     "metadata": {},
     "output_type": "execute_result"
    }
   ],
   "source": [
    "'Hello Word'"
   ]
  },
  {
   "cell_type": "code",
   "execution_count": 2,
   "id": "63940baa",
   "metadata": {},
   "outputs": [
    {
     "data": {
      "text/plain": [
       "'1 2 3 4 5 6'"
      ]
     },
     "execution_count": 2,
     "metadata": {},
     "output_type": "execute_result"
    }
   ],
   "source": [
    "'1 2 3 4 5 6'"
   ]
  },
  {
   "cell_type": "code",
   "execution_count": 3,
   "id": "a0777335",
   "metadata": {},
   "outputs": [
    {
     "data": {
      "text/plain": [
       "'@ ! $ % ^ & *'"
      ]
     },
     "execution_count": 3,
     "metadata": {},
     "output_type": "execute_result"
    }
   ],
   "source": [
    "'@ ! $ % ^ & *'"
   ]
  },
  {
   "cell_type": "code",
   "execution_count": 4,
   "id": "75db2191",
   "metadata": {},
   "outputs": [
    {
     "name": "stdout",
     "output_type": "stream",
     "text": [
      "Hello World\n"
     ]
    }
   ],
   "source": [
    "print('Hello World')"
   ]
  },
  {
   "cell_type": "code",
   "execution_count": 5,
   "id": "28f099ef",
   "metadata": {},
   "outputs": [
    {
     "name": "stdout",
     "output_type": "stream",
     "text": [
      "Hello World\n"
     ]
    }
   ],
   "source": [
    "# Assigning a string to a variable 'Message'\n",
    "\n",
    "message='Hello World'\n",
    "print(message)"
   ]
  },
  {
   "cell_type": "markdown",
   "id": "c0718198",
   "metadata": {},
   "source": [
    "# Indexing of a string"
   ]
  },
  {
   "cell_type": "code",
   "execution_count": 19,
   "id": "29cdc531",
   "metadata": {},
   "outputs": [
    {
     "name": "stdout",
     "output_type": "stream",
     "text": [
      "H\n",
      "e\n",
      "l\n",
      "l\n",
      "o\n",
      " \n",
      "W\n",
      "o\n",
      "r\n",
      "l\n",
      "d\n"
     ]
    }
   ],
   "source": [
    "# Positive indexing \n",
    "message='Hello World'\n",
    "\n",
    "print(message[0])\n",
    "print(message[1])\n",
    "print(message[2])\n",
    "print(message[3])\n",
    "print(message[4])\n",
    "print(message[5])\n",
    "print(message[6])\n",
    "print(message[7])\n",
    "print(message[8])\n",
    "print(message[9])\n",
    "print(message[10])"
   ]
  },
  {
   "cell_type": "code",
   "execution_count": 21,
   "id": "452a90dd",
   "metadata": {},
   "outputs": [
    {
     "name": "stdout",
     "output_type": "stream",
     "text": [
      "d\n",
      "l\n",
      "r\n",
      "o\n",
      "W\n",
      " \n",
      "o\n",
      "l\n",
      "l\n",
      "e\n",
      "H\n"
     ]
    }
   ],
   "source": [
    "# Negative indexing\n",
    "message='Hello World'\n",
    "\n",
    "print(message[-1])\n",
    "print(message[-2])\n",
    "print(message[-3])\n",
    "print(message[-4])\n",
    "print(message[-5])\n",
    "print(message[-6])\n",
    "print(message[-7])\n",
    "print(message[-8])\n",
    "print(message[-9])\n",
    "print(message[-10])\n",
    "print(message[-11])"
   ]
  },
  {
   "cell_type": "markdown",
   "id": "0f1cf6b3",
   "metadata": {},
   "source": [
    "# Slicing of a string"
   ]
  },
  {
   "cell_type": "code",
   "execution_count": 27,
   "id": "8a11bc9a",
   "metadata": {},
   "outputs": [
    {
     "data": {
      "text/plain": [
       "'Amey '"
      ]
     },
     "execution_count": 27,
     "metadata": {},
     "output_type": "execute_result"
    }
   ],
   "source": [
    "msg='Amey Lonker'\n",
    "\n",
    "msg[0:5]"
   ]
  },
  {
   "cell_type": "code",
   "execution_count": 30,
   "id": "fc45a12a",
   "metadata": {},
   "outputs": [
    {
     "data": {
      "text/plain": [
       "'onke'"
      ]
     },
     "execution_count": 30,
     "metadata": {},
     "output_type": "execute_result"
    }
   ],
   "source": [
    "msg[6:10]"
   ]
  },
  {
   "cell_type": "code",
   "execution_count": 38,
   "id": "d557e034",
   "metadata": {},
   "outputs": [
    {
     "data": {
      "text/plain": [
       "(1, 5, 9)"
      ]
     },
     "execution_count": 38,
     "metadata": {},
     "output_type": "execute_result"
    }
   ],
   "source": [
    "# Printing step value\n",
    "msg1=(1, 2, 3, 4, 5, 6, 7, 8, 9)\n",
    "msg1[::4]"
   ]
  },
  {
   "cell_type": "markdown",
   "id": "7ca45286",
   "metadata": {},
   "source": [
    "# Concatenate of strings."
   ]
  },
  {
   "cell_type": "code",
   "execution_count": 41,
   "id": "e2178451",
   "metadata": {},
   "outputs": [
    {
     "name": "stdout",
     "output_type": "stream",
     "text": [
      "hello world How many people are living on the earth?\n"
     ]
    }
   ],
   "source": [
    "message='hello world '\n",
    "question = 'How many people are living on the earth?'\n",
    "statement = message+question\n",
    "print(statement)"
   ]
  },
  {
   "cell_type": "code",
   "execution_count": 43,
   "id": "f044b9c5",
   "metadata": {},
   "outputs": [
    {
     "name": "stdout",
     "output_type": "stream",
     "text": [
      "Amey Lonkar\n"
     ]
    }
   ],
   "source": [
    "a= 'Amey'\n",
    "b= ' Lonkar'\n",
    "c=a+b\n",
    "print(c)"
   ]
  },
  {
   "cell_type": "code",
   "execution_count": 46,
   "id": "c46466f3",
   "metadata": {},
   "outputs": [
    {
     "data": {
      "text/plain": [
       "'Amey Lonkar Amey Lonkar Amey Lonkar Amey Lonkar Amey Lonkar '"
      ]
     },
     "execution_count": 46,
     "metadata": {},
     "output_type": "execute_result"
    }
   ],
   "source": [
    "# Printing a string 5 times.\n",
    "\n",
    "5*'Amey Lonkar '"
   ]
  },
  {
   "cell_type": "code",
   "execution_count": 47,
   "id": "06c65133",
   "metadata": {},
   "outputs": [
    {
     "data": {
      "text/plain": [
       "'%'"
      ]
     },
     "execution_count": 47,
     "metadata": {},
     "output_type": "execute_result"
    }
   ],
   "source": [
    "'%'"
   ]
  },
  {
   "cell_type": "markdown",
   "id": "4cf6ed74",
   "metadata": {},
   "source": [
    "# Escape Sequence"
   ]
  },
  {
   "cell_type": "code",
   "execution_count": 52,
   "id": "799c9e48",
   "metadata": {},
   "outputs": [
    {
     "name": "stdout",
     "output_type": "stream",
     "text": [
      "\\\\\\\n"
     ]
    }
   ],
   "source": [
    "print('\\\\\\\\\\\\')"
   ]
  },
  {
   "cell_type": "code",
   "execution_count": 53,
   "id": "da18f478",
   "metadata": {},
   "outputs": [
    {
     "name": "stdout",
     "output_type": "stream",
     "text": [
      "hello world\n",
      "How many people are living on the earth?\n"
     ]
    }
   ],
   "source": [
    "print('hello world')\n",
    "print('How many people are living on the earth?')"
   ]
  },
  {
   "cell_type": "code",
   "execution_count": 56,
   "id": "47d5de6b",
   "metadata": {},
   "outputs": [
    {
     "name": "stdout",
     "output_type": "stream",
     "text": [
      "Hello World\n",
      "How many people are living on the earth?\n"
     ]
    }
   ],
   "source": [
    "#\\n--------> New line\n",
    "print('Hello World\\nHow many people are living on the earth?') "
   ]
  },
  {
   "cell_type": "code",
   "execution_count": 58,
   "id": "9c7d757e",
   "metadata": {},
   "outputs": [
    {
     "name": "stdout",
     "output_type": "stream",
     "text": [
      "Hello World\tHow many people are living on the earth?\n"
     ]
    }
   ],
   "source": [
    "# \\t-----------> tab\n",
    "print('Hello World\\tHow many people are living on the earth?')"
   ]
  },
  {
   "cell_type": "markdown",
   "id": "acd94112",
   "metadata": {},
   "source": [
    "# String operation"
   ]
  },
  {
   "cell_type": "code",
   "execution_count": 74,
   "id": "929c3c48",
   "metadata": {},
   "outputs": [
    {
     "name": "stdout",
     "output_type": "stream",
     "text": [
      "Hello world\n",
      "hello world\n",
      "HELLO WORLD\n",
      "3\n",
      "4\n"
     ]
    }
   ],
   "source": [
    "a='hello world'\n",
    "print(a.capitalize())\n",
    "print(a.lower())\n",
    "print(a.upper())\n",
    "print(a.count('l'))\n",
    "print(a.find('o'))"
   ]
  },
  {
   "cell_type": "code",
   "execution_count": 76,
   "id": "82547f07",
   "metadata": {},
   "outputs": [
    {
     "name": "stdout",
     "output_type": "stream",
     "text": [
      "['01', '02', '2023']\n"
     ]
    }
   ],
   "source": [
    "b='01/02/2023'\n",
    "print(b.split('/'))\n",
    "\n"
   ]
  },
  {
   "cell_type": "code",
   "execution_count": 77,
   "id": "fcb7f6ea",
   "metadata": {},
   "outputs": [
    {
     "name": "stdout",
     "output_type": "stream",
     "text": [
      "True\n"
     ]
    }
   ],
   "source": [
    "c='abc123'\n",
    "\n",
    "print(c.isalnum())"
   ]
  },
  {
   "cell_type": "code",
   "execution_count": 82,
   "id": "35429060",
   "metadata": {},
   "outputs": [
    {
     "data": {
      "text/plain": [
       "True"
      ]
     },
     "execution_count": 82,
     "metadata": {},
     "output_type": "execute_result"
    }
   ],
   "source": [
    "s='fff123'\n",
    "s.isalnum()"
   ]
  },
  {
   "cell_type": "code",
   "execution_count": 85,
   "id": "794b4b2f",
   "metadata": {},
   "outputs": [
    {
     "name": "stdout",
     "output_type": "stream",
     "text": [
      "True\n"
     ]
    }
   ],
   "source": [
    "g='HELLO WORLD'\n",
    "\n",
    "print(g.isupper())"
   ]
  },
  {
   "cell_type": "code",
   "execution_count": 89,
   "id": "32697ad6",
   "metadata": {},
   "outputs": [
    {
     "name": "stdout",
     "output_type": "stream",
     "text": [
      "Before uppercase:  hello python!\n",
      "After uppercase:  HELLO PYTHON!\n",
      "After Lower:  hello python!\n"
     ]
    }
   ],
   "source": [
    "message='hello python!'\n",
    "print('Before uppercase: ',message)\n",
    "\n",
    "message_upper=message.upper()\n",
    "print('After uppercase: ',message_upper)\n",
    "\n",
    "message_lower=message.lower()\n",
    "print('After Lower: ',message_lower)"
   ]
  },
  {
   "cell_type": "code",
   "execution_count": null,
   "id": "5d7021a4",
   "metadata": {},
   "outputs": [],
   "source": []
  }
 ],
 "metadata": {
  "kernelspec": {
   "display_name": "Python 3 (ipykernel)",
   "language": "python",
   "name": "python3"
  },
  "language_info": {
   "codemirror_mode": {
    "name": "ipython",
    "version": 3
   },
   "file_extension": ".py",
   "mimetype": "text/x-python",
   "name": "python",
   "nbconvert_exporter": "python",
   "pygments_lexer": "ipython3",
   "version": "3.9.7"
  }
 },
 "nbformat": 4,
 "nbformat_minor": 5
}
