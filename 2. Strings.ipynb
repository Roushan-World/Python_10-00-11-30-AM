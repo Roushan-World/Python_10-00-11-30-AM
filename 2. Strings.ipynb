{
 "cells": [
  {
   "cell_type": "code",
   "execution_count": 1,
   "id": "11737afe",
   "metadata": {},
   "outputs": [
    {
     "data": {
      "text/plain": [
       "'Hello Word'"
      ]
     },
     "execution_count": 1,
     "metadata": {},
     "output_type": "execute_result"
    }
   ],
   "source": [
    "'Hello Word'"
   ]
  },
  {
   "cell_type": "code",
   "execution_count": 2,
   "id": "63940baa",
   "metadata": {},
   "outputs": [
    {
     "data": {
      "text/plain": [
       "'1 2 3 4 5 6'"
      ]
     },
     "execution_count": 2,
     "metadata": {},
     "output_type": "execute_result"
    }
   ],
   "source": [
    "'1 2 3 4 5 6'"
   ]
  },
  {
   "cell_type": "code",
   "execution_count": 3,
   "id": "a0777335",
   "metadata": {},
   "outputs": [
    {
     "data": {
      "text/plain": [
       "'@ ! $ % ^ & *'"
      ]
     },
     "execution_count": 3,
     "metadata": {},
     "output_type": "execute_result"
    }
   ],
   "source": [
    "'@ ! $ % ^ & *'"
   ]
  },
  {
   "cell_type": "code",
   "execution_count": 4,
   "id": "75db2191",
   "metadata": {},
   "outputs": [
    {
     "name": "stdout",
     "output_type": "stream",
     "text": [
      "Hello World\n"
     ]
    }
   ],
   "source": [
    "print('Hello World')"
   ]
  },
  {
   "cell_type": "code",
   "execution_count": 5,
   "id": "28f099ef",
   "metadata": {},
   "outputs": [
    {
     "name": "stdout",
     "output_type": "stream",
     "text": [
      "Hello World\n"
     ]
    }
   ],
   "source": [
    "# Assigning a string to a variable 'Message'\n",
    "\n",
    "message='Hello World'\n",
    "print(message)"
   ]
  },
  {
   "cell_type": "markdown",
   "id": "c0718198",
   "metadata": {},
   "source": [
    "# Indexing of a string"
   ]
  },
  {
   "cell_type": "code",
   "execution_count": 19,
   "id": "29cdc531",
   "metadata": {},
   "outputs": [
    {
     "name": "stdout",
     "output_type": "stream",
     "text": [
      "H\n",
      "e\n",
      "l\n",
      "l\n",
      "o\n",
      " \n",
      "W\n",
      "o\n",
      "r\n",
      "l\n",
      "d\n"
     ]
    }
   ],
   "source": [
    "# Positive indexing \n",
    "message='Hello World'\n",
    "\n",
    "print(message[0])\n",
    "print(message[1])\n",
    "print(message[2])\n",
    "print(message[3])\n",
    "print(message[4])\n",
    "print(message[5])\n",
    "print(message[6])\n",
    "print(message[7])\n",
    "print(message[8])\n",
    "print(message[9])\n",
    "print(message[10])"
   ]
  },
  {
   "cell_type": "code",
   "execution_count": 21,
   "id": "452a90dd",
   "metadata": {},
   "outputs": [
    {
     "name": "stdout",
     "output_type": "stream",
     "text": [
      "d\n",
      "l\n",
      "r\n",
      "o\n",
      "W\n",
      " \n",
      "o\n",
      "l\n",
      "l\n",
      "e\n",
      "H\n"
     ]
    }
   ],
   "source": [
    "# Negative indexing\n",
    "message='Hello World'\n",
    "\n",
    "print(message[-1])\n",
    "print(message[-2])\n",
    "print(message[-3])\n",
    "print(message[-4])\n",
    "print(message[-5])\n",
    "print(message[-6])\n",
    "print(message[-7])\n",
    "print(message[-8])\n",
    "print(message[-9])\n",
    "print(message[-10])\n",
    "print(message[-11])"
   ]
  },
  {
   "cell_type": "markdown",
   "id": "0f1cf6b3",
   "metadata": {},
   "source": [
    "# Slicing of a string"
   ]
  },
  {
   "cell_type": "code",
   "execution_count": 27,
   "id": "8a11bc9a",
   "metadata": {},
   "outputs": [
    {
     "data": {
      "text/plain": [
       "'Amey '"
      ]
     },
     "execution_count": 27,
     "metadata": {},
     "output_type": "execute_result"
    }
   ],
   "source": [
    "msg='Amey Lonker'\n",
    "\n",
    "msg[0:5]"
   ]
  },
  {
   "cell_type": "code",
   "execution_count": 30,
   "id": "fc45a12a",
   "metadata": {},
   "outputs": [
    {
     "data": {
      "text/plain": [
       "'onke'"
      ]
     },
     "execution_count": 30,
     "metadata": {},
     "output_type": "execute_result"
    }
   ],
   "source": [
    "msg[6:10]"
   ]
  },
  {
   "cell_type": "code",
   "execution_count": 38,
   "id": "d557e034",
   "metadata": {},
   "outputs": [
    {
     "data": {
      "text/plain": [
       "(1, 5, 9)"
      ]
     },
     "execution_count": 38,
     "metadata": {},
     "output_type": "execute_result"
    }
   ],
   "source": [
    "# Printing step value\n",
    "msg1=(1, 2, 3, 4, 5, 6, 7, 8, 9)\n",
    "msg1[::4]"
   ]
  },
  {
   "cell_type": "markdown",
   "id": "7ca45286",
   "metadata": {},
   "source": [
    "# Concatenate of strings."
   ]
  },
  {
   "cell_type": "code",
   "execution_count": 41,
   "id": "e2178451",
   "metadata": {},
   "outputs": [
    {
     "name": "stdout",
     "output_type": "stream",
     "text": [
      "hello world How many people are living on the earth?\n"
     ]
    }
   ],
   "source": [
    "message='hello world '\n",
    "question = 'How many people are living on the earth?'\n",
    "statement = message+question\n",
    "print(statement)"
   ]
  },
  {
   "cell_type": "code",
   "execution_count": 43,
   "id": "f044b9c5",
   "metadata": {},
   "outputs": [
    {
     "name": "stdout",
     "output_type": "stream",
     "text": [
      "Amey Lonkar\n"
     ]
    }
   ],
   "source": [
    "a= 'Amey'\n",
    "b= ' Lonkar'\n",
    "c=a+b\n",
    "print(c)"
   ]
  },
  {
   "cell_type": "code",
   "execution_count": 46,
   "id": "c46466f3",
   "metadata": {},
   "outputs": [
    {
     "data": {
      "text/plain": [
       "'Amey Lonkar Amey Lonkar Amey Lonkar Amey Lonkar Amey Lonkar '"
      ]
     },
     "execution_count": 46,
     "metadata": {},
     "output_type": "execute_result"
    }
   ],
   "source": [
    "# Printing a string 5 times.\n",
    "\n",
    "5*'Amey Lonkar '"
   ]
  },
  {
   "cell_type": "code",
   "execution_count": 47,
   "id": "06c65133",
   "metadata": {},
   "outputs": [
    {
     "data": {
      "text/plain": [
       "'%'"
      ]
     },
     "execution_count": 47,
     "metadata": {},
     "output_type": "execute_result"
    }
   ],
   "source": [
    "'%'"
   ]
  },
  {
   "cell_type": "markdown",
   "id": "4cf6ed74",
   "metadata": {},
   "source": [
    "# Escape Sequence"
   ]
  },
  {
   "cell_type": "code",
   "execution_count": 52,
   "id": "799c9e48",
   "metadata": {},
   "outputs": [
    {
     "name": "stdout",
     "output_type": "stream",
     "text": [
      "\\\\\\\n"
     ]
    }
   ],
   "source": [
    "print('\\\\\\\\\\\\')"
   ]
  },
  {
   "cell_type": "code",
   "execution_count": 53,
   "id": "da18f478",
   "metadata": {},
   "outputs": [
    {
     "name": "stdout",
     "output_type": "stream",
     "text": [
      "hello world\n",
      "How many people are living on the earth?\n"
     ]
    }
   ],
   "source": [
    "print('hello world')\n",
    "print('How many people are living on the earth?')"
   ]
  },
  {
   "cell_type": "code",
   "execution_count": 56,
   "id": "47d5de6b",
   "metadata": {},
   "outputs": [
    {
     "name": "stdout",
     "output_type": "stream",
     "text": [
      "Hello World\n",
      "How many people are living on the earth?\n"
     ]
    }
   ],
   "source": [
    "#\\n--------> New line\n",
    "print('Hello World\\nHow many people are living on the earth?') "
   ]
  },
  {
   "cell_type": "code",
   "execution_count": 58,
   "id": "9c7d757e",
   "metadata": {},
   "outputs": [
    {
     "name": "stdout",
     "output_type": "stream",
     "text": [
      "Hello World\tHow many people are living on the earth?\n"
     ]
    }
   ],
   "source": [
    "# \\t-----------> tab\n",
    "print('Hello World\\tHow many people are living on the earth?')"
   ]
  },
  {
   "cell_type": "markdown",
   "id": "acd94112",
   "metadata": {},
   "source": [
    "# String operation"
   ]
  },
  {
   "cell_type": "code",
   "execution_count": 74,
   "id": "929c3c48",
   "metadata": {},
   "outputs": [
    {
     "name": "stdout",
     "output_type": "stream",
     "text": [
      "Hello world\n",
      "hello world\n",
      "HELLO WORLD\n",
      "3\n",
      "4\n"
     ]
    }
   ],
   "source": [
    "a='hello world'\n",
    "print(a.capitalize())\n",
    "print(a.lower())\n",
    "print(a.upper())\n",
    "print(a.count('l'))\n",
    "print(a.find('o'))"
   ]
  },
  {
   "cell_type": "code",
   "execution_count": 76,
   "id": "82547f07",
   "metadata": {},
   "outputs": [
    {
     "name": "stdout",
     "output_type": "stream",
     "text": [
      "['01', '02', '2023']\n"
     ]
    }
   ],
   "source": [
    "b='01/02/2023'\n",
    "print(b.split('/'))\n",
    "\n"
   ]
  },
  {
   "cell_type": "code",
   "execution_count": 77,
   "id": "fcb7f6ea",
   "metadata": {},
   "outputs": [
    {
     "name": "stdout",
     "output_type": "stream",
     "text": [
      "True\n"
     ]
    }
   ],
   "source": [
    "c='abc123'\n",
    "\n",
    "print(c.isalnum())"
   ]
  },
  {
   "cell_type": "code",
   "execution_count": 82,
   "id": "35429060",
   "metadata": {},
   "outputs": [
    {
     "data": {
      "text/plain": [
       "True"
      ]
     },
     "execution_count": 82,
     "metadata": {},
     "output_type": "execute_result"
    }
   ],
   "source": [
    "s='fff123'\n",
    "s.isalnum()"
   ]
  },
  {
   "cell_type": "code",
   "execution_count": 85,
   "id": "794b4b2f",
   "metadata": {},
   "outputs": [
    {
     "name": "stdout",
     "output_type": "stream",
     "text": [
      "True\n"
     ]
    }
   ],
   "source": [
    "g='HELLO WORLD'\n",
    "\n",
    "print(g.isupper())"
   ]
  },
  {
   "cell_type": "code",
   "execution_count": 89,
   "id": "32697ad6",
   "metadata": {},
   "outputs": [
    {
     "name": "stdout",
     "output_type": "stream",
     "text": [
      "Before uppercase:  hello python!\n",
      "After uppercase:  HELLO PYTHON!\n",
      "After Lower:  hello python!\n"
     ]
    }
   ],
   "source": [
    "message='hello python!'\n",
    "print('Before uppercase: ',message)\n",
    "\n",
    "message_upper=message.upper()\n",
    "print('After uppercase: ',message_upper)\n",
    "\n",
    "message_lower=message.lower()\n",
    "print('After Lower: ',message_lower)"
   ]
  },
  {
   "cell_type": "code",
   "execution_count": 2,
   "id": "5d7021a4",
   "metadata": {},
   "outputs": [
    {
     "name": "stdout",
     "output_type": "stream",
     "text": [
      "Hi Python!\n",
      "Hello World!\n"
     ]
    }
   ],
   "source": [
    "#replace() method in a string\n",
    "\n",
    "message = 'Hello Python!'\n",
    "\n",
    "message_hi = message.replace('Hello','Hi')\n",
    "message_python = message.replace('Python','World')\n",
    "print(message_hi)\n",
    "print(message_python)"
   ]
  },
  {
   "cell_type": "code",
   "execution_count": 3,
   "id": "244abb16",
   "metadata": {},
   "outputs": [
    {
     "name": "stdout",
     "output_type": "stream",
     "text": [
      "Amey Rao\n"
     ]
    }
   ],
   "source": [
    "msg='Amey Lonkar'\n",
    "\n",
    "msg_1=msg.replace('Lonkar','Rao')\n",
    "print(msg_1)"
   ]
  },
  {
   "cell_type": "code",
   "execution_count": 10,
   "id": "98bcf2e4",
   "metadata": {},
   "outputs": [
    {
     "name": "stdout",
     "output_type": "stream",
     "text": [
      "6\n"
     ]
    }
   ],
   "source": [
    "# find() method application in a string.\n",
    "\n",
    "message= \"Hello World\"\n",
    "\n",
    "print(message.find('Wo'))\n",
    "\n",
    "# the output is the index number of the first element of the substring."
   ]
  },
  {
   "cell_type": "code",
   "execution_count": 12,
   "id": "df0d68fb",
   "metadata": {},
   "outputs": [
    {
     "name": "stdout",
     "output_type": "stream",
     "text": [
      "-1\n",
      "39\n"
     ]
    }
   ],
   "source": [
    "text='Jean-Paul Sartre was born in 1905. His father, a navy captain, died when he was a baby – and he grew up extremely close to his mother until she remarried, much to his regret, when he was twelve. Sartre spent most of his life in Paris, where he often went to cafes on the Left Bank and sat on benches in the Jardin du Luxembourg. He had a strabismus, a wandering eye, and wore distinctive, heavy glasses. He was awarded the 1964 Nobel Prize for literature, but refused it on the grounds that the award was capitalist and bourgeois. He was very short (five feet three inches) and frequently described himself as ugly. He wore his hair vigorously brushed back. When he died in 1980 (aged 74), 50,000 people accompanied his coffin through the streets of Paris'\n",
    "\n",
    "# find the index of the substring 'Nancy'\n",
    "\n",
    "print(text.find('Nancy'))\n",
    "print(text.find('father'))"
   ]
  },
  {
   "cell_type": "code",
   "execution_count": 13,
   "id": "528c7074",
   "metadata": {},
   "outputs": [
    {
     "data": {
      "text/plain": [
       "'jean-paul sartre was born in 1905. his father, a navy captain, died when he was a baby – and he grew up extremely close to his mother until she remarried, much to his regret, when he was twelve. sartre spent most of his life in paris, where he often went to cafes on the left bank and sat on benches in the jardin du luxembourg. he had a strabismus, a wandering eye, and wore distinctive, heavy glasses. he was awarded the 1964 nobel prize for literature, but refused it on the grounds that the award was capitalist and bourgeois. he was very short (five feet three inches) and frequently described himself as ugly. he wore his hair vigorously brushed back. when he died in 1980 (aged 74), 50,000 people accompanied his coffin through the streets of paris'"
      ]
     },
     "execution_count": 13,
     "metadata": {},
     "output_type": "execute_result"
    }
   ],
   "source": [
    "# Convert the text to lower case.\n",
    "\n",
    "text.lower()"
   ]
  },
  {
   "cell_type": "code",
   "execution_count": 14,
   "id": "5924e411",
   "metadata": {},
   "outputs": [
    {
     "data": {
      "text/plain": [
       "'JEAN-PAUL SARTRE WAS BORN IN 1905. HIS FATHER, A NAVY CAPTAIN, DIED WHEN HE WAS A BABY – AND HE GREW UP EXTREMELY CLOSE TO HIS MOTHER UNTIL SHE REMARRIED, MUCH TO HIS REGRET, WHEN HE WAS TWELVE. SARTRE SPENT MOST OF HIS LIFE IN PARIS, WHERE HE OFTEN WENT TO CAFES ON THE LEFT BANK AND SAT ON BENCHES IN THE JARDIN DU LUXEMBOURG. HE HAD A STRABISMUS, A WANDERING EYE, AND WORE DISTINCTIVE, HEAVY GLASSES. HE WAS AWARDED THE 1964 NOBEL PRIZE FOR LITERATURE, BUT REFUSED IT ON THE GROUNDS THAT THE AWARD WAS CAPITALIST AND BOURGEOIS. HE WAS VERY SHORT (FIVE FEET THREE INCHES) AND FREQUENTLY DESCRIBED HIMSELF AS UGLY. HE WORE HIS HAIR VIGOROUSLY BRUSHED BACK. WHEN HE DIED IN 1980 (AGED 74), 50,000 PEOPLE ACCOMPANIED HIS COFFIN THROUGH THE STREETS OF PARIS'"
      ]
     },
     "execution_count": 14,
     "metadata": {},
     "output_type": "execute_result"
    }
   ],
   "source": [
    "# Convert the text to upper case.\n",
    "\n",
    "text. upper()"
   ]
  },
  {
   "cell_type": "code",
   "execution_count": 15,
   "id": "e0a256c7",
   "metadata": {},
   "outputs": [
    {
     "data": {
      "text/plain": [
       "'Jean-paul sartre was born in 1905. his father, a navy captain, died when he was a baby – and he grew up extremely close to his mother until she remarried, much to his regret, when he was twelve. sartre spent most of his life in paris, where he often went to cafes on the left bank and sat on benches in the jardin du luxembourg. he had a strabismus, a wandering eye, and wore distinctive, heavy glasses. he was awarded the 1964 nobel prize for literature, but refused it on the grounds that the award was capitalist and bourgeois. he was very short (five feet three inches) and frequently described himself as ugly. he wore his hair vigorously brushed back. when he died in 1980 (aged 74), 50,000 people accompanied his coffin through the streets of paris'"
      ]
     },
     "execution_count": 15,
     "metadata": {},
     "output_type": "execute_result"
    }
   ],
   "source": [
    "# Convert the text to Capitalize\n",
    "\n",
    "text. capitalize()"
   ]
  },
  {
   "cell_type": "code",
   "execution_count": 17,
   "id": "436331f2",
   "metadata": {},
   "outputs": [
    {
     "data": {
      "text/plain": [
       "2"
      ]
     },
     "execution_count": 17,
     "metadata": {},
     "output_type": "execute_result"
    }
   ],
   "source": [
    "# Count() method returns the number of elements wuth the specified value.\n",
    "\n",
    "text.count('died')"
   ]
  },
  {
   "cell_type": "code",
   "execution_count": 26,
   "id": "f82b87be",
   "metadata": {},
   "outputs": [
    {
     "name": "stdout",
     "output_type": "stream",
     "text": [
      "Hello World\n",
      "Amey Lonkar\n",
      "Hi, My name is Amey Lonkar and I am 21 years old.\n",
      "Hi, My name is Amey Lonkar and I am 21 years old.\n",
      "Hi, My name is Amey Lonkar and I am 21 years old.\n"
     ]
    }
   ],
   "source": [
    "# format() method\n",
    "\n",
    "'''\n",
    "The format() method formats the specified value(s) and insert them inside the string's placeholder.\n",
    "The placeholder is defined using curly brackets.{}\n",
    "'''\n",
    "\n",
    "txt= 'Hello {word}'\n",
    "print(txt.format(word='World'))\n",
    "\n",
    "\n",
    "txt2= 'Amey {Lonker}'\n",
    "\n",
    "print(txt2.format(Lonker='Lonkar'))\n",
    "\n",
    "\n",
    "txt3= 'Hi, My name is {} and I am {} years old.'\n",
    "\n",
    "print (txt3.format('Amey Lonkar', 21))\n",
    "\n",
    "txt4='Hi, My name is {name} and I am {age} years old.'\n",
    "\n",
    "print(txt4.format(name='Amey Lonkar', age=21))\n",
    "\n",
    "\n",
    "txt5='Hi, My name is {0} and I am {1} years old.'\n",
    "print(txt5.format('Amey Lonkar',21))"
   ]
  },
  {
   "cell_type": "code",
   "execution_count": null,
   "id": "0ad58921",
   "metadata": {},
   "outputs": [],
   "source": []
  }
 ],
 "metadata": {
  "kernelspec": {
   "display_name": "Python 3 (ipykernel)",
   "language": "python",
   "name": "python3"
  },
  "language_info": {
   "codemirror_mode": {
    "name": "ipython",
    "version": 3
   },
   "file_extension": ".py",
   "mimetype": "text/x-python",
   "name": "python",
   "nbconvert_exporter": "python",
   "pygments_lexer": "ipython3",
   "version": "3.9.7"
  }
 },
 "nbformat": 4,
 "nbformat_minor": 5
}
