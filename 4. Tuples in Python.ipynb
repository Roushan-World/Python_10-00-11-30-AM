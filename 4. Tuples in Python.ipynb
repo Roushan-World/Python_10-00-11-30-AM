{
 "cells": [
  {
   "cell_type": "markdown",
   "id": "6f2f17f3",
   "metadata": {},
   "source": [
    "# 4. Tuples in Python\n"
   ]
  },
  {
   "cell_type": "markdown",
   "id": "ea77b9be",
   "metadata": {},
   "source": [
    " Tuples are immutable list and cannot be changed in any way once it is created.\n",
    " \n",
    " \n",
    "     * Tuples are defined in the same way as list.\n",
    "     * They are enclosed within parenthesis and not within square braces.\n",
    "     * Tuples are ordered, indexed collections of data.\n",
    "     * similar to string indices, the first value in the tuple will have the index[0], the second value [1]\n",
    "     * Negative indices are counted from the end of the tuple,just like lists.\n",
    "     * Tuple also has the same structure where commas separate the values.\n",
    "     * Tuples can store duplicate value.\n",
    "     * Tuples allow you to store several data items including string, integer, float in one variable."
   ]
  },
  {
   "cell_type": "code",
   "execution_count": 3,
   "id": "46241b9f",
   "metadata": {},
   "outputs": [
    {
     "data": {
      "text/plain": [
       "('Hello',\n",
       " 'Python',\n",
       " 3.14,\n",
       " 1.618,\n",
       " True,\n",
       " False,\n",
       " 32,\n",
       " [1, 2, 3],\n",
       " {1, 2, 3},\n",
       " {'A': '3', 'B': '8'},\n",
       " (0, 1))"
      ]
     },
     "execution_count": 3,
     "metadata": {},
     "output_type": "execute_result"
    }
   ],
   "source": [
    "# take a tuple\n",
    "\n",
    "tuple_1=('Hello','Python',3.14,1.618,True, False,32,[1,2,3],{1,2,3},{'A':'3','B':'8'},(0,1))\n",
    "tuple_1"
   ]
  },
  {
   "cell_type": "code",
   "execution_count": 2,
   "id": "365cc62e",
   "metadata": {},
   "outputs": [
    {
     "name": "stdout",
     "output_type": "stream",
     "text": [
      "<class 'tuple'>\n"
     ]
    }
   ],
   "source": [
    "print(type(tuple_1))"
   ]
  },
  {
   "cell_type": "code",
   "execution_count": 14,
   "id": "7ad327dd",
   "metadata": {},
   "outputs": [
    {
     "name": "stdout",
     "output_type": "stream",
     "text": [
      "<class 'str'>\n",
      "<class 'str'>\n",
      "<class 'float'>\n",
      "<class 'float'>\n",
      "<class 'bool'>\n",
      "<class 'bool'>\n",
      "<class 'int'>\n",
      "<class 'list'>\n",
      "<class 'set'>\n",
      "<class 'dict'>\n",
      "<class 'tuple'>\n"
     ]
    }
   ],
   "source": [
    "print(type(tuple_1[0]))\n",
    "print(type(tuple_1[1]))\n",
    "print(type(tuple_1[2]))\n",
    "print(type(tuple_1[3]))\n",
    "print(type(tuple_1[4]))\n",
    "print(type(tuple_1[5]))\n",
    "print(type(tuple_1[6]))\n",
    "print(type(tuple_1[7]))\n",
    "print(type(tuple_1[8]))\n",
    "print(type(tuple_1[9]))\n",
    "print(type(tuple_1[10]))"
   ]
  },
  {
   "cell_type": "markdown",
   "id": "db84e7e7",
   "metadata": {},
   "source": [
    "# Concatenation of tuples"
   ]
  },
  {
   "cell_type": "markdown",
   "id": "c364d3a4",
   "metadata": {},
   "source": [
    " To concatenate, + sign is used"
   ]
  },
  {
   "cell_type": "code",
   "execution_count": 15,
   "id": "1c5a0cf1",
   "metadata": {},
   "outputs": [
    {
     "name": "stdout",
     "output_type": "stream",
     "text": [
      "('Hello', 'Python', 3.14, 1.618, True, False, 32, [1, 2, 3], {1, 2, 3}, {'A': '3', 'B': '8'}, (0, 1), 'Hello World', 2023)\n"
     ]
    }
   ],
   "source": [
    "tuple_2=tuple_1+('Hello World',2023)\n",
    "\n",
    "print(tuple_2)"
   ]
  },
  {
   "cell_type": "markdown",
   "id": "654d246b",
   "metadata": {},
   "source": [
    "# Repetition of a tuple"
   ]
  },
  {
   "cell_type": "code",
   "execution_count": 16,
   "id": "096c7a99",
   "metadata": {},
   "outputs": [
    {
     "data": {
      "text/plain": [
       "(1, 2, 3, 4, 5, 1, 2, 3, 4, 5)"
      ]
     },
     "execution_count": 16,
     "metadata": {},
     "output_type": "execute_result"
    }
   ],
   "source": [
    "rep_tup=(1,2,3,4,5)\n",
    "\n",
    "rep_tup*2"
   ]
  },
  {
   "cell_type": "code",
   "execution_count": 20,
   "id": "617a6baf",
   "metadata": {},
   "outputs": [
    {
     "name": "stdout",
     "output_type": "stream",
     "text": [
      "True\n",
      "False\n",
      "False\n",
      "True\n"
     ]
    }
   ],
   "source": [
    "print(2 in rep_tup)\n",
    "print(2 not in rep_tup)\n",
    "print(8 in rep_tup)\n",
    "print(8 not in rep_tup)"
   ]
  },
  {
   "cell_type": "code",
   "execution_count": null,
   "id": "f6bee6b9",
   "metadata": {},
   "outputs": [],
   "source": []
  }
 ],
 "metadata": {
  "kernelspec": {
   "display_name": "Python 3 (ipykernel)",
   "language": "python",
   "name": "python3"
  },
  "language_info": {
   "codemirror_mode": {
    "name": "ipython",
    "version": 3
   },
   "file_extension": ".py",
   "mimetype": "text/x-python",
   "name": "python",
   "nbconvert_exporter": "python",
   "pygments_lexer": "ipython3",
   "version": "3.9.7"
  }
 },
 "nbformat": 4,
 "nbformat_minor": 5
}
