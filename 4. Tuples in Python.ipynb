{
 "cells": [
  {
   "cell_type": "markdown",
   "id": "6f2f17f3",
   "metadata": {},
   "source": [
    "# 4. Tuples in Python\n"
   ]
  },
  {
   "cell_type": "markdown",
   "id": "ea77b9be",
   "metadata": {},
   "source": [
    " Tuples are immutable list and cannot be changed in any way once it is created.\n",
    " \n",
    " \n",
    "     * Tuples are defined in the same way as list.\n",
    "     * They are enclosed within parenthesis and not within square braces.\n",
    "     * Tuples are ordered, indexed collections of data.\n",
    "     * similar to string indices, the first value in the tuple will have the index[0], the second value [1]\n",
    "     * Negative indices are counted from the end of the tuple,just like lists.\n",
    "     * Tuple also has the same structure where commas separate the values.\n",
    "     * Tuples can store duplicate value.\n",
    "     * Tuples allow you to store several data items including string, integer, float in one variable."
   ]
  },
  {
   "cell_type": "code",
   "execution_count": 3,
   "id": "46241b9f",
   "metadata": {},
   "outputs": [
    {
     "data": {
      "text/plain": [
       "('Hello',\n",
       " 'Python',\n",
       " 3.14,\n",
       " 1.618,\n",
       " True,\n",
       " False,\n",
       " 32,\n",
       " [1, 2, 3],\n",
       " {1, 2, 3},\n",
       " {'A': '3', 'B': '8'},\n",
       " (0, 1))"
      ]
     },
     "execution_count": 3,
     "metadata": {},
     "output_type": "execute_result"
    }
   ],
   "source": [
    "# take a tuple\n",
    "\n",
    "tuple_1=('Hello','Python',3.14,1.618,True, False,32,[1,2,3],{1,2,3},{'A':'3','B':'8'},(0,1))\n",
    "tuple_1"
   ]
  },
  {
   "cell_type": "code",
   "execution_count": 2,
   "id": "365cc62e",
   "metadata": {},
   "outputs": [
    {
     "name": "stdout",
     "output_type": "stream",
     "text": [
      "<class 'tuple'>\n"
     ]
    }
   ],
   "source": [
    "print(type(tuple_1))"
   ]
  },
  {
   "cell_type": "code",
   "execution_count": 14,
   "id": "7ad327dd",
   "metadata": {},
   "outputs": [
    {
     "name": "stdout",
     "output_type": "stream",
     "text": [
      "<class 'str'>\n",
      "<class 'str'>\n",
      "<class 'float'>\n",
      "<class 'float'>\n",
      "<class 'bool'>\n",
      "<class 'bool'>\n",
      "<class 'int'>\n",
      "<class 'list'>\n",
      "<class 'set'>\n",
      "<class 'dict'>\n",
      "<class 'tuple'>\n"
     ]
    }
   ],
   "source": [
    "print(type(tuple_1[0]))\n",
    "print(type(tuple_1[1]))\n",
    "print(type(tuple_1[2]))\n",
    "print(type(tuple_1[3]))\n",
    "print(type(tuple_1[4]))\n",
    "print(type(tuple_1[5]))\n",
    "print(type(tuple_1[6]))\n",
    "print(type(tuple_1[7]))\n",
    "print(type(tuple_1[8]))\n",
    "print(type(tuple_1[9]))\n",
    "print(type(tuple_1[10]))"
   ]
  },
  {
   "cell_type": "markdown",
   "id": "db84e7e7",
   "metadata": {},
   "source": [
    "# Concatenation of tuples"
   ]
  },
  {
   "cell_type": "markdown",
   "id": "c364d3a4",
   "metadata": {},
   "source": [
    " To concatenate, + sign is used"
   ]
  },
  {
   "cell_type": "code",
   "execution_count": 15,
   "id": "1c5a0cf1",
   "metadata": {},
   "outputs": [
    {
     "name": "stdout",
     "output_type": "stream",
     "text": [
      "('Hello', 'Python', 3.14, 1.618, True, False, 32, [1, 2, 3], {1, 2, 3}, {'A': '3', 'B': '8'}, (0, 1), 'Hello World', 2023)\n"
     ]
    }
   ],
   "source": [
    "tuple_2=tuple_1+('Hello World',2023)\n",
    "\n",
    "print(tuple_2)"
   ]
  },
  {
   "cell_type": "markdown",
   "id": "654d246b",
   "metadata": {},
   "source": [
    "# Repetition of a tuple"
   ]
  },
  {
   "cell_type": "code",
   "execution_count": 16,
   "id": "096c7a99",
   "metadata": {},
   "outputs": [
    {
     "data": {
      "text/plain": [
       "(1, 2, 3, 4, 5, 1, 2, 3, 4, 5)"
      ]
     },
     "execution_count": 16,
     "metadata": {},
     "output_type": "execute_result"
    }
   ],
   "source": [
    "rep_tup=(1,2,3,4,5)\n",
    "\n",
    "rep_tup*2"
   ]
  },
  {
   "cell_type": "code",
   "execution_count": 20,
   "id": "617a6baf",
   "metadata": {},
   "outputs": [
    {
     "name": "stdout",
     "output_type": "stream",
     "text": [
      "True\n",
      "False\n",
      "False\n",
      "True\n"
     ]
    }
   ],
   "source": [
    "print(2 in rep_tup)\n",
    "print(2 not in rep_tup)\n",
    "print(8 in rep_tup)\n",
    "print(8 not in rep_tup)"
   ]
  },
  {
   "cell_type": "markdown",
   "id": "5c8981f0",
   "metadata": {},
   "source": [
    "# Membership"
   ]
  },
  {
   "cell_type": "code",
   "execution_count": 4,
   "id": "9e3ca0ad",
   "metadata": {},
   "outputs": [
    {
     "name": "stdout",
     "output_type": "stream",
     "text": [
      "True\n",
      "False\n",
      "False\n",
      "True\n"
     ]
    }
   ],
   "source": [
    "rep_tup=(1,2,3,4)\n",
    "print(2 in rep_tup)\n",
    "print(2 not in rep_tup)\n",
    "print(5 in rep_tup)\n",
    "print(5 not in rep_tup)"
   ]
  },
  {
   "cell_type": "markdown",
   "id": "2d6f5363",
   "metadata": {},
   "source": [
    "# Iteration"
   ]
  },
  {
   "cell_type": "code",
   "execution_count": 5,
   "id": "ba872317",
   "metadata": {},
   "outputs": [
    {
     "name": "stdout",
     "output_type": "stream",
     "text": [
      "1\n",
      "2\n",
      "3\n",
      "4\n"
     ]
    }
   ],
   "source": [
    "rep_tup=(1,2,3,4)\n",
    "\n",
    "for i in rep_tup:\n",
    "    print(i)"
   ]
  },
  {
   "cell_type": "markdown",
   "id": "94a2d7b9",
   "metadata": {},
   "source": [
    "# cmp() function"
   ]
  },
  {
   "cell_type": "markdown",
   "id": "d275a4be",
   "metadata": {},
   "source": [
    "It is to compare two tuples and returns True or False."
   ]
  },
  {
   "cell_type": "code",
   "execution_count": 9,
   "id": "0efd71d9",
   "metadata": {},
   "outputs": [
    {
     "data": {
      "text/plain": [
       "-1"
      ]
     },
     "execution_count": 9,
     "metadata": {},
     "output_type": "execute_result"
    }
   ],
   "source": [
    "def cmp(t1,t2):\n",
    "    return bool(t1>t2)-bool(t1<t2)\n",
    "\n",
    "t1=(1,3,5)\n",
    "t2=(2,4,6)\n",
    "cmp(t1,t2)   # Here t1 is lower than t2, since output is -1"
   ]
  },
  {
   "cell_type": "markdown",
   "id": "9d27edc4",
   "metadata": {},
   "source": [
    "# max() function"
   ]
  },
  {
   "cell_type": "code",
   "execution_count": 10,
   "id": "68d50ec7",
   "metadata": {},
   "outputs": [
    {
     "name": "stdout",
     "output_type": "stream",
     "text": [
      "4\n",
      "1\n"
     ]
    }
   ],
   "source": [
    "rep_tup=(1,2,3,4)\n",
    "\n",
    "print(max(rep_tup))\n",
    "print(min(rep_tup))"
   ]
  },
  {
   "cell_type": "markdown",
   "id": "d6723753",
   "metadata": {},
   "source": [
    "# tup(seq) function"
   ]
  },
  {
   "cell_type": "markdown",
   "id": "32f9a21b",
   "metadata": {},
   "source": [
    "It converts a specific sequence to a tuple."
   ]
  },
  {
   "cell_type": "code",
   "execution_count": 11,
   "id": "2b91fefc",
   "metadata": {},
   "outputs": [
    {
     "data": {
      "text/plain": [
       "('A', 'm', 'e', 'y', 'L', 'o', 'n', 'k', 'a', 'r')"
      ]
     },
     "execution_count": 11,
     "metadata": {},
     "output_type": "execute_result"
    }
   ],
   "source": [
    "seq= 'AmeyLonkar'\n",
    "tuple(seq)"
   ]
  },
  {
   "cell_type": "markdown",
   "id": "ebca784c",
   "metadata": {},
   "source": [
    "# Slicing "
   ]
  },
  {
   "cell_type": "markdown",
   "id": "8189e2de",
   "metadata": {},
   "source": [
    "To obtain a new tuple from the current tuple, the slicing method is used."
   ]
  },
  {
   "cell_type": "code",
   "execution_count": 13,
   "id": "99734ae7",
   "metadata": {},
   "outputs": [
    {
     "data": {
      "text/plain": [
       "('Hello',\n",
       " 'Python',\n",
       " 3.14,\n",
       " 1.618,\n",
       " True,\n",
       " False,\n",
       " 32,\n",
       " [1, 2, 3],\n",
       " {1, 2, 3},\n",
       " {'A': '3', 'B': '8'},\n",
       " (0, 1))"
      ]
     },
     "execution_count": 13,
     "metadata": {},
     "output_type": "execute_result"
    }
   ],
   "source": [
    "# Obtaining a new tuple from the current tuple, the slicing method is used.\n",
    "\n",
    "tuple_1=('Hello','Python',3.14,1.618,True, False,32,[1,2,3],{1,2,3},{'A':'3','B':'8'},(0,1))\n",
    "tuple_1"
   ]
  },
  {
   "cell_type": "code",
   "execution_count": 14,
   "id": "bc36982e",
   "metadata": {},
   "outputs": [
    {
     "data": {
      "text/plain": [
       "(False,)"
      ]
     },
     "execution_count": 14,
     "metadata": {},
     "output_type": "execute_result"
    }
   ],
   "source": [
    "tuple_1[5:6]"
   ]
  },
  {
   "cell_type": "markdown",
   "id": "00ab9fd7",
   "metadata": {},
   "source": [
    "# len() function"
   ]
  },
  {
   "cell_type": "markdown",
   "id": "8006c593",
   "metadata": {},
   "source": [
    " To obtain how many elements there are in the tuple, use len() function."
   ]
  },
  {
   "cell_type": "code",
   "execution_count": 15,
   "id": "69369601",
   "metadata": {},
   "outputs": [
    {
     "data": {
      "text/plain": [
       "11"
      ]
     },
     "execution_count": 15,
     "metadata": {},
     "output_type": "execute_result"
    }
   ],
   "source": [
    "len(tuple_1)"
   ]
  },
  {
   "cell_type": "markdown",
   "id": "e17c8538",
   "metadata": {},
   "source": [
    "# Sorting tuple"
   ]
  },
  {
   "cell_type": "code",
   "execution_count": 17,
   "id": "998ef635",
   "metadata": {},
   "outputs": [
    {
     "data": {
      "text/plain": [
       "[0, 2, 3, 4, 4, 6, 6, 7, 7, 9]"
      ]
     },
     "execution_count": 17,
     "metadata": {},
     "output_type": "execute_result"
    }
   ],
   "source": [
    "# Tuple can be sorted and save as a new tuple.\n",
    "tuple_3=(0,9,7,4,6,2,4,3,6,7)\n",
    "sorted_tuple_3=sorted(tuple_3)\n",
    "sorted_tuple_3"
   ]
  },
  {
   "cell_type": "markdown",
   "id": "f38f0417",
   "metadata": {},
   "source": [
    "# Tuples are immutable"
   ]
  },
  {
   "cell_type": "code",
   "execution_count": 21,
   "id": "430a2e6a",
   "metadata": {},
   "outputs": [
    {
     "ename": "TypeError",
     "evalue": "'tuple' object does not support item assignment",
     "output_type": "error",
     "traceback": [
      "\u001b[1;31m---------------------------------------------------------------------------\u001b[0m",
      "\u001b[1;31mTypeError\u001b[0m                                 Traceback (most recent call last)",
      "\u001b[1;32mC:\\Users\\ROUSHA~1\\AppData\\Local\\Temp/ipykernel_12544/3215062993.py\u001b[0m in \u001b[0;36m<module>\u001b[1;34m\u001b[0m\n\u001b[0;32m      3\u001b[0m \u001b[0mtuple_4\u001b[0m\u001b[1;33m=\u001b[0m\u001b[1;33m(\u001b[0m\u001b[1;36m1\u001b[0m\u001b[1;33m,\u001b[0m\u001b[1;36m3\u001b[0m\u001b[1;33m,\u001b[0m\u001b[1;36m5\u001b[0m\u001b[1;33m,\u001b[0m\u001b[1;36m7\u001b[0m\u001b[1;33m,\u001b[0m\u001b[1;36m8\u001b[0m\u001b[1;33m)\u001b[0m\u001b[1;33m\u001b[0m\u001b[1;33m\u001b[0m\u001b[0m\n\u001b[0;32m      4\u001b[0m \u001b[1;33m\u001b[0m\u001b[0m\n\u001b[1;32m----> 5\u001b[1;33m \u001b[0mtuple_4\u001b[0m\u001b[1;33m[\u001b[0m\u001b[1;36m0\u001b[0m\u001b[1;33m]\u001b[0m\u001b[1;33m=\u001b[0m\u001b[1;36m9\u001b[0m\u001b[1;33m\u001b[0m\u001b[1;33m\u001b[0m\u001b[0m\n\u001b[0m\u001b[0;32m      6\u001b[0m \u001b[0mprint\u001b[0m\u001b[1;33m(\u001b[0m\u001b[0mtuple_4\u001b[0m\u001b[1;33m)\u001b[0m\u001b[1;33m\u001b[0m\u001b[1;33m\u001b[0m\u001b[0m\n",
      "\u001b[1;31mTypeError\u001b[0m: 'tuple' object does not support item assignment"
     ]
    }
   ],
   "source": [
    "# Take a tuple\n",
    "\n",
    "tuple_4=(1,3,5,7,8)\n",
    "\n",
    "tuple_4[0]=9\n",
    "print(tuple_4)"
   ]
  },
  {
   "cell_type": "markdown",
   "id": "337a19ff",
   "metadata": {},
   "source": [
    "# Delete a tuple\n",
    "\n",
    " * An element in a tuple can not be deleted since it is immutable.\n",
    " \n",
    " * But a Whole tuple can be deleted."
   ]
  },
  {
   "cell_type": "code",
   "execution_count": 22,
   "id": "12e97021",
   "metadata": {},
   "outputs": [
    {
     "name": "stdout",
     "output_type": "stream",
     "text": [
      "Before deleting: (1, 3, 5, 7, 8)\n"
     ]
    },
    {
     "ename": "NameError",
     "evalue": "name 'tuple_4' is not defined",
     "output_type": "error",
     "traceback": [
      "\u001b[1;31m---------------------------------------------------------------------------\u001b[0m",
      "\u001b[1;31mNameError\u001b[0m                                 Traceback (most recent call last)",
      "\u001b[1;32mC:\\Users\\ROUSHA~1\\AppData\\Local\\Temp/ipykernel_12544/376766364.py\u001b[0m in \u001b[0;36m<module>\u001b[1;34m\u001b[0m\n\u001b[0;32m      5\u001b[0m \u001b[1;32mdel\u001b[0m\u001b[1;33m(\u001b[0m\u001b[0mtuple_4\u001b[0m\u001b[1;33m)\u001b[0m\u001b[1;33m\u001b[0m\u001b[1;33m\u001b[0m\u001b[0m\n\u001b[0;32m      6\u001b[0m \u001b[1;33m\u001b[0m\u001b[0m\n\u001b[1;32m----> 7\u001b[1;33m \u001b[0mprint\u001b[0m\u001b[1;33m(\u001b[0m\u001b[1;34m'After deleting:'\u001b[0m\u001b[1;33m,\u001b[0m\u001b[0mtuple_4\u001b[0m\u001b[1;33m)\u001b[0m\u001b[1;33m\u001b[0m\u001b[1;33m\u001b[0m\u001b[0m\n\u001b[0m",
      "\u001b[1;31mNameError\u001b[0m: name 'tuple_4' is not defined"
     ]
    }
   ],
   "source": [
    "tuple_4=(1,3,5,7,8)\n",
    "\n",
    "print('Before deleting:',tuple_4)\n",
    "\n",
    "del(tuple_4)\n",
    "\n",
    "print('After deleting:',tuple_4)"
   ]
  },
  {
   "cell_type": "markdown",
   "id": "9d915036",
   "metadata": {},
   "source": [
    "# count() method\n",
    " * This method returns the number of time an item occurs in a tuple."
   ]
  },
  {
   "cell_type": "code",
   "execution_count": 23,
   "id": "38453e52",
   "metadata": {},
   "outputs": [
    {
     "data": {
      "text/plain": [
       "4"
      ]
     },
     "execution_count": 23,
     "metadata": {},
     "output_type": "execute_result"
    }
   ],
   "source": [
    "tuple_5=(1,1,2,3,3,3,4,5,6,5,8,5,5,5,5,5,8,8,8,8,9,9,9,9)\n",
    "\n",
    "tuple_5.count(9)"
   ]
  },
  {
   "cell_type": "code",
   "execution_count": 24,
   "id": "5dcde721",
   "metadata": {},
   "outputs": [
    {
     "data": {
      "text/plain": [
       "5"
      ]
     },
     "execution_count": 24,
     "metadata": {},
     "output_type": "execute_result"
    }
   ],
   "source": [
    "tuple_5.count(8)"
   ]
  },
  {
   "cell_type": "code",
   "execution_count": 25,
   "id": "7512c715",
   "metadata": {},
   "outputs": [
    {
     "data": {
      "text/plain": [
       "7"
      ]
     },
     "execution_count": 25,
     "metadata": {},
     "output_type": "execute_result"
    }
   ],
   "source": [
    "tuple_5.count(5)"
   ]
  },
  {
   "cell_type": "markdown",
   "id": "89bcfb1c",
   "metadata": {},
   "source": [
    "# index() method\n",
    "\n",
    " * It returns the index of the first occurence of the specified value in a tuple."
   ]
  },
  {
   "cell_type": "code",
   "execution_count": 29,
   "id": "c054b08a",
   "metadata": {},
   "outputs": [
    {
     "name": "stdout",
     "output_type": "stream",
     "text": [
      "4\n",
      "10\n",
      "12\n"
     ]
    }
   ],
   "source": [
    "tuple_5=(1,1,3,3,5,5,5,5,6,6,7,8,9)\n",
    "print(tuple_5.index(5))\n",
    "print(tuple_5.index(7))\n",
    "print(tuple_5.index(9))"
   ]
  },
  {
   "cell_type": "markdown",
   "id": "c028608a",
   "metadata": {},
   "source": [
    "# One element tuple\n",
    "\n",
    " * If a tuple includes only one element, you should put a comma after the element. Otherwise it is not considered as a tuple."
   ]
  },
  {
   "cell_type": "code",
   "execution_count": 36,
   "id": "2412dd27",
   "metadata": {},
   "outputs": [
    {
     "name": "stdout",
     "output_type": "stream",
     "text": [
      "0\n",
      "<class 'int'>\n"
     ]
    }
   ],
   "source": [
    "tuple_6=(0)\n",
    "print(tuple_6)\n",
    "print(type(tuple_6))"
   ]
  },
  {
   "cell_type": "code",
   "execution_count": 34,
   "id": "305d9e2b",
   "metadata": {},
   "outputs": [
    {
     "name": "stdout",
     "output_type": "stream",
     "text": [
      "(0,)\n",
      "<class 'tuple'>\n"
     ]
    }
   ],
   "source": [
    "tuple_6=(0,)\n",
    "print(tuple_6)\n",
    "print(type(tuple_6))"
   ]
  },
  {
   "cell_type": "code",
   "execution_count": null,
   "id": "a193f365",
   "metadata": {},
   "outputs": [],
   "source": []
  }
 ],
 "metadata": {
  "kernelspec": {
   "display_name": "Python 3 (ipykernel)",
   "language": "python",
   "name": "python3"
  },
  "language_info": {
   "codemirror_mode": {
    "name": "ipython",
    "version": 3
   },
   "file_extension": ".py",
   "mimetype": "text/x-python",
   "name": "python",
   "nbconvert_exporter": "python",
   "pygments_lexer": "ipython3",
   "version": "3.9.7"
  }
 },
 "nbformat": 4,
 "nbformat_minor": 5
}
