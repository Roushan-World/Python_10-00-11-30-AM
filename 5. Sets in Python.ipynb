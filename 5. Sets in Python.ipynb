{
 "cells": [
  {
   "cell_type": "markdown",
   "id": "167567d8",
   "metadata": {},
   "source": [
    "# 5. Sets in Python\n",
    "\n",
    " * Set is one of 4 build- in data type in Python used to store collections of data including List, Tuple, and Dictionary.\n",
    " * Sets are unordered, but you can remove item and add new items.\n",
    " * Set elements are unique. Duplicate elements are not allowed.\n",
    " * A set itself may be modified, but the elements contained in the set must be of an immutable type.\n",
    " * Sets are used to store mutliple items in a single variable.\n",
    " * You can denote a set with a pair of curly brackets {}."
   ]
  },
  {
   "cell_type": "code",
   "execution_count": 1,
   "id": "a2865e2b",
   "metadata": {},
   "outputs": [
    {
     "name": "stdout",
     "output_type": "stream",
     "text": [
      "<class 'dict'>\n"
     ]
    }
   ],
   "source": [
    "# The empty set of curly braces denotes the empty dictionary, not empty set.\n",
    "\n",
    "x={}\n",
    "print(type(x))"
   ]
  },
  {
   "cell_type": "code",
   "execution_count": 2,
   "id": "ab6e32cc",
   "metadata": {},
   "outputs": [
    {
     "name": "stdout",
     "output_type": "stream",
     "text": [
      "<class 'set'>\n"
     ]
    }
   ],
   "source": [
    "# To take a set without elements, use set() function without any items.\n",
    "\n",
    "y=set()\n",
    "print(type(y))"
   ]
  },
  {
   "cell_type": "code",
   "execution_count": 6,
   "id": "aa2e80e0",
   "metadata": {},
   "outputs": [
    {
     "data": {
      "text/plain": [
       "{1.618, 2023, 3.14, False, 'Hello Python', 'Hello World', True}"
      ]
     },
     "execution_count": 6,
     "metadata": {},
     "output_type": "execute_result"
    }
   ],
   "source": [
    "# Take a set\n",
    "set1={'Hello Python',3.14,1.618,'Hello World',3.14,1.618,True, False, 2023}\n",
    "set1"
   ]
  },
  {
   "cell_type": "markdown",
   "id": "55c2c875",
   "metadata": {},
   "source": [
    "# set operations "
   ]
  },
  {
   "cell_type": "code",
   "execution_count": 9,
   "id": "2308f4a1",
   "metadata": {},
   "outputs": [
    {
     "data": {
      "text/plain": [
       "{1.618, 2023, 3.14, False, 'Hello Python', 'Hello World', True}"
      ]
     },
     "execution_count": 9,
     "metadata": {},
     "output_type": "execute_result"
    }
   ],
   "source": [
    "set2=set(['Hello Python',3.14,1.618,'Hello World',3.14,1.618,True, False, 2023])\n",
    "set2"
   ]
  },
  {
   "cell_type": "markdown",
   "id": "92de3342",
   "metadata": {},
   "source": [
    "# add() function\n",
    " To add an element into a set, we use the function add(). If the same element is added to the set, nothing will happen because the set accepted no duplicates."
   ]
  },
  {
   "cell_type": "code",
   "execution_count": 11,
   "id": "eb2ee621",
   "metadata": {},
   "outputs": [
    {
     "data": {
      "text/plain": [
       "{1.618, 2023, 3.14, False, 'Hello Python', 'Hello World', 'Hi, Python', True}"
      ]
     },
     "execution_count": 11,
     "metadata": {},
     "output_type": "execute_result"
    }
   ],
   "source": [
    "set3=set(['Hello Python',3.14,1.618,'Hello World',3.14,1.618,True, False, 2023])\n",
    "set3.add('Hi, Python')\n",
    "set3"
   ]
  },
  {
   "cell_type": "code",
   "execution_count": 12,
   "id": "a644051f",
   "metadata": {},
   "outputs": [
    {
     "data": {
      "text/plain": [
       "{1.618, 2023, 3.14, False, 'Hello Python', 'Hello World', 'Hi, Python', True}"
      ]
     },
     "execution_count": 12,
     "metadata": {},
     "output_type": "execute_result"
    }
   ],
   "source": [
    "set3.add('Hi, Python')\n",
    "set3"
   ]
  },
  {
   "cell_type": "code",
   "execution_count": 13,
   "id": "c1cd7766",
   "metadata": {},
   "outputs": [
    {
     "data": {
      "text/plain": [
       "{1.618,\n",
       " 2023,\n",
       " 3.14,\n",
       " 'Amey Lonkar',\n",
       " False,\n",
       " 'Hello Python',\n",
       " 'Hello World',\n",
       " 'Hi, Python',\n",
       " True}"
      ]
     },
     "execution_count": 13,
     "metadata": {},
     "output_type": "execute_result"
    }
   ],
   "source": [
    "set3.add('Amey Lonkar')\n",
    "set3"
   ]
  },
  {
   "cell_type": "markdown",
   "id": "8cb59c53",
   "metadata": {},
   "source": [
    "# update() function\n",
    " * To add multiple elements into the set."
   ]
  },
  {
   "cell_type": "code",
   "execution_count": 1,
   "id": "2522ee38",
   "metadata": {},
   "outputs": [
    {
     "name": "stdout",
     "output_type": "stream",
     "text": [
      "{8, 9, 6, 7}\n",
      "{3, 4, 5, 6, 7, 8, 9}\n"
     ]
    }
   ],
   "source": [
    "x_set={6,7,8,9}\n",
    "print(x_set)\n",
    "x_set.update({3,4,5})\n",
    "print(x_set)"
   ]
  },
  {
   "cell_type": "markdown",
   "id": "5808d8c7",
   "metadata": {},
   "source": [
    "# remove() function\n",
    " * To remove an element from the set."
   ]
  },
  {
   "cell_type": "code",
   "execution_count": 3,
   "id": "31cb5f3a",
   "metadata": {},
   "outputs": [
    {
     "data": {
      "text/plain": [
       "{1.618, 2023, 3.14, 'Hello Python', 'Hello World', True}"
      ]
     },
     "execution_count": 3,
     "metadata": {},
     "output_type": "execute_result"
    }
   ],
   "source": [
    "set3=set(['Hello Python',3.14,1.618,'Hello World',3.14,1.618,True, False, 2023])\n",
    "\n",
    "set3.remove(False)\n",
    "set3"
   ]
  },
  {
   "cell_type": "code",
   "execution_count": 4,
   "id": "015a2920",
   "metadata": {},
   "outputs": [
    {
     "data": {
      "text/plain": [
       "{1.618, 2023, 3.14, 'Hello World', True}"
      ]
     },
     "execution_count": 4,
     "metadata": {},
     "output_type": "execute_result"
    }
   ],
   "source": [
    "set3.remove('Hello Python')\n",
    "set3"
   ]
  },
  {
   "cell_type": "markdown",
   "id": "51d1b6a9",
   "metadata": {},
   "source": [
    "# discard() function\n",
    "\n",
    " * It leaves the set unchanged if the element to be deleted is not available in the set."
   ]
  },
  {
   "cell_type": "code",
   "execution_count": 8,
   "id": "5c536b50",
   "metadata": {},
   "outputs": [
    {
     "data": {
      "text/plain": [
       "{True, 1.618, 2023}"
      ]
     },
     "execution_count": 8,
     "metadata": {},
     "output_type": "execute_result"
    }
   ],
   "source": [
    "set3.discard('Hello World')\n",
    "set3"
   ]
  },
  {
   "cell_type": "markdown",
   "id": "e3e7148d",
   "metadata": {},
   "source": [
    "# Logic operations in Sets"
   ]
  },
  {
   "cell_type": "code",
   "execution_count": 10,
   "id": "9067d5ba",
   "metadata": {},
   "outputs": [
    {
     "data": {
      "text/plain": [
       "({1.618, 3.14, 'Hello Python'},\n",
       " {1.618, 2023, 3.14, False, 'Hello World', True})"
      ]
     },
     "execution_count": 10,
     "metadata": {},
     "output_type": "execute_result"
    }
   ],
   "source": [
    "set4=set(['Hello Python',3.14,1.618,])\n",
    "set5=set(['Hello World',3.14,1.618,True, False, 2023])\n",
    "\n",
    "#print(set4)\n",
    "#print(set5)\n",
    "\n",
    "# Printing two sets at a time\n",
    "\n",
    "set4,set5"
   ]
  },
  {
   "cell_type": "markdown",
   "id": "9185a65e",
   "metadata": {},
   "source": [
    "# To find insect of two sets using &"
   ]
  },
  {
   "cell_type": "code",
   "execution_count": 11,
   "id": "b712dd11",
   "metadata": {},
   "outputs": [
    {
     "name": "stdout",
     "output_type": "stream",
     "text": [
      "{1.618, 3.14}\n"
     ]
    }
   ],
   "source": [
    "intersection=set4&set5\n",
    "print(intersection)"
   ]
  },
  {
   "cell_type": "markdown",
   "id": "ad0eab32",
   "metadata": {},
   "source": [
    "# To find the insect of two set, use intersection() function"
   ]
  },
  {
   "cell_type": "code",
   "execution_count": 12,
   "id": "7d4b91d2",
   "metadata": {},
   "outputs": [
    {
     "data": {
      "text/plain": [
       "{1.618, 3.14}"
      ]
     },
     "execution_count": 12,
     "metadata": {},
     "output_type": "execute_result"
    }
   ],
   "source": [
    "set4.intersection(set5)  # The output is same as that of above."
   ]
  },
  {
   "cell_type": "markdown",
   "id": "c35c5b1d",
   "metadata": {},
   "source": [
    "# difference() function\n",
    "\n",
    " * To find the difference between two sets"
   ]
  },
  {
   "cell_type": "code",
   "execution_count": 13,
   "id": "ae48d0e2",
   "metadata": {},
   "outputs": [
    {
     "name": "stdout",
     "output_type": "stream",
     "text": [
      "{'Hello Python'}\n",
      "{False, True, 'Hello World', 2023}\n",
      "{'Hello Python'}\n",
      "{False, True, 'Hello World', 2023}\n"
     ]
    }
   ],
   "source": [
    "print(set4.difference(set5))\n",
    "print(set5.difference(set4))\n",
    "\n",
    "\n",
    "# The same process can make using subtraction operator as follow:\n",
    "print(set4-set5)\n",
    "print(set5-set4)\n"
   ]
  },
  {
   "cell_type": "markdown",
   "id": "21e21d6f",
   "metadata": {},
   "source": [
    "# union() function\n",
    "\n",
    " * It corresponds to all the elements in both sets."
   ]
  },
  {
   "cell_type": "code",
   "execution_count": 15,
   "id": "3bbcc540",
   "metadata": {},
   "outputs": [
    {
     "name": "stdout",
     "output_type": "stream",
     "text": [
      "{False, 1.618, True, 3.14, 2023, 'Hello Python', 'Hello World'}\n",
      "{False, 1.618, True, 3.14, 2023, 'Hello Python', 'Hello World'}\n"
     ]
    }
   ],
   "source": [
    "print(set4.union(set5))\n",
    "print(set5.union(set4))"
   ]
  },
  {
   "cell_type": "markdown",
   "id": "bf6f013c",
   "metadata": {},
   "source": [
    "# issuperset() and issubset() functions\n",
    "\n",
    " * To control if a set is superset or subset of another set"
   ]
  },
  {
   "cell_type": "code",
   "execution_count": null,
   "id": "34a0b86f",
   "metadata": {},
   "outputs": [],
   "source": []
  },
  {
   "cell_type": "code",
   "execution_count": null,
   "id": "9a166f8c",
   "metadata": {},
   "outputs": [],
   "source": []
  },
  {
   "cell_type": "code",
   "execution_count": 29,
   "id": "cc55de2c",
   "metadata": {},
   "outputs": [
    {
     "name": "stdout",
     "output_type": "stream",
     "text": [
      "True\n",
      "True\n",
      "True\n",
      "True\n"
     ]
    }
   ],
   "source": [
    "print(set([3.14,1.618]).issubset(set5))\n",
    "print(set([3.14,1.618]).issubset(set4))\n",
    "print(set4.issuperset([3.14,1.618]))\n",
    "print(set5.issuperset([3.14,1.618]))"
   ]
  },
  {
   "cell_type": "markdown",
   "id": "7566e260",
   "metadata": {},
   "source": [
    "# min(),max() and sum() functions"
   ]
  },
  {
   "cell_type": "code",
   "execution_count": 25,
   "id": "0c8633a3",
   "metadata": {},
   "outputs": [
    {
     "name": "stdout",
     "output_type": "stream",
     "text": [
      "The miniumum number of a is: 1\n",
      "The minimum number of b is: 1\n",
      "The maximum number of a is: 5\n",
      "The maximum number of b is: 5\n",
      "The sum of a is: 30\n",
      "The sum of b is: 15\n"
     ]
    }
   ],
   "source": [
    "a=[1,1,2,2,3,3,4,4,5,5]   # Take a list.\n",
    "b={1,1,2,2,3,3,4,4,5,5}  # Take a set.\n",
    "\n",
    "print('The miniumum number of a is:',min(a))\n",
    "print('The minimum number of b is:',min(b))\n",
    "print('The maximum number of a is:',max(a))\n",
    "print('The maximum number of b is:',max(b))\n",
    "print('The sum of a is:',sum(a))\n",
    "print('The sum of b is:',sum(b))"
   ]
  },
  {
   "cell_type": "markdown",
   "id": "d6581f1e",
   "metadata": {},
   "source": [
    "# No mutable sequence in a set.\n",
    "\n",
    "\n",
    " * A set can not have mutable elements such as list or dictonary in it. If any, it returns error as follows:"
   ]
  },
  {
   "cell_type": "code",
   "execution_count": 32,
   "id": "4781c685",
   "metadata": {},
   "outputs": [
    {
     "ename": "TypeError",
     "evalue": "unhashable type: 'list'",
     "output_type": "error",
     "traceback": [
      "\u001b[1;31m---------------------------------------------------------------------------\u001b[0m",
      "\u001b[1;31mTypeError\u001b[0m                                 Traceback (most recent call last)",
      "\u001b[1;32mC:\\Users\\ROUSHA~1\\AppData\\Local\\Temp/ipykernel_9796/2912255293.py\u001b[0m in \u001b[0;36m<module>\u001b[1;34m\u001b[0m\n\u001b[1;32m----> 1\u001b[1;33m \u001b[0mset6\u001b[0m\u001b[1;33m=\u001b[0m\u001b[1;33m{\u001b[0m\u001b[1;34m'Python'\u001b[0m\u001b[1;33m,\u001b[0m\u001b[1;36m1\u001b[0m\u001b[1;33m,\u001b[0m\u001b[1;36m2\u001b[0m\u001b[1;33m,\u001b[0m\u001b[1;36m3\u001b[0m\u001b[1;33m,\u001b[0m\u001b[1;33m[\u001b[0m\u001b[1;36m1\u001b[0m\u001b[1;33m,\u001b[0m\u001b[1;36m2\u001b[0m\u001b[1;33m,\u001b[0m\u001b[1;36m3\u001b[0m\u001b[1;33m]\u001b[0m\u001b[1;33m}\u001b[0m\u001b[1;33m\u001b[0m\u001b[1;33m\u001b[0m\u001b[0m\n\u001b[0m\u001b[0;32m      2\u001b[0m \u001b[0mset6\u001b[0m\u001b[1;33m\u001b[0m\u001b[1;33m\u001b[0m\u001b[0m\n",
      "\u001b[1;31mTypeError\u001b[0m: unhashable type: 'list'"
     ]
    }
   ],
   "source": [
    "set6={'Python',1,2,3,[1,2,3]}\n",
    "set6"
   ]
  },
  {
   "cell_type": "markdown",
   "id": "5812c45d",
   "metadata": {},
   "source": [
    "# index() function\n",
    "\n",
    " * This function does not work in set since the set is unordered collection."
   ]
  },
  {
   "cell_type": "code",
   "execution_count": 33,
   "id": "0bc8819c",
   "metadata": {},
   "outputs": [
    {
     "ename": "TypeError",
     "evalue": "'set' object is not subscriptable",
     "output_type": "error",
     "traceback": [
      "\u001b[1;31m---------------------------------------------------------------------------\u001b[0m",
      "\u001b[1;31mTypeError\u001b[0m                                 Traceback (most recent call last)",
      "\u001b[1;32mC:\\Users\\ROUSHA~1\\AppData\\Local\\Temp/ipykernel_9796/3622372582.py\u001b[0m in \u001b[0;36m<module>\u001b[1;34m\u001b[0m\n\u001b[0;32m      1\u001b[0m \u001b[0mset7\u001b[0m\u001b[1;33m=\u001b[0m\u001b[1;33m{\u001b[0m\u001b[1;36m1\u001b[0m\u001b[1;33m,\u001b[0m\u001b[1;36m2\u001b[0m\u001b[1;33m,\u001b[0m\u001b[1;36m3\u001b[0m\u001b[1;33m}\u001b[0m\u001b[1;33m\u001b[0m\u001b[1;33m\u001b[0m\u001b[0m\n\u001b[1;32m----> 2\u001b[1;33m \u001b[0mset7\u001b[0m\u001b[1;33m[\u001b[0m\u001b[1;36m1\u001b[0m\u001b[1;33m]\u001b[0m\u001b[1;33m\u001b[0m\u001b[1;33m\u001b[0m\u001b[0m\n\u001b[0m",
      "\u001b[1;31mTypeError\u001b[0m: 'set' object is not subscriptable"
     ]
    }
   ],
   "source": [
    "set7={1,2,3}\n",
    "set7[1]"
   ]
  },
  {
   "cell_type": "markdown",
   "id": "dad9bdd2",
   "metadata": {},
   "source": [
    "# Copy the set"
   ]
  },
  {
   "cell_type": "code",
   "execution_count": 37,
   "id": "fbc675a3",
   "metadata": {},
   "outputs": [
    {
     "name": "stdout",
     "output_type": "stream",
     "text": [
      "{1, 2, 3, 5, 8}\n",
      "{1, 2, 3, 5, 8}\n",
      "{1, 2, 3, 5, 8, 11}\n",
      "{1, 2, 3, 5, 8, 11}\n"
     ]
    }
   ],
   "source": [
    "set8={1,2,3,8,5}\n",
    "print(set8)\n",
    "\n",
    "set9=set8\n",
    "print(set9)\n",
    "\n",
    "set8.add(11)\n",
    "print(set8)\n",
    "print(set9)\n",
    "\n",
    "'''\n",
    "As you see that although the number 11 is added into the set\"set8\", the added number is also added\n",
    "into the \"set9\"'''"
   ]
  },
  {
   "cell_type": "code",
   "execution_count": 38,
   "id": "956975c3",
   "metadata": {},
   "outputs": [
    {
     "data": {
      "text/plain": [
       "{1, 2, 3, 5, 8, 11, 12}"
      ]
     },
     "execution_count": 38,
     "metadata": {},
     "output_type": "execute_result"
    }
   ],
   "source": [
    "set8.add(12)\n",
    "set8"
   ]
  },
  {
   "cell_type": "code",
   "execution_count": 39,
   "id": "ad26ac5b",
   "metadata": {},
   "outputs": [
    {
     "data": {
      "text/plain": [
       "{1, 2, 3, 5, 8, 11, 12}"
      ]
     },
     "execution_count": 39,
     "metadata": {},
     "output_type": "execute_result"
    }
   ],
   "source": [
    "set9"
   ]
  },
  {
   "cell_type": "markdown",
   "id": "d1e6b032",
   "metadata": {},
   "source": [
    "# copy() function\n",
    "\n",
    " * It returns a shallow copy of the original set."
   ]
  },
  {
   "cell_type": "code",
   "execution_count": 45,
   "id": "f17b5a46",
   "metadata": {},
   "outputs": [
    {
     "name": "stdout",
     "output_type": "stream",
     "text": [
      "{1, 2, 3, 4, 5, 6, 7, 8, 9}\n",
      "{1, 2, 3, 4, 5, 6, 7, 8, 9}\n",
      "{1, 2, 3, 4, 5, 6, 7, 8, 9, 18}\n",
      "{1, 2, 3, 4, 5, 6, 7, 8, 9}\n"
     ]
    },
    {
     "data": {
      "text/plain": [
       "\" When this function is used, the original set stays unmodified.\\nA new copy stored in another set of memory locations is created.\\nThe change made in one copy won't reflect in another.\""
      ]
     },
     "execution_count": 45,
     "metadata": {},
     "output_type": "execute_result"
    }
   ],
   "source": [
    "set8={1,2,3,4,5,6,7,8,9}\n",
    "print(set8)\n",
    "set9=set8.copy()\n",
    "print(set9)\n",
    "\n",
    "set8.add(18)\n",
    "print(set8)\n",
    "print(set9)\n",
    "\n",
    "\"\"\" When this function is used, the original set stays unmodified.\n",
    "A new copy stored in another set of memory locations is created.\n",
    "The change made in one copy won't reflect in another.\"\"\"\n"
   ]
  },
  {
   "cell_type": "markdown",
   "id": "f7d77e5b",
   "metadata": {},
   "source": [
    "# clear() function\n",
    "\n",
    " * It removes all elements in the set and then do the set empty."
   ]
  },
  {
   "cell_type": "code",
   "execution_count": 47,
   "id": "2efb8493",
   "metadata": {},
   "outputs": [
    {
     "name": "stdout",
     "output_type": "stream",
     "text": [
      "{0, 1, 2, 3, 4, 5, 6, 7, 8, 9}\n",
      "set()\n"
     ]
    }
   ],
   "source": [
    "x={0,1,1,2,3,4,5,6,6,6,7,8,9}\n",
    "print(x)\n",
    "x.clear()\n",
    "print(x)"
   ]
  },
  {
   "cell_type": "markdown",
   "id": "3937da9f",
   "metadata": {},
   "source": [
    "# pop() function\n",
    "\n",
    " * It removes and returns an arbitrary set elements."
   ]
  },
  {
   "cell_type": "code",
   "execution_count": 51,
   "id": "6852a586",
   "metadata": {},
   "outputs": [
    {
     "name": "stdout",
     "output_type": "stream",
     "text": [
      "{0, 1, 2, 3, 4, 5, 6, 7, 8, 9}\n",
      "{1, 2, 3, 4, 5, 6, 7, 8, 9}\n"
     ]
    }
   ],
   "source": [
    "x={0,1,1,2,3,4,5,6,6,6,7,8,9}\n",
    "\n",
    "print(x)\n",
    "x.pop()\n",
    "print(x)"
   ]
  },
  {
   "cell_type": "code",
   "execution_count": 53,
   "id": "7593607c",
   "metadata": {},
   "outputs": [
    {
     "data": {
      "text/plain": [
       "{2, 3, 4, 5, 6, 7, 8, 9}"
      ]
     },
     "execution_count": 53,
     "metadata": {},
     "output_type": "execute_result"
    }
   ],
   "source": [
    "x.pop()\n",
    "x"
   ]
  },
  {
   "cell_type": "code",
   "execution_count": null,
   "id": "6d5f4a8b",
   "metadata": {},
   "outputs": [],
   "source": []
  }
 ],
 "metadata": {
  "kernelspec": {
   "display_name": "Python 3 (ipykernel)",
   "language": "python",
   "name": "python3"
  },
  "language_info": {
   "codemirror_mode": {
    "name": "ipython",
    "version": 3
   },
   "file_extension": ".py",
   "mimetype": "text/x-python",
   "name": "python",
   "nbconvert_exporter": "python",
   "pygments_lexer": "ipython3",
   "version": "3.9.7"
  }
 },
 "nbformat": 4,
 "nbformat_minor": 5
}
