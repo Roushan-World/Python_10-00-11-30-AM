{
 "cells": [
  {
   "cell_type": "markdown",
   "id": "167567d8",
   "metadata": {},
   "source": [
    "# 5. Sets in Python\n",
    "\n",
    " * Set is one of 4 build- in data type in Python used to store collections of data including List, Tuple, and Dictionary.\n",
    " * Sets are unordered, but you can remove item and add new items.\n",
    " * Set elements are unique. Duplicate elements are not allowed.\n",
    " * A set itself may be modified, but the elements contained in the set must be of an immutable type.\n",
    " * Sets are used to store mutliple items in a single variable.\n",
    " * You can denote a set with a pair of curly brackets {}."
   ]
  },
  {
   "cell_type": "code",
   "execution_count": 1,
   "id": "a2865e2b",
   "metadata": {},
   "outputs": [
    {
     "name": "stdout",
     "output_type": "stream",
     "text": [
      "<class 'dict'>\n"
     ]
    }
   ],
   "source": [
    "# The empty set of curly braces denotes the empty dictionary, not empty set.\n",
    "\n",
    "x={}\n",
    "print(type(x))"
   ]
  },
  {
   "cell_type": "code",
   "execution_count": 2,
   "id": "ab6e32cc",
   "metadata": {},
   "outputs": [
    {
     "name": "stdout",
     "output_type": "stream",
     "text": [
      "<class 'set'>\n"
     ]
    }
   ],
   "source": [
    "# To take a set without elements, use set() function without any items.\n",
    "\n",
    "y=set()\n",
    "print(type(y))"
   ]
  },
  {
   "cell_type": "code",
   "execution_count": 6,
   "id": "aa2e80e0",
   "metadata": {},
   "outputs": [
    {
     "data": {
      "text/plain": [
       "{1.618, 2023, 3.14, False, 'Hello Python', 'Hello World', True}"
      ]
     },
     "execution_count": 6,
     "metadata": {},
     "output_type": "execute_result"
    }
   ],
   "source": [
    "# Take a set\n",
    "set1={'Hello Python',3.14,1.618,'Hello World',3.14,1.618,True, False, 2023}\n",
    "set1"
   ]
  },
  {
   "cell_type": "markdown",
   "id": "55c2c875",
   "metadata": {},
   "source": [
    "# set operations "
   ]
  },
  {
   "cell_type": "code",
   "execution_count": 9,
   "id": "2308f4a1",
   "metadata": {},
   "outputs": [
    {
     "data": {
      "text/plain": [
       "{1.618, 2023, 3.14, False, 'Hello Python', 'Hello World', True}"
      ]
     },
     "execution_count": 9,
     "metadata": {},
     "output_type": "execute_result"
    }
   ],
   "source": [
    "set2=set(['Hello Python',3.14,1.618,'Hello World',3.14,1.618,True, False, 2023])\n",
    "set2"
   ]
  },
  {
   "cell_type": "markdown",
   "id": "92de3342",
   "metadata": {},
   "source": [
    "# add() function\n",
    " To add an element into a set, we use the function add(). If the same element is added to the set, nothing will happen because the set accepted no duplicates."
   ]
  },
  {
   "cell_type": "code",
   "execution_count": 11,
   "id": "eb2ee621",
   "metadata": {},
   "outputs": [
    {
     "data": {
      "text/plain": [
       "{1.618, 2023, 3.14, False, 'Hello Python', 'Hello World', 'Hi, Python', True}"
      ]
     },
     "execution_count": 11,
     "metadata": {},
     "output_type": "execute_result"
    }
   ],
   "source": [
    "set3=set(['Hello Python',3.14,1.618,'Hello World',3.14,1.618,True, False, 2023])\n",
    "set3.add('Hi, Python')\n",
    "set3"
   ]
  },
  {
   "cell_type": "code",
   "execution_count": 12,
   "id": "a644051f",
   "metadata": {},
   "outputs": [
    {
     "data": {
      "text/plain": [
       "{1.618, 2023, 3.14, False, 'Hello Python', 'Hello World', 'Hi, Python', True}"
      ]
     },
     "execution_count": 12,
     "metadata": {},
     "output_type": "execute_result"
    }
   ],
   "source": [
    "set3.add('Hi, Python')\n",
    "set3"
   ]
  },
  {
   "cell_type": "code",
   "execution_count": 13,
   "id": "c1cd7766",
   "metadata": {},
   "outputs": [
    {
     "data": {
      "text/plain": [
       "{1.618,\n",
       " 2023,\n",
       " 3.14,\n",
       " 'Amey Lonkar',\n",
       " False,\n",
       " 'Hello Python',\n",
       " 'Hello World',\n",
       " 'Hi, Python',\n",
       " True}"
      ]
     },
     "execution_count": 13,
     "metadata": {},
     "output_type": "execute_result"
    }
   ],
   "source": [
    "set3.add('Amey Lonkar')\n",
    "set3"
   ]
  },
  {
   "cell_type": "code",
   "execution_count": null,
   "id": "1ed8c9ce",
   "metadata": {},
   "outputs": [],
   "source": []
  }
 ],
 "metadata": {
  "kernelspec": {
   "display_name": "Python 3 (ipykernel)",
   "language": "python",
   "name": "python3"
  },
  "language_info": {
   "codemirror_mode": {
    "name": "ipython",
    "version": 3
   },
   "file_extension": ".py",
   "mimetype": "text/x-python",
   "name": "python",
   "nbconvert_exporter": "python",
   "pygments_lexer": "ipython3",
   "version": "3.9.7"
  }
 },
 "nbformat": 4,
 "nbformat_minor": 5
}
