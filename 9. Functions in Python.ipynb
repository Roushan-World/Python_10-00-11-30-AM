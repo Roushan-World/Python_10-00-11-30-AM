{
 "cells": [
  {
   "cell_type": "markdown",
   "id": "5421aba7",
   "metadata": {},
   "source": [
    "# 9. Functions in Python\n",
    "\n",
    "\n",
    " * In Python, a function is a group of related statements that performs a specific taks.\n",
    " * Functions helps break our program into smaller and modular chunks. * As our program grows larger and larger, functions make it more organized and manageable.\n",
    " * Furthermore, it avoids repetiton and makes the code reusable.\n",
    " * There are two types of functions.\n",
    " * Pre-defined functions.\n",
    " * User-defined functions.\n",
    " * In Python a function is defined using the def keyword followed by the function name and parentheses().\n",
    " * Keyword def that makes the start of the function header.\n",
    " * A function naming follows the same rules of writing identifiers in Python.\n",
    " * Parenthesis (arguments) through which we pass values to a function. They are optional.\n",
    " * A colon(:) to mark the end of the function header.\n",
    " * Optional documentation string (docstring) to describe what the function does.\n",
    " * Statements must have the same indentation level(usually 4 spaces)\n",
    " * An optional return statement to return a value from the function."
   ]
  },
  {
   "cell_type": "code",
   "execution_count": 2,
   "id": "71b08d2c",
   "metadata": {},
   "outputs": [
    {
     "name": "stdout",
     "output_type": "stream",
     "text": [
      "If you make the above operations with 5, the result will be -3 ,13 ,40 ,0.625 ,5.\n"
     ]
    },
    {
     "data": {
      "text/plain": [
       "(-3, 13, 40, 0.625, 5)"
      ]
     },
     "execution_count": 2,
     "metadata": {},
     "output_type": "execute_result"
    }
   ],
   "source": [
    "# Take a sample function.\n",
    "\n",
    "# mathematical operations in function.\n",
    "\n",
    "def process(x):\n",
    "    y1=x-8\n",
    "    y2=x+8\n",
    "    y3=x*8\n",
    "    y4=x/8\n",
    "    y5=x%8\n",
    "    print(f'If you make the above operations with {x}, the result will be {y1} ,{y2} ,{y3} ,{y4} ,{y5}.')\n",
    "    return y1,y2,y3,y4,y5\n",
    "process(5)"
   ]
  },
  {
   "cell_type": "code",
   "execution_count": 5,
   "id": "69617e49",
   "metadata": {},
   "outputs": [
    {
     "name": "stdout",
     "output_type": "stream",
     "text": [
      "If you make the above operations with 10, the result will be 2 ,18 ,80 ,1.25 ,2.\n"
     ]
    },
    {
     "data": {
      "text/plain": [
       "(2, 18, 80, 1.25, 2)"
      ]
     },
     "execution_count": 5,
     "metadata": {},
     "output_type": "execute_result"
    }
   ],
   "source": [
    "\n",
    "def process(x):\n",
    "    y1=x-8\n",
    "    y2=x+8\n",
    "    y3=x*8\n",
    "    y4=x/8\n",
    "    y5=x%8\n",
    "    print(f'If you make the above operations with {x}, the result will be {y1} ,{y2} ,{y3} ,{y4} ,{y5}.')\n",
    "    return y1,y2,y3,y4,y5\n",
    "process(10)"
   ]
  },
  {
   "cell_type": "code",
   "execution_count": 6,
   "id": "54e2b525",
   "metadata": {},
   "outputs": [
    {
     "name": "stdout",
     "output_type": "stream",
     "text": [
      "Help on function process in module __main__:\n",
      "\n",
      "process(x)\n",
      "\n"
     ]
    }
   ],
   "source": [
    "help(process)"
   ]
  },
  {
   "cell_type": "code",
   "execution_count": 7,
   "id": "f6c0e527",
   "metadata": {},
   "outputs": [
    {
     "name": "stdout",
     "output_type": "stream",
     "text": [
      "If you make the above operations with 100, the result will be 92 ,108 ,800 ,12.5 ,4.\n"
     ]
    },
    {
     "data": {
      "text/plain": [
       "(92, 108, 800, 12.5, 4)"
      ]
     },
     "execution_count": 7,
     "metadata": {},
     "output_type": "execute_result"
    }
   ],
   "source": [
    "process(100)"
   ]
  },
  {
   "cell_type": "code",
   "execution_count": 8,
   "id": "6f513450",
   "metadata": {},
   "outputs": [
    {
     "name": "stdout",
     "output_type": "stream",
     "text": [
      "If you make the above operations with 3.14, the result will be -4.859999999999999 ,11.14 ,25.12 ,0.3925 ,3.14.\n"
     ]
    },
    {
     "data": {
      "text/plain": [
       "(-4.859999999999999, 11.14, 25.12, 0.3925, 3.14)"
      ]
     },
     "execution_count": 8,
     "metadata": {},
     "output_type": "execute_result"
    }
   ],
   "source": [
    "process(3.14)"
   ]
  },
  {
   "cell_type": "code",
   "execution_count": 9,
   "id": "c95c921d",
   "metadata": {},
   "outputs": [
    {
     "name": "stdout",
     "output_type": "stream",
     "text": [
      "If you make the above operations with 90, the result will be 82 ,98 ,720 ,11.25 ,2.\n"
     ]
    },
    {
     "data": {
      "text/plain": [
       "(82, 98, 720, 11.25, 2)"
      ]
     },
     "execution_count": 9,
     "metadata": {},
     "output_type": "execute_result"
    }
   ],
   "source": [
    "process(90)"
   ]
  },
  {
   "cell_type": "code",
   "execution_count": 12,
   "id": "f2bce3df",
   "metadata": {},
   "outputs": [
    {
     "name": "stdout",
     "output_type": "stream",
     "text": [
      "The outcome is:  165\n"
     ]
    },
    {
     "data": {
      "text/plain": [
       "165"
      ]
     },
     "execution_count": 12,
     "metadata": {},
     "output_type": "execute_result"
    }
   ],
   "source": [
    "# Define a function with multiple elements (z=2*x+5*y+45)\n",
    "def expression(x,y):\n",
    "    z = 2*x+5*y+45\n",
    "    print(f'The outcome is: ',z)\n",
    "    return z\n",
    "expression(10,20)"
   ]
  },
  {
   "cell_type": "code",
   "execution_count": 13,
   "id": "d28922ac",
   "metadata": {},
   "outputs": [
    {
     "name": "stdout",
     "output_type": "stream",
     "text": [
      "The outcome is:  205\n"
     ]
    },
    {
     "data": {
      "text/plain": [
       "205"
      ]
     },
     "execution_count": 13,
     "metadata": {},
     "output_type": "execute_result"
    }
   ],
   "source": [
    "expression(30,20)"
   ]
  },
  {
   "cell_type": "markdown",
   "id": "5870ff53",
   "metadata": {},
   "source": [
    "# Variables\n",
    "\n",
    " * The input to a function is called  a formal parameter.\n",
    " * A variable that is declared inside a function is called a local variable.\n",
    " * The parameter only exists within the function. (i.e the point where the \n",
    " function starts and stops)\n",
    " * A variable that is declared outside the function definition is a global variable, and its\n",
    " value is accessible and modifiable thoughout the program."
   ]
  },
  {
   "cell_type": "code",
   "execution_count": 19,
   "id": "99e0fca8",
   "metadata": {},
   "outputs": [
    {
     "data": {
      "text/plain": [
       "30"
      ]
     },
     "execution_count": 19,
     "metadata": {},
     "output_type": "execute_result"
    }
   ],
   "source": [
    "# Define a function\n",
    "\n",
    "\n",
    "def function(x):\n",
    "    # Take a local variable.\n",
    "    y=3\n",
    "    z = 3*x+2*y\n",
    "    return z\n",
    "\n",
    "function(8)"
   ]
  },
  {
   "cell_type": "code",
   "execution_count": 20,
   "id": "ae23e134",
   "metadata": {},
   "outputs": [
    {
     "name": "stdout",
     "output_type": "stream",
     "text": [
      "15\n"
     ]
    }
   ],
   "source": [
    "# it starts the global variable.\n",
    "\n",
    "a = 3\n",
    "\n",
    "y= function(a)\n",
    "print(y)"
   ]
  },
  {
   "cell_type": "code",
   "execution_count": 21,
   "id": "c76b3795",
   "metadata": {},
   "outputs": [
    {
     "data": {
      "text/plain": [
       "36"
      ]
     },
     "execution_count": 21,
     "metadata": {},
     "output_type": "execute_result"
    }
   ],
   "source": [
    "# Enter a number directly as a paramter\n",
    "\n",
    "function(10)"
   ]
  },
  {
   "cell_type": "code",
   "execution_count": 27,
   "id": "4e04aebf",
   "metadata": {},
   "outputs": [
    {
     "name": "stdout",
     "output_type": "stream",
     "text": [
      "Hello World\n",
      "Hello Python\n"
     ]
    }
   ],
   "source": [
    "# Without return statement, the function return None.\n",
    "\n",
    "def msg1():\n",
    "    print('Hello World')\n",
    "def msg2():\n",
    "    print('Hello Python')\n",
    "    return None\n",
    "\n",
    "msg1()\n",
    "msg2()"
   ]
  },
  {
   "cell_type": "code",
   "execution_count": 28,
   "id": "a2546cf6",
   "metadata": {},
   "outputs": [
    {
     "name": "stdout",
     "output_type": "stream",
     "text": [
      "Hello World\n",
      "None\n"
     ]
    }
   ],
   "source": [
    "print(msg1())"
   ]
  },
  {
   "cell_type": "code",
   "execution_count": 29,
   "id": "fb394e71",
   "metadata": {},
   "outputs": [
    {
     "name": "stdout",
     "output_type": "stream",
     "text": [
      "Hello Python\n",
      "None\n"
     ]
    }
   ],
   "source": [
    "print(msg2())"
   ]
  },
  {
   "cell_type": "code",
   "execution_count": 31,
   "id": "f16af4e7",
   "metadata": {},
   "outputs": [
    {
     "data": {
      "text/plain": [
       "'Amey Lonkar'"
      ]
     },
     "execution_count": 31,
     "metadata": {},
     "output_type": "execute_result"
    }
   ],
   "source": [
    "# Concatenation of two strings.\n",
    "\n",
    "\n",
    "# Define a function\n",
    "\n",
    "def strings(x,y):\n",
    "    return x+y\n",
    "\n",
    "\n",
    "strings('Amey',' Lonkar')"
   ]
  },
  {
   "cell_type": "code",
   "execution_count": 32,
   "id": "0a21b4a8",
   "metadata": {},
   "outputs": [
    {
     "data": {
      "text/plain": [
       "66"
      ]
     },
     "execution_count": 32,
     "metadata": {},
     "output_type": "execute_result"
    }
   ],
   "source": [
    "strings(10,56)"
   ]
  },
  {
   "cell_type": "code",
   "execution_count": 33,
   "id": "b4d69610",
   "metadata": {},
   "outputs": [
    {
     "data": {
      "text/plain": [
       "'1056'"
      ]
     },
     "execution_count": 33,
     "metadata": {},
     "output_type": "execute_result"
    }
   ],
   "source": [
    "strings('10','56')"
   ]
  },
  {
   "cell_type": "code",
   "execution_count": 35,
   "id": "c584bb73",
   "metadata": {},
   "outputs": [
    {
     "data": {
      "text/plain": [
       "'Hello Python'"
      ]
     },
     "execution_count": 35,
     "metadata": {},
     "output_type": "execute_result"
    }
   ],
   "source": [
    "# Simplicity of functions\n",
    "\n",
    "x = 2\n",
    "y = 3\n",
    "\n",
    "equation= x*y+x+y-37\n",
    "if equation>0:\n",
    "    equation = 'Hello World'\n",
    "else:\n",
    "    equation = 'Hello Python'\n",
    "    \n",
    "equation"
   ]
  },
  {
   "cell_type": "markdown",
   "id": "e9457bdc",
   "metadata": {},
   "source": [
    "# predefined functions like print(), sum(), len(), min(), max(), input()"
   ]
  },
  {
   "cell_type": "code",
   "execution_count": 36,
   "id": "718e35af",
   "metadata": {},
   "outputs": [
    {
     "name": "stdout",
     "output_type": "stream",
     "text": [
      "[0.577, 2.718, 3.14, 1.618, 1729, 6, 28, 37]\n"
     ]
    }
   ],
   "source": [
    "# print() is a build-in function\n",
    "\n",
    "special_num=[0.577,2.718,3.14,1.618,1729,6,28,37]\n",
    "\n",
    "print(special_num)"
   ]
  },
  {
   "cell_type": "code",
   "execution_count": 37,
   "id": "be5da810",
   "metadata": {},
   "outputs": [
    {
     "data": {
      "text/plain": [
       "1808.053"
      ]
     },
     "execution_count": 37,
     "metadata": {},
     "output_type": "execute_result"
    }
   ],
   "source": [
    "sum(special_num)"
   ]
  },
  {
   "cell_type": "code",
   "execution_count": 38,
   "id": "3f8ac317",
   "metadata": {},
   "outputs": [
    {
     "data": {
      "text/plain": [
       "8"
      ]
     },
     "execution_count": 38,
     "metadata": {},
     "output_type": "execute_result"
    }
   ],
   "source": [
    "len(special_num)"
   ]
  },
  {
   "cell_type": "code",
   "execution_count": 39,
   "id": "84143ea8",
   "metadata": {},
   "outputs": [
    {
     "data": {
      "text/plain": [
       "0.577"
      ]
     },
     "execution_count": 39,
     "metadata": {},
     "output_type": "execute_result"
    }
   ],
   "source": [
    "min(special_num)"
   ]
  },
  {
   "cell_type": "code",
   "execution_count": 40,
   "id": "619f2a86",
   "metadata": {},
   "outputs": [
    {
     "data": {
      "text/plain": [
       "1729"
      ]
     },
     "execution_count": 40,
     "metadata": {},
     "output_type": "execute_result"
    }
   ],
   "source": [
    "max(special_num)"
   ]
  },
  {
   "cell_type": "markdown",
   "id": "4c5cbd9d",
   "metadata": {},
   "source": [
    "# Global Variable\n",
    "\n",
    " * Variable that are created outside of a function(as in all of the examples above) are known as global\n",
    " variables.\n",
    " * Global variables can be used by everyone, both inside of functions and outside."
   ]
  },
  {
   "cell_type": "code",
   "execution_count": 41,
   "id": "d14f21e1",
   "metadata": {},
   "outputs": [
    {
     "name": "stdout",
     "output_type": "stream",
     "text": [
      "Python is a programming language.\n"
     ]
    },
    {
     "ename": "NameError",
     "evalue": "name 'global_var' is not defined",
     "output_type": "error",
     "traceback": [
      "\u001b[1;31m---------------------------------------------------------------------------\u001b[0m",
      "\u001b[1;31mNameError\u001b[0m                                 Traceback (most recent call last)",
      "\u001b[1;32m~\\AppData\\Local\\Temp\\ipykernel_3924\\2289545767.py\u001b[0m in \u001b[0;36m<module>\u001b[1;34m\u001b[0m\n\u001b[0;32m      9\u001b[0m \u001b[1;33m\u001b[0m\u001b[0m\n\u001b[0;32m     10\u001b[0m \u001b[0mlang\u001b[0m\u001b[1;33m(\u001b[0m\u001b[0mlanguage\u001b[0m\u001b[1;33m)\u001b[0m\u001b[1;33m\u001b[0m\u001b[1;33m\u001b[0m\u001b[0m\n\u001b[1;32m---> 11\u001b[1;33m \u001b[0mlang\u001b[0m\u001b[1;33m(\u001b[0m\u001b[0mglobal_var\u001b[0m\u001b[1;33m)\u001b[0m\u001b[1;33m\u001b[0m\u001b[1;33m\u001b[0m\u001b[0m\n\u001b[0m",
      "\u001b[1;31mNameError\u001b[0m: name 'global_var' is not defined"
     ]
    }
   ],
   "source": [
    "# Define a function for global vairble.\n",
    "language='Python'\n",
    "\n",
    "\n",
    "def lang(language):\n",
    "    global_var=language\n",
    "    print(f'{language} is a programming language.')\n",
    "    \n",
    "    \n",
    "lang(language)\n",
    "lang(global_var)\n",
    "\n",
    "\n",
    "''' The outside gives a NameError, since all variable in the function are local variables, \n",
    "so vairable assignemnt is not presistent outside the function.\n",
    "'''"
   ]
  },
  {
   "cell_type": "code",
   "execution_count": null,
   "id": "71bc54c7",
   "metadata": {},
   "outputs": [],
   "source": []
  }
 ],
 "metadata": {
  "kernelspec": {
   "display_name": "Python 3 (ipykernel)",
   "language": "python",
   "name": "python3"
  },
  "language_info": {
   "codemirror_mode": {
    "name": "ipython",
    "version": 3
   },
   "file_extension": ".py",
   "mimetype": "text/x-python",
   "name": "python",
   "nbconvert_exporter": "python",
   "pygments_lexer": "ipython3",
   "version": "3.9.13"
  }
 },
 "nbformat": 4,
 "nbformat_minor": 5
}
