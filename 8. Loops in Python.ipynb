{
 "cells": [
  {
   "cell_type": "markdown",
   "id": "c06efd39",
   "metadata": {},
   "source": [
    "# 8. Loops in Python\n",
    "\n",
    "\n",
    "    * A for loop is used for iteration over a sequence (that is either a list, a tuple, a dictionary, a set, or a string)\n",
    "    * This is less like the for keyword in other programming languages, and works more like an iterator method as found in ohter object- oriented  programming languages.\n",
    "    * With the for loop we can execute a set of statement, once for each item in a list, tuple, set etc.\n",
    "    * The for loop does not require an indexing variable to set beforehand.\n",
    "    * With the while loop we can execute a set of statements as long as a condition is true.\n",
    "    * Note: Remember to increment i, or else the loop will continue forever.\n",
    "    * The while loop requires relevant variables to ready, in this example we need to defien an indexing variable, i, which we set to 1.\n",
    "    \n",
    "    \n",
    "# range() function\n",
    "    * It is helpful to think of ;the range object as an ordered list.\n",
    "    * To loop thorough a set of code a specified number of times, we can use the range() function.\n",
    "    * The range() function returns a sequence of numbers, starting from 0 by default, and increments by 1(by default), and ends at specified number."
   ]
  },
  {
   "cell_type": "code",
   "execution_count": 2,
   "id": "f69d40ba",
   "metadata": {},
   "outputs": [
    {
     "name": "stdout",
     "output_type": "stream",
     "text": [
      "range(0, 5)\n",
      "range(0, 100)\n"
     ]
    }
   ],
   "source": [
    "# Take a range() function\n",
    "\n",
    "print(range(5))\n",
    "print(range(100))"
   ]
  },
  {
   "cell_type": "markdown",
   "id": "8210fe29",
   "metadata": {},
   "source": [
    "# for loop\n",
    "     * The for loop enables you to execute a code block of multiple times."
   ]
  },
  {
   "cell_type": "code",
   "execution_count": 3,
   "id": "528896d4",
   "metadata": {},
   "outputs": [
    {
     "name": "stdout",
     "output_type": "stream",
     "text": [
      "2005\n",
      "2006\n",
      "2007\n",
      "2008\n",
      "2009\n",
      "2010\n"
     ]
    }
   ],
   "source": [
    "# Take an example\n",
    "# Directly accessing to the elements in the list.\n",
    "\n",
    "years=[2005,2006,2007,2008,2009,2010]\n",
    "\n",
    "for i in years:\n",
    "    print(i)\n",
    "    "
   ]
  },
  {
   "cell_type": "code",
   "execution_count": 4,
   "id": "d56e8b23",
   "metadata": {},
   "outputs": [
    {
     "name": "stdout",
     "output_type": "stream",
     "text": [
      "2005\n",
      "2006\n",
      "2007\n",
      "2008\n",
      "2009\n",
      "2010\n"
     ]
    }
   ],
   "source": [
    "# Again, directly accessing to the element in the list\n",
    "years=[2005,2006,2007,2008,2009,2010]\n",
    "\n",
    "\n",
    "for amey in years:\n",
    "    print(amey)"
   ]
  },
  {
   "cell_type": "code",
   "execution_count": 10,
   "id": "49bea4a2",
   "metadata": {},
   "outputs": [
    {
     "name": "stdout",
     "output_type": "stream",
     "text": [
      "2005\n",
      "2006\n",
      "2007\n",
      "2008\n",
      "2009\n",
      "2010\n"
     ]
    }
   ],
   "source": [
    "# Take an example\n",
    "\n",
    "years=[2005,2006,2007,2008,2009,2010]\n",
    "\n",
    "for i in range(len(years)):\n",
    "    print(years[i])"
   ]
  },
  {
   "cell_type": "code",
   "execution_count": 11,
   "id": "9ad6606d",
   "metadata": {},
   "outputs": [
    {
     "name": "stdout",
     "output_type": "stream",
     "text": [
      "0\n",
      "1\n",
      "2\n",
      "3\n",
      "4\n",
      "5\n",
      "6\n",
      "7\n"
     ]
    }
   ],
   "source": [
    "# another example of for loop\n",
    "\n",
    "for i in range(8):\n",
    "    print(i)"
   ]
  },
  {
   "cell_type": "code",
   "execution_count": 12,
   "id": "7f96bbfd",
   "metadata": {},
   "outputs": [
    {
     "name": "stdout",
     "output_type": "stream",
     "text": [
      "2\n",
      "3\n",
      "4\n",
      "5\n",
      "6\n",
      "7\n"
     ]
    }
   ],
   "source": [
    "for i in range(2,8):\n",
    "    print(i)"
   ]
  },
  {
   "cell_type": "code",
   "execution_count": 13,
   "id": "b38f04eb",
   "metadata": {},
   "outputs": [
    {
     "name": "stdout",
     "output_type": "stream",
     "text": [
      "2\n",
      "4\n",
      "6\n",
      "8\n"
     ]
    }
   ],
   "source": [
    "for i in range(2,10,2):\n",
    "    print(i)"
   ]
  },
  {
   "cell_type": "code",
   "execution_count": 16,
   "id": "98096414",
   "metadata": {},
   "outputs": [
    {
     "name": "stdout",
     "output_type": "stream",
     "text": [
      "Before language 0 is Java\n",
      "After language 0 is Python\n",
      "Before language 1 is JavaScript\n",
      "After language 1 is Python\n",
      "Before language 2 is C\n",
      "After language 2 is Python\n",
      "Before language 3 is C++\n",
      "After language 3 is Python\n",
      "Before language 4 is PHP\n",
      "After language 4 is Python\n"
     ]
    }
   ],
   "source": [
    "# changing the element in the list\n",
    "languages=['Java','JavaScript','C','C++','PHP',]\n",
    "\n",
    "for i in range(len(languages)):\n",
    "    print('Before language',i,'is',languages[i])\n",
    "    languages[i]='Python'\n",
    "    print('After language',i,'is',languages[i])"
   ]
  },
  {
   "cell_type": "code",
   "execution_count": 22,
   "id": "42a298ad",
   "metadata": {},
   "outputs": [
    {
     "name": "stdout",
     "output_type": "stream",
     "text": [
      "0 Java\n",
      "1 JavaScript\n",
      "2 C\n",
      "3 C++\n",
      "4 PHP\n"
     ]
    }
   ],
   "source": [
    "#Enumeration of the element in the list.\n",
    "languages=['Java','JavaScript','C','C++','PHP',]\n",
    "\n",
    "for i, languages in enumerate(languages):\n",
    "    print(i,languages)\n",
    "    "
   ]
  },
  {
   "cell_type": "code",
   "execution_count": 23,
   "id": "3edbbce2",
   "metadata": {},
   "outputs": [
    {
     "name": "stdout",
     "output_type": "stream",
     "text": [
      "-3\n",
      "-2\n",
      "-1\n",
      "0\n",
      "1\n",
      "2\n",
      "3\n",
      "4\n",
      "5\n",
      "6\n"
     ]
    }
   ],
   "source": [
    "# Take the numbers between -3 and 6 using for loop\n",
    "\n",
    "# use range() function\n",
    "\n",
    "for i in range(-3,7):\n",
    "    print(i)"
   ]
  },
  {
   "cell_type": "code",
   "execution_count": null,
   "id": "5f5eeddf",
   "metadata": {},
   "outputs": [],
   "source": []
  }
 ],
 "metadata": {
  "kernelspec": {
   "display_name": "Python 3 (ipykernel)",
   "language": "python",
   "name": "python3"
  },
  "language_info": {
   "codemirror_mode": {
    "name": "ipython",
    "version": 3
   },
   "file_extension": ".py",
   "mimetype": "text/x-python",
   "name": "python",
   "nbconvert_exporter": "python",
   "pygments_lexer": "ipython3",
   "version": "3.9.13"
  }
 },
 "nbformat": 4,
 "nbformat_minor": 5
}
