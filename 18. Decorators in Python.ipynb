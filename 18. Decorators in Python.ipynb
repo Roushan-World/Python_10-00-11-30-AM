{
 "cells": [
  {
   "cell_type": "markdown",
   "id": "3d06bbc5",
   "metadata": {},
   "source": [
    "# 18. Decorators in Python\n",
    "\n",
    " * Decorators provides a simple syntax for calling higher-order functions.\n",
    " * By definition, a decorator is a function that takes another function and extends the behavior of the latter function without explicitly modifying it.\n",
    " * A decorator in Python is a function that takes another functions as its argument, and returns yet another function.\n",
    " * Decorators can be extremely useful as they allow the extension of an existing funciton, without any modification to the original function source code.\n",
    " * In fact, there are two types of decorators in Python including class decorators and function decorators.\n",
    " * In application, decorators are majorly used in creating middle layer in the backed, it performs task like token authentication, validation, image compression and many more."
   ]
  },
  {
   "cell_type": "markdown",
   "id": "11d7a507",
   "metadata": {},
   "source": [
    "# syntax for Decorators"
   ]
  },
  {
   "cell_type": "code",
   "execution_count": 35,
   "id": "8147f328",
   "metadata": {},
   "outputs": [
    {
     "data": {
      "text/plain": [
       "\"\\nAbove code is equal to-\\ndef hi_decorator():\\n    print('Hello')\\nhi_decorator=hello_decorator(hi_decorator)\\n\\n\""
      ]
     },
     "execution_count": 35,
     "metadata": {},
     "output_type": "execute_result"
    }
   ],
   "source": [
    "'''\n",
    "@hello_decorator\n",
    "def hi_decorator():\n",
    "    print('Hello')\n",
    "\n",
    "'''\n",
    "\n",
    "\"\"\"\n",
    "Above code is equal to-\n",
    "def hi_decorator():\n",
    "    print('Hello')\n",
    "hi_decorator=hello_decorator(hi_decorator)\n",
    "\n",
    "\"\"\""
   ]
  },
  {
   "cell_type": "code",
   "execution_count": 36,
   "id": "ac082820",
   "metadata": {},
   "outputs": [],
   "source": [
    "# import libraries\n",
    "\n",
    "import decorator\n",
    "from decorator import *   # *-----everyting\n",
    "import functools\n",
    "import math"
   ]
  },
  {
   "cell_type": "code",
   "execution_count": 37,
   "id": "04765f70",
   "metadata": {},
   "outputs": [
    {
     "name": "stdout",
     "output_type": "stream",
     "text": [
      "Help on function decorator in module decorator:\n",
      "\n",
      "decorator(caller, _func=None, kwsyntax=False)\n",
      "    decorator(caller) converts a caller function into a decorator\n",
      "\n"
     ]
    }
   ],
   "source": [
    "help(decorator)"
   ]
  },
  {
   "cell_type": "markdown",
   "id": "04b76885",
   "metadata": {},
   "source": [
    "# functions"
   ]
  },
  {
   "cell_type": "code",
   "execution_count": 38,
   "id": "f6d4819f",
   "metadata": {},
   "outputs": [
    {
     "name": "stdout",
     "output_type": "stream",
     "text": [
      "Python is a programming language.\n",
      "Hello,Python!\n"
     ]
    }
   ],
   "source": [
    "# Define a function\n",
    "\n",
    "'''\n",
    "In the following function, when the code was executed, it yeilds the outputs for both functions.\n",
    "The function new_text() allowed to the funtion mytext() and behave as a funciton.\n",
    "'''\n",
    "\n",
    "def mytext(text):\n",
    "    print(text)\n",
    "    \n",
    "mytext('Python is a programming language.')\n",
    "new_text=mytext\n",
    "new_text('Hello,Python!')"
   ]
  },
  {
   "cell_type": "code",
   "execution_count": 39,
   "id": "95dcede0",
   "metadata": {},
   "outputs": [
    {
     "data": {
      "text/plain": [
       "9.8596"
      ]
     },
     "execution_count": 39,
     "metadata": {},
     "output_type": "execute_result"
    }
   ],
   "source": [
    "def multiplication(num):\n",
    "    return num * num\n",
    "multi=multiplication\n",
    "multi(3.14)"
   ]
  },
  {
   "cell_type": "markdown",
   "id": "b90e476e",
   "metadata": {},
   "source": [
    "# Nested/Inner Functions"
   ]
  },
  {
   "cell_type": "code",
   "execution_count": 40,
   "id": "a0a76b44",
   "metadata": {},
   "outputs": [
    {
     "name": "stdout",
     "output_type": "stream",
     "text": [
      "Python is a programming language.\n",
      "Hello World\n",
      "Hi,World\n"
     ]
    }
   ],
   "source": [
    "# Define a function\n",
    "\n",
    "'''\n",
    "In the following function, it is nonsignificant how the child functions are announced.\n",
    "The implementation of the child function does influence on the output.\n",
    "These child functions are topically linked with the function mytex(), therefore they can not be \n",
    "called Individually.\n",
    "'''\n",
    "\n",
    "\n",
    "def mytext():\n",
    "    print('Python is a programming language.')\n",
    "    def new_text():\n",
    "        print('Hello World')\n",
    "    def message():\n",
    "        print('Hi,World')\n",
    "    \n",
    "    new_text()\n",
    "    message()\n",
    "mytext()"
   ]
  },
  {
   "cell_type": "code",
   "execution_count": 41,
   "id": "8ae9cbae",
   "metadata": {},
   "outputs": [
    {
     "name": "stdout",
     "output_type": "stream",
     "text": [
      "Python is a programming language.\n"
     ]
    }
   ],
   "source": [
    "# Define a function\n",
    "\n",
    "\"\"\"\n",
    "In the following example, the function text() is nested into function message().\n",
    "It will return each time when the function text() is called.\n",
    "\"\"\"\n",
    "def message():\n",
    "    def text():\n",
    "        print('Python is a programming language.')\n",
    "    return text\n",
    "\n",
    "new_message=message()\n",
    "new_message()"
   ]
  },
  {
   "cell_type": "code",
   "execution_count": 42,
   "id": "c9ad0683",
   "metadata": {},
   "outputs": [
    {
     "ename": "NameError",
     "evalue": "name 'exponent' is not defined",
     "output_type": "error",
     "traceback": [
      "\u001b[1;31m---------------------------------------------------------------------------\u001b[0m",
      "\u001b[1;31mNameError\u001b[0m                                 Traceback (most recent call last)",
      "\u001b[1;32m~\\AppData\\Local\\Temp\\ipykernel_23316\\4077125841.py\u001b[0m in \u001b[0;36m<module>\u001b[1;34m\u001b[0m\n\u001b[0;32m      6\u001b[0m     \u001b[1;31m#output = exponent(num)\u001b[0m\u001b[1;33m\u001b[0m\u001b[1;33m\u001b[0m\u001b[0m\n\u001b[0;32m      7\u001b[0m     \u001b[1;32mreturn\u001b[0m \u001b[0mexponent\u001b[0m\u001b[1;33m\u001b[0m\u001b[1;33m\u001b[0m\u001b[0m\n\u001b[1;32m----> 8\u001b[1;33m \u001b[0mx\u001b[0m \u001b[1;33m=\u001b[0m \u001b[0mexponent\u001b[0m\u001b[1;33m(\u001b[0m\u001b[1;36m2\u001b[0m\u001b[1;33m)\u001b[0m\u001b[1;33m\u001b[0m\u001b[1;33m\u001b[0m\u001b[0m\n\u001b[0m\u001b[0;32m      9\u001b[0m \u001b[0mprint\u001b[0m\u001b[1;33m(\u001b[0m\u001b[0mx\u001b[0m\u001b[1;33m(\u001b[0m\u001b[1;36m2\u001b[0m\u001b[1;33m)\u001b[0m\u001b[1;33m)\u001b[0m\u001b[1;33m\u001b[0m\u001b[1;33m\u001b[0m\u001b[0m\n",
      "\u001b[1;31mNameError\u001b[0m: name 'exponent' is not defined"
     ]
    }
   ],
   "source": [
    "# find the exponent using nested function.\n",
    "def function(num):\n",
    "    def exponent(num):\n",
    "        return num * num\n",
    "    \n",
    "    #output = exponent(num)\n",
    "    return exponent\n",
    "x = exponent(2)\n",
    "print(x(2))"
   ]
  },
  {
   "cell_type": "code",
   "execution_count": 43,
   "id": "78848cd9",
   "metadata": {},
   "outputs": [
    {
     "name": "stdout",
     "output_type": "stream",
     "text": [
      "Python is the most popular language.\n"
     ]
    }
   ],
   "source": [
    "def msg(text):\n",
    "    'Hello World'\n",
    "    def mail():\n",
    "        'Hi, Python'\n",
    "        print(text)\n",
    "    mail()\n",
    "    \n",
    "msg('Python is the most popular language.')"
   ]
  },
  {
   "cell_type": "code",
   "execution_count": 44,
   "id": "3d4c3a58",
   "metadata": {},
   "outputs": [
    {
     "name": "stdout",
     "output_type": "stream",
     "text": [
      "6.28\n",
      "1.2738853503184713\n"
     ]
    }
   ],
   "source": [
    "# Define a function.\n",
    "\n",
    "\"\"\"\n",
    "In this function, the multi() and divide() functions as an argument in operator() functions are \n",
    "passed.\n",
    "\"\"\"\n",
    "def multi(x):\n",
    "    return x*3.14\n",
    "def divide(x):\n",
    "    return x/3.14\n",
    "def operator(function,x):\n",
    "    number=function(x)\n",
    "    return number\n",
    "\n",
    "print(operator(multi,2))\n",
    "print(operator(divide,4))"
   ]
  },
  {
   "cell_type": "code",
   "execution_count": 45,
   "id": "823591f4",
   "metadata": {},
   "outputs": [
    {
     "data": {
      "text/plain": [
       "5.859874482048838"
      ]
     },
     "execution_count": 45,
     "metadata": {},
     "output_type": "execute_result"
    }
   ],
   "source": [
    "def addition(num):\n",
    "    return num+math.pi\n",
    "\n",
    "def called_function(func):\n",
    "    added_number=math.e\n",
    "    return func(added_number)\n",
    "called_function(addition)"
   ]
  },
  {
   "cell_type": "markdown",
   "id": "08781dee",
   "metadata": {},
   "source": [
    "#  Functions reverting other functions."
   ]
  },
  {
   "cell_type": "code",
   "execution_count": 46,
   "id": "47518a2e",
   "metadata": {},
   "outputs": [
    {
     "name": "stdout",
     "output_type": "stream",
     "text": [
      "Python is a programming language.\n"
     ]
    }
   ],
   "source": [
    "def msg_func():\n",
    "    def text():\n",
    "        return 'Python is a programming language.'\n",
    "    return text\n",
    "msg = msg_func()\n",
    "print(msg())"
   ]
  },
  {
   "cell_type": "code",
   "execution_count": 47,
   "id": "8f8917c8",
   "metadata": {},
   "outputs": [
    {
     "name": "stdout",
     "output_type": "stream",
     "text": [
      "5.859874482048838\n"
     ]
    }
   ],
   "source": [
    "# Define a decorating function\n",
    "\"\"\"\n",
    "In the following example, the function outer_addition that is some extra function is decorated.\n",
    "\"\"\"\n",
    "def addition(a,b):\n",
    "    print(a+b)\n",
    "def outer_addition(func):\n",
    "    def inner(a,b):\n",
    "        if a<b:\n",
    "            a,b=b,a\n",
    "        return func(a,b)\n",
    "    return inner\n",
    "result=outer_addition(addition)\n",
    "result(math.pi,math.e)"
   ]
  },
  {
   "cell_type": "code",
   "execution_count": 48,
   "id": "06788d97",
   "metadata": {},
   "outputs": [
    {
     "name": "stdout",
     "output_type": "stream",
     "text": [
      "PYTHON IS THE MOST POPULAR PROGRMMING LANGUAGE.\n"
     ]
    }
   ],
   "source": [
    "def decorator_text_uppercase(func):\n",
    "    def wrapper():\n",
    "        function = func()\n",
    "        text_uppercase=function.upper()\n",
    "        return text_uppercase\n",
    "    return wrapper\n",
    "\n",
    "#def text():\n",
    "    #return 'Python is the most popular programming language.'\n",
    "\n",
    "@decorator_text_uppercase\n",
    "def text():\n",
    "    return 'Python is the most popular progrmming language.'\n",
    "\n",
    "print(text())"
   ]
  },
  {
   "cell_type": "code",
   "execution_count": 49,
   "id": "15caa2dd",
   "metadata": {},
   "outputs": [
    {
     "name": "stdout",
     "output_type": "stream",
     "text": [
      "PYTHON IS AN EASY TO LEARN, POWERFUL PROGRAMMING LANGUAGE. IT HAS EFFICIENT HIGH-LEVEL DATA STRUCTURES AND A SIMPLE BUT EFFECTIVE APPROACH TO OBJECT-ORIENTED PROGRAMMING. PYTHON’S ELEGANT SYNTAX AND DYNAMIC TYPING, TOGETHER WITH ITS INTERPRETED NATURE, MAKE IT AN IDEAL LANGUAGE FOR SCRIPTING AND RAPID APPLICATION DEVELOPMENT IN MANY AREAS ON MOST PLATFORMS.\n"
     ]
    }
   ],
   "source": [
    "@decorator_text_uppercase\n",
    "def x():\n",
    "    return 'Python is an easy to learn, powerful programming language. It has efficient high-level data structures and a simple but effective approach to object-oriented programming. Python’s elegant syntax and dynamic typing, together with its interpreted nature, make it an ideal language for scripting and rapid application development in many areas on most platforms.'\n",
    "print(x())"
   ]
  },
  {
   "cell_type": "markdown",
   "id": "9d8adcdf",
   "metadata": {},
   "source": [
    "# Fancy decorators\n",
    "\n",
    " * @propertymethod\n",
    " * @staticmethod\n",
    " * @classmethod"
   ]
  },
  {
   "cell_type": "code",
   "execution_count": 50,
   "id": "21471f7f",
   "metadata": {},
   "outputs": [
    {
     "name": "stdout",
     "output_type": "stream",
     "text": [
      "Person name: Divya\n",
      "Person age:25 \n",
      "Person contact:  78526889\n",
      "Message:Divya is a Beautiful girl and age is:25 Her contact no is: 78526889\n"
     ]
    }
   ],
   "source": [
    "class person:\n",
    "    def __init__(self,name,age,contact):\n",
    "        self.name=name\n",
    "        self.age=age\n",
    "        self.contact=contact\n",
    "    @property\n",
    "    def show(self):\n",
    "        return self.name+' is a Beautiful girl and age is:'+self.age+''+ 'Her contact no is:'+self.contact\n",
    "    \n",
    "man=person('Divya','25 ',' 78526889')\n",
    "print(f'Person name: {man.name}')\n",
    "print(f'Person age:{man.age}')\n",
    "print(f'Person contact: {man.contact}')\n",
    "print(f'Message:{man.show}')"
   ]
  },
  {
   "cell_type": "code",
   "execution_count": 51,
   "id": "d8d0f98d",
   "metadata": {},
   "outputs": [
    {
     "name": "stdout",
     "output_type": "stream",
     "text": [
      "Divya is a Beautiful girl and Her age is: 25 Her contact no is: 789456123\n",
      "Divya is a Beautiful girl and Her age is: 25 Her contact no is: 789456123\n"
     ]
    }
   ],
   "source": [
    "class person:\n",
    "    @staticmethod\n",
    "    def name():\n",
    "        print('Divya is a Beautiful girl and Her age is: 25 Her contact no is: 789456123')\n",
    "        \n",
    "man = person()\n",
    "man.name()\n",
    "person.name()"
   ]
  },
  {
   "cell_type": "code",
   "execution_count": 59,
   "id": "af1a35dc",
   "metadata": {},
   "outputs": [
    {
     "ename": "AttributeError",
     "evalue": "'parent' object has no attribute 'produdct'",
     "output_type": "error",
     "traceback": [
      "\u001b[1;31m---------------------------------------------------------------------------\u001b[0m",
      "\u001b[1;31mAttributeError\u001b[0m                            Traceback (most recent call last)",
      "\u001b[1;32m~\\AppData\\Local\\Temp\\ipykernel_23316\\2668635979.py\u001b[0m in \u001b[0;36m<module>\u001b[1;34m\u001b[0m\n\u001b[0;32m      9\u001b[0m \u001b[1;33m\u001b[0m\u001b[0m\n\u001b[0;32m     10\u001b[0m \u001b[0mparty\u001b[0m\u001b[1;33m=\u001b[0m \u001b[0mparent\u001b[0m\u001b[1;33m.\u001b[0m\u001b[0mdisplay\u001b[0m\u001b[1;33m(\u001b[0m\u001b[1;33m)\u001b[0m\u001b[1;33m\u001b[0m\u001b[1;33m\u001b[0m\u001b[0m\n\u001b[1;32m---> 11\u001b[1;33m \u001b[0mprint\u001b[0m\u001b[1;33m(\u001b[0m\u001b[1;34mf'The Man {party.name} is member of {party.produdct} is very Sucessful CM.'\u001b[0m\u001b[1;33m)\u001b[0m\u001b[1;33m\u001b[0m\u001b[1;33m\u001b[0m\u001b[0m\n\u001b[0m",
      "\u001b[1;31mAttributeError\u001b[0m: 'parent' object has no attribute 'produdct'"
     ]
    }
   ],
   "source": [
    "class parent:\n",
    "    def __init__(self,name,product):\n",
    "        self.name = name\n",
    "        self.product = product\n",
    "        \n",
    "    @classmethod\n",
    "    def display(cls):\n",
    "        return cls('Yogi','BJP')\n",
    "    \n",
    "party= parent.display()\n",
    "print(f'The Man {party.name} is member of {party.produdct} is very Sucessful CM.')\n"
   ]
  },
  {
   "cell_type": "code",
   "execution_count": 63,
   "id": "06a44203",
   "metadata": {},
   "outputs": [
    {
     "name": "stdout",
     "output_type": "stream",
     "text": [
      "This is a class method\n",
      "Class: <class '__main__.MyClass'>\n",
      "Value: 10\n",
      "This is a class method\n",
      "Class: <class '__main__.MyClass'>\n",
      "Value: 30\n"
     ]
    }
   ],
   "source": [
    "class MyClass:\n",
    "    def __init__(self, value):\n",
    "        self.value = value\n",
    "\n",
    "    @classmethod\n",
    "    def class_method(cls, x):\n",
    "        print(\"This is a class method\")\n",
    "        print(\"Class:\", cls)\n",
    "        print(\"Value:\", x)\n",
    "\n",
    "\n",
    "MyClass.class_method(10)\n",
    "\n",
    "\n",
    "obj = MyClass(20)\n",
    "\n",
    "\n",
    "obj.class_method(30)\n",
    "\n"
   ]
  },
  {
   "cell_type": "code",
   "execution_count": 65,
   "id": "5c2d0919",
   "metadata": {},
   "outputs": [],
   "source": [
    "import datetime\n"
   ]
  },
  {
   "cell_type": "code",
   "execution_count": 69,
   "id": "e49a28f8",
   "metadata": {},
   "outputs": [
    {
     "ename": "NameError",
     "evalue": "name 'date' is not defined",
     "output_type": "error",
     "traceback": [
      "\u001b[1;31m---------------------------------------------------------------------------\u001b[0m",
      "\u001b[1;31mNameError\u001b[0m                                 Traceback (most recent call last)",
      "\u001b[1;32m~\\AppData\\Local\\Temp\\ipykernel_23316\\2521686438.py\u001b[0m in \u001b[0;36m<module>\u001b[1;34m\u001b[0m\n\u001b[1;32m----> 1\u001b[1;33m \u001b[0mdate\u001b[0m\u001b[1;33m.\u001b[0m\u001b[0mtoday\u001b[0m\u001b[1;33m(\u001b[0m\u001b[1;33m)\u001b[0m\u001b[1;33m\u001b[0m\u001b[1;33m\u001b[0m\u001b[0m\n\u001b[0m",
      "\u001b[1;31mNameError\u001b[0m: name 'date' is not defined"
     ]
    }
   ],
   "source": [
    "date.today()"
   ]
  },
  {
   "cell_type": "code",
   "execution_count": 70,
   "id": "b015a6f1",
   "metadata": {},
   "outputs": [
    {
     "name": "stdout",
     "output_type": "stream",
     "text": [
      "01-06-2023\n"
     ]
    }
   ],
   "source": [
    "from datetime import date\n",
    "\n",
    "current_date = date.today()\n",
    "formatted_date = current_date.strftime(\"%d-%m-%Y\")\n",
    "print(formatted_date)"
   ]
  },
  {
   "cell_type": "code",
   "execution_count": null,
   "id": "9f78d37e",
   "metadata": {},
   "outputs": [],
   "source": []
  }
 ],
 "metadata": {
  "kernelspec": {
   "display_name": "Python 3 (ipykernel)",
   "language": "python",
   "name": "python3"
  },
  "language_info": {
   "codemirror_mode": {
    "name": "ipython",
    "version": 3
   },
   "file_extension": ".py",
   "mimetype": "text/x-python",
   "name": "python",
   "nbconvert_exporter": "python",
   "pygments_lexer": "ipython3",
   "version": "3.9.13"
  }
 },
 "nbformat": 4,
 "nbformat_minor": 5
}
