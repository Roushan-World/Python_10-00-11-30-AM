{
 "cells": [
  {
   "cell_type": "markdown",
   "id": "3d06bbc5",
   "metadata": {},
   "source": [
    "# 18. Decorators in Python\n",
    "\n",
    " * Decorators provides a simple syntax for calling higher-order functions.\n",
    " * By definition, a decorator is a function that takes another function and extends the behavior of the latter function without explicitly modifying it.\n",
    " * A decorator in Python is a function that takes another functions as its argument, and returns yet another function.\n",
    " * Decorators can be extremely useful as they allow the extension of an existing funciton, without any modification to the original function source code.\n",
    " * In fact, there are two types of decorators in Python including class decorators and function decorators.\n",
    " * In application, decorators are majorly used in creating middle layer in the backed, it performs task like token authentication, validation, image compression and many more."
   ]
  },
  {
   "cell_type": "markdown",
   "id": "11d7a507",
   "metadata": {},
   "source": [
    "# syntax for Decorators"
   ]
  },
  {
   "cell_type": "code",
   "execution_count": 1,
   "id": "8147f328",
   "metadata": {},
   "outputs": [
    {
     "data": {
      "text/plain": [
       "\"\\nAbove code is equal to-\\ndef hi_decorator():\\n    print('Hello')\\nhi_decorator=hello_decorator(hi_decorator)\\n\\n\""
      ]
     },
     "execution_count": 1,
     "metadata": {},
     "output_type": "execute_result"
    }
   ],
   "source": [
    "'''\n",
    "@hello_decorator\n",
    "def hi_decorator():\n",
    "    print('Hello')\n",
    "\n",
    "'''\n",
    "\n",
    "\"\"\"\n",
    "Above code is equal to-\n",
    "def hi_decorator():\n",
    "    print('Hello')\n",
    "hi_decorator=hello_decorator(hi_decorator)\n",
    "\n",
    "\"\"\""
   ]
  },
  {
   "cell_type": "code",
   "execution_count": 12,
   "id": "ac082820",
   "metadata": {},
   "outputs": [],
   "source": [
    "# import libraries\n",
    "\n",
    "import decorator\n",
    "from decorator import *   # *-----everyting\n",
    "import functools\n",
    "import math"
   ]
  },
  {
   "cell_type": "code",
   "execution_count": 13,
   "id": "04765f70",
   "metadata": {},
   "outputs": [
    {
     "name": "stdout",
     "output_type": "stream",
     "text": [
      "Help on function decorator in module decorator:\n",
      "\n",
      "decorator(caller, _func=None, kwsyntax=False)\n",
      "    decorator(caller) converts a caller function into a decorator\n",
      "\n"
     ]
    }
   ],
   "source": [
    "help(decorator)"
   ]
  },
  {
   "cell_type": "markdown",
   "id": "04b76885",
   "metadata": {},
   "source": [
    "# functions"
   ]
  },
  {
   "cell_type": "code",
   "execution_count": 14,
   "id": "f6d4819f",
   "metadata": {},
   "outputs": [
    {
     "name": "stdout",
     "output_type": "stream",
     "text": [
      "Python is a programming language.\n",
      "Hello,Python!\n"
     ]
    }
   ],
   "source": [
    "# Define a function\n",
    "\n",
    "'''\n",
    "In the following function, when the code was executed, it yeilds the outputs for both functions.\n",
    "The function new_text() allowed to the funtion mytext() and behave as a funciton.\n",
    "'''\n",
    "\n",
    "def mytext(text):\n",
    "    print(text)\n",
    "    \n",
    "mytext('Python is a programming language.')\n",
    "new_text=mytext\n",
    "new_text('Hello,Python!')"
   ]
  },
  {
   "cell_type": "code",
   "execution_count": 15,
   "id": "95dcede0",
   "metadata": {},
   "outputs": [
    {
     "data": {
      "text/plain": [
       "9.8596"
      ]
     },
     "execution_count": 15,
     "metadata": {},
     "output_type": "execute_result"
    }
   ],
   "source": [
    "def multiplication(num):\n",
    "    return num * num\n",
    "multi=multiplication\n",
    "multi(3.14)"
   ]
  },
  {
   "cell_type": "markdown",
   "id": "b90e476e",
   "metadata": {},
   "source": [
    "# Nested/Inner Functions"
   ]
  },
  {
   "cell_type": "code",
   "execution_count": 16,
   "id": "a0a76b44",
   "metadata": {},
   "outputs": [
    {
     "name": "stdout",
     "output_type": "stream",
     "text": [
      "Python is a programming language.\n",
      "Hello World\n",
      "Hi,World\n"
     ]
    }
   ],
   "source": [
    "# Define a function\n",
    "\n",
    "'''\n",
    "In the following function, it is nonsignificant how the child functions are announced.\n",
    "The implementation of the child function does influence on the output.\n",
    "These child functions are topically linked with the function mytex(), therefore they can not be \n",
    "called Individually.\n",
    "'''\n",
    "\n",
    "\n",
    "def mytext():\n",
    "    print('Python is a programming language.')\n",
    "    def new_text():\n",
    "        print('Hello World')\n",
    "    def message():\n",
    "        print('Hi,World')\n",
    "    \n",
    "    new_text()\n",
    "    message()\n",
    "mytext()"
   ]
  },
  {
   "cell_type": "code",
   "execution_count": 17,
   "id": "8ae9cbae",
   "metadata": {},
   "outputs": [
    {
     "name": "stdout",
     "output_type": "stream",
     "text": [
      "Python is a programming language.\n"
     ]
    }
   ],
   "source": [
    "# Define a function\n",
    "\n",
    "\"\"\"\n",
    "In the following example, the function text() is nested into function message().\n",
    "It will return each time when the function text() is called.\n",
    "\"\"\"\n",
    "def message():\n",
    "    def text():\n",
    "        print('Python is a programming language.')\n",
    "    return text\n",
    "\n",
    "new_message=message()\n",
    "new_message()"
   ]
  },
  {
   "cell_type": "code",
   "execution_count": 30,
   "id": "c9ad0683",
   "metadata": {},
   "outputs": [
    {
     "name": "stdout",
     "output_type": "stream",
     "text": [
      "4\n"
     ]
    }
   ],
   "source": [
    "# find the exponent using nested function.\n",
    "def function(num):\n",
    "    def exponent(num):\n",
    "        return num * num\n",
    "    \n",
    "    #output = exponent(num)\n",
    "    return exponent\n",
    "x = exponent(2)\n",
    "print(x(2))"
   ]
  },
  {
   "cell_type": "code",
   "execution_count": 31,
   "id": "78848cd9",
   "metadata": {},
   "outputs": [
    {
     "name": "stdout",
     "output_type": "stream",
     "text": [
      "Python is the most popular language.\n"
     ]
    }
   ],
   "source": [
    "def msg(text):\n",
    "    'Hello World'\n",
    "    def mail():\n",
    "        'Hi, Python'\n",
    "        print(text)\n",
    "    mail()\n",
    "    \n",
    "msg('Python is the most popular language.')"
   ]
  },
  {
   "cell_type": "code",
   "execution_count": 33,
   "id": "3d4c3a58",
   "metadata": {},
   "outputs": [
    {
     "name": "stdout",
     "output_type": "stream",
     "text": [
      "6.28\n",
      "1.2738853503184713\n"
     ]
    }
   ],
   "source": [
    "# Define a function.\n",
    "\n",
    "\"\"\"\n",
    "In this function, the multi() and divide() functions as an argument in operator() functions are \n",
    "passed.\n",
    "\"\"\"\n",
    "def multi(x):\n",
    "    return x*3.14\n",
    "def divide(x):\n",
    "    return x/3.14\n",
    "def operator(function,x):\n",
    "    number=function(x)\n",
    "    return number\n",
    "\n",
    "print(operator(multi,2))\n",
    "print(operator(divide,4))"
   ]
  },
  {
   "cell_type": "code",
   "execution_count": null,
   "id": "823591f4",
   "metadata": {},
   "outputs": [],
   "source": []
  }
 ],
 "metadata": {
  "kernelspec": {
   "display_name": "Python 3 (ipykernel)",
   "language": "python",
   "name": "python3"
  },
  "language_info": {
   "codemirror_mode": {
    "name": "ipython",
    "version": 3
   },
   "file_extension": ".py",
   "mimetype": "text/x-python",
   "name": "python",
   "nbconvert_exporter": "python",
   "pygments_lexer": "ipython3",
   "version": "3.9.13"
  }
 },
 "nbformat": 4,
 "nbformat_minor": 5
}
