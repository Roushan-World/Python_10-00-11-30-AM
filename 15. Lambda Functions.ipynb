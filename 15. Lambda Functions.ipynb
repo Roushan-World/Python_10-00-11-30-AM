{
 "cells": [
  {
   "cell_type": "markdown",
   "id": "5a22a166",
   "metadata": {},
   "source": [
    "# 15. Lambda Functions in Python\n"
   ]
  },
  {
   "cell_type": "markdown",
   "id": "cde7bd3a",
   "metadata": {},
   "source": [
    "* A lambda function is a small anonymous function.\n",
    "* A lambda function can take any number of arguments, but can only have one expression.\n",
    "* The expression is evaluated and returned.\n",
    "* Lambda functions can be used wherever function objects are required.\n",
    "* Lambda expression (or lambda functions) are essentially blocks of code that can be assigned to\n",
    "* variables, passed as an arguments, or returned from a fucntion call, in languages that support high-order functions.\n",
    "\n",
    "* They have been part of programming languages for quire some time.\n",
    "* The main role of lambda function is better described in the scenarios when we employ them anonymously inside another function.\n",
    "\n",
    "* n Python, the lambda function can be utilized as an arguments to the high order functions as argument."
   ]
  },
  {
   "cell_type": "code",
   "execution_count": 1,
   "id": "8e04c485",
   "metadata": {},
   "outputs": [
    {
     "name": "stdout",
     "output_type": "stream",
     "text": [
      "16\n"
     ]
    }
   ],
   "source": [
    "# Define a function using 'def'\n",
    "\n",
    "def f(x):\n",
    "    return x+6\n",
    "print(f(10))"
   ]
  },
  {
   "cell_type": "code",
   "execution_count": 2,
   "id": "6c0d63bf",
   "metadata": {},
   "outputs": [
    {
     "data": {
      "text/plain": [
       "16"
      ]
     },
     "execution_count": 2,
     "metadata": {},
     "output_type": "execute_result"
    }
   ],
   "source": [
    "# Define the some value function using 'Lambda'\n",
    "(lambda x:x+6)(10)"
   ]
  },
  {
   "cell_type": "code",
   "execution_count": 6,
   "id": "72b50fa9",
   "metadata": {},
   "outputs": [
    {
     "data": {
      "text/plain": [
       "10.0"
      ]
     },
     "execution_count": 6,
     "metadata": {},
     "output_type": "execute_result"
    }
   ],
   "source": [
    "(lambda y:y/2)(20)"
   ]
  },
  {
   "cell_type": "code",
   "execution_count": 7,
   "id": "c97ceb57",
   "metadata": {},
   "outputs": [
    {
     "data": {
      "text/plain": [
       "100000000000000000000"
      ]
     },
     "execution_count": 7,
     "metadata": {},
     "output_type": "execute_result"
    }
   ],
   "source": [
    "10**20"
   ]
  },
  {
   "cell_type": "code",
   "execution_count": 8,
   "id": "8b792d7f",
   "metadata": {},
   "outputs": [
    {
     "name": "stdout",
     "output_type": "stream",
     "text": [
      "The Exponent of 2 and  4 is 16\n"
     ]
    }
   ],
   "source": [
    "def f(x,y):\n",
    "    return x**y\n",
    "print('The Exponent of {} and  {} is'.format(2,4),f(2,4))"
   ]
  },
  {
   "cell_type": "code",
   "execution_count": 9,
   "id": "49d57832",
   "metadata": {},
   "outputs": [
    {
     "name": "stdout",
     "output_type": "stream",
     "text": [
      "The Power of 2 and 4 is 16.\n"
     ]
    }
   ],
   "source": [
    "print(f'The Power of 2 and 4 is {(lambda x,y: x**y)(2,4)}.')"
   ]
  },
  {
   "cell_type": "code",
   "execution_count": 10,
   "id": "563c987d",
   "metadata": {},
   "outputs": [
    {
     "name": "stdout",
     "output_type": "stream",
     "text": [
      "The volume of cube using def function is 64\n"
     ]
    }
   ],
   "source": [
    "def cube_volume(a):\n",
    "    return a*a*a\n",
    "print(f'The volume of cube using def function is {cube_volume(4)}')"
   ]
  },
  {
   "cell_type": "code",
   "execution_count": 5,
   "id": "926d4984",
   "metadata": {},
   "outputs": [
    {
     "data": {
      "text/plain": [
       "8"
      ]
     },
     "execution_count": 5,
     "metadata": {},
     "output_type": "execute_result"
    }
   ],
   "source": [
    "# Display the volume of cube with lambda function.\n",
    "(lambda a:a*a*a)(2)"
   ]
  },
  {
   "cell_type": "code",
   "execution_count": 11,
   "id": "9abe70eb",
   "metadata": {},
   "outputs": [
    {
     "data": {
      "text/plain": [
       "[6, 28, 100]"
      ]
     },
     "execution_count": 11,
     "metadata": {},
     "output_type": "execute_result"
    }
   ],
   "source": [
    "# program returns a new list when the special numbers in the list are divided by 2 \n",
    "# and and the remainder is 0.\n",
    "special=[0.577,1.618,2.718,3.147,6,28,37,1729,100]\n",
    "\n",
    "list(filter(lambda x:(x%2==0),special))"
   ]
  },
  {
   "cell_type": "code",
   "execution_count": 4,
   "id": "944d4937",
   "metadata": {},
   "outputs": [
    {
     "name": "stdout",
     "output_type": "stream",
     "text": [
      "Enter your age: 16\n",
      "The entered age is 16\n",
      "You are not elegible for voting.\n"
     ]
    }
   ],
   "source": [
    "# Lambda function with if/else\n",
    "\n",
    "\n",
    "age=int(input('Enter your age: '))\n",
    "print(f'The entered age is {age}')\n",
    "(lambda age:print('Therefore, your can use a vote.') if age>=18 else print('You are not elegible for voting.'))(age)"
   ]
  },
  {
   "cell_type": "code",
   "execution_count": 12,
   "id": "a4d10f9f",
   "metadata": {},
   "outputs": [],
   "source": [
    "number=[23,45,78,98,56,74,78.25,99,66,25]"
   ]
  },
  {
   "cell_type": "code",
   "execution_count": 13,
   "id": "9f8bc84c",
   "metadata": {},
   "outputs": [
    {
     "name": "stdout",
     "output_type": "stream",
     "text": [
      "Python is a programming language.\n"
     ]
    }
   ],
   "source": [
    "text='Python is a programming language.'\n",
    "\n",
    "(lambda text:print(text))(text)"
   ]
  },
  {
   "cell_type": "code",
   "execution_count": null,
   "id": "8427917b",
   "metadata": {},
   "outputs": [],
   "source": [
    "x ='lambda is pre-defined function.'"
   ]
  },
  {
   "cell_type": "code",
   "execution_count": 14,
   "id": "d489b97d",
   "metadata": {},
   "outputs": [
    {
     "name": "stdout",
     "output_type": "stream",
     "text": [
      "[37.68, 2.0, 50, 50, 1, 9, 8]\n"
     ]
    }
   ],
   "source": [
    "lambda_list=[]\n",
    "# Multiplication of pi number and 12 in one line using lambda function.\n",
    "\n",
    "lambda_list.append((lambda x:x*3.14)(12))\n",
    "#print(lambda_list)\n",
    "lambda_list.append((lambda y:y/10)(20))\n",
    "#print(lambda_list)\n",
    "lambda_list.append((lambda g:g+20)(30))\n",
    "#print(lambda_list)\n",
    "lambda_list.append((lambda x:x-50)(100))\n",
    "#print(lambda_list)\n",
    "lambda_list.append((lambda x:x%2)(27))\n",
    "#print(lambda_list)\n",
    "lambda_list.append((lambda x:x//3)(28))\n",
    "#print(lambda_list)\n",
    "lambda_list.append((lambda x:x**3)(2))\n",
    "print(lambda_list)"
   ]
  },
  {
   "cell_type": "code",
   "execution_count": 6,
   "id": "8a67682b",
   "metadata": {},
   "outputs": [
    {
     "name": "stdout",
     "output_type": "stream",
     "text": [
      "['Amey', 'Shardul', 'Gambhir', 'Rana', 'Rinku', 'Kholi', 'Delhi', 'Meyers', 'LSG', 'RCB']\n"
     ]
    }
   ],
   "source": [
    "# 10 string name new_variable in list with lambda function.\n",
    "new_variable = []\n",
    "\n",
    "new_variable.append((lambda x:x)('Amey'))\n",
    "new_variable.append((lambda x:x)('Shardul'))\n",
    "new_variable.append((lambda x:x)('Gambhir'))\n",
    "new_variable.append((lambda x:x)('Rana'))\n",
    "new_variable.append((lambda x:x)('Rinku'))\n",
    "new_variable.append((lambda x:x)('Kholi'))\n",
    "new_variable.append((lambda x:x)('Delhi'))\n",
    "new_variable.append((lambda x:x)('Meyers'))\n",
    "new_variable.append((lambda x:x)('LSG'))\n",
    "new_variable.append((lambda x:x)('RCB'))\n",
    "print(new_variable)"
   ]
  },
  {
   "cell_type": "code",
   "execution_count": null,
   "id": "53d5449c",
   "metadata": {},
   "outputs": [],
   "source": [
    "# Write a lambda function with formula of area_Rectangle?\n",
    "# find the area of circle with lambda function and radius is entered by the user.\n",
    "# find the area of square with lambda function and are is entered by the user.\n",
    "# find the perimeter of square with lambda function and perimeter is entered by the user.\n",
    "# find the perimeter of rectangle with lambda function and perimeter is entered by the user."
   ]
  },
  {
   "cell_type": "code",
   "execution_count": null,
   "id": "af66cb83",
   "metadata": {},
   "outputs": [],
   "source": []
  },
  {
   "cell_type": "code",
   "execution_count": 20,
   "id": "11894cae",
   "metadata": {},
   "outputs": [
    {
     "name": "stdout",
     "output_type": "stream",
     "text": [
      "Enter the length:2\n",
      "Enter the breadth:3\n",
      "area of Rectangle 6\n"
     ]
    }
   ],
   "source": [
    "\n",
    "l = int(input('Enter the length:'))\n",
    "b = int(input('Enter the breadth:'))\n",
    "print('area of Rectangle',(lambda area:l*b)(area))"
   ]
  },
  {
   "cell_type": "code",
   "execution_count": 16,
   "id": "57f36b35",
   "metadata": {},
   "outputs": [
    {
     "name": "stdout",
     "output_type": "stream",
     "text": [
      "Enter the length:2\n",
      "Enter the breadth:3\n"
     ]
    },
    {
     "data": {
      "text/plain": [
       "6"
      ]
     },
     "execution_count": 16,
     "metadata": {},
     "output_type": "execute_result"
    }
   ],
   "source": [
    "l = int(input('Enter the length:'))\n",
    "b = int(input('Enter the breadth:'))\n",
    "area = 0\n",
    "(lambda area:l*b)(area)"
   ]
  },
  {
   "cell_type": "code",
   "execution_count": 21,
   "id": "2a1dee61",
   "metadata": {},
   "outputs": [
    {
     "name": "stdout",
     "output_type": "stream",
     "text": [
      "Enter your radius6\n",
      "The area of circle: 113.03999999999999\n"
     ]
    }
   ],
   "source": [
    "radius=int(input('Enter your radius'))\n",
    "print('The area of circle:',(lambda area:3.14*radius*radius)(area))"
   ]
  },
  {
   "cell_type": "code",
   "execution_count": 23,
   "id": "c6b38edd",
   "metadata": {},
   "outputs": [
    {
     "name": "stdout",
     "output_type": "stream",
     "text": [
      "Enter your radius6\n"
     ]
    },
    {
     "data": {
      "text/plain": [
       "113.09733552923255"
      ]
     },
     "execution_count": 23,
     "metadata": {},
     "output_type": "execute_result"
    }
   ],
   "source": [
    "# Area of a circle \n",
    "import math\n",
    "radius = int(input('Enter your radius'))\n",
    "(lambda area:math.pi*radius*radius)(area)\n"
   ]
  },
  {
   "cell_type": "code",
   "execution_count": 24,
   "id": "311e81bd",
   "metadata": {},
   "outputs": [
    {
     "name": "stdout",
     "output_type": "stream",
     "text": [
      "Enter the side of a square6\n"
     ]
    },
    {
     "data": {
      "text/plain": [
       "36"
      ]
     },
     "execution_count": 24,
     "metadata": {},
     "output_type": "execute_result"
    }
   ],
   "source": [
    "# Area of Square\n",
    "side = int(input('Enter the side of a square'))\n",
    "(lambda area:side*side)(area)"
   ]
  },
  {
   "cell_type": "code",
   "execution_count": 30,
   "id": "b09d4226",
   "metadata": {},
   "outputs": [
    {
     "name": "stdout",
     "output_type": "stream",
     "text": [
      "Enter your side 4\n",
      "The perimeter of Square is 16\n"
     ]
    }
   ],
   "source": [
    "perimeter=0\n",
    "side = int(input('Enter your side '))\n",
    "print('The perimeter of Square is:',(lambda perimeter:4*side)(perimeter))"
   ]
  },
  {
   "cell_type": "code",
   "execution_count": 37,
   "id": "1a38afd0",
   "metadata": {},
   "outputs": [
    {
     "name": "stdout",
     "output_type": "stream",
     "text": [
      "Enter your length 2\n",
      "Enter your width 3\n",
      "The perimeter of rectangle is: 10\n"
     ]
    }
   ],
   "source": [
    "perimeter=0\n",
    "length=int(input('Enter your length '))\n",
    "width=int(input('Enter your width '))\n",
    "print('The perimeter of rectangle is:',(lambda perimeter:2*length+2*width)(perimeter))"
   ]
  },
  {
   "cell_type": "code",
   "execution_count": null,
   "id": "99ba17bd",
   "metadata": {},
   "outputs": [],
   "source": []
  }
 ],
 "metadata": {
  "kernelspec": {
   "display_name": "Python 3 (ipykernel)",
   "language": "python",
   "name": "python3"
  },
  "language_info": {
   "codemirror_mode": {
    "name": "ipython",
    "version": 3
   },
   "file_extension": ".py",
   "mimetype": "text/x-python",
   "name": "python",
   "nbconvert_exporter": "python",
   "pygments_lexer": "ipython3",
   "version": "3.9.13"
  }
 },
 "nbformat": 4,
 "nbformat_minor": 5
}
