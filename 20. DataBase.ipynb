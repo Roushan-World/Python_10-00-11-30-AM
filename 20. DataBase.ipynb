{
 "cells": [
  {
   "cell_type": "markdown",
   "id": "7f841c75",
   "metadata": {},
   "source": [
    "# 20. DataBase\n"
   ]
  },
  {
   "cell_type": "markdown",
   "id": "e1406449",
   "metadata": {},
   "source": [
    "__Q.What is SQL__\n",
    "\n",
    "    * SQL (Structure Query Language) is a programming language used to interact with DataBase."
   ]
  },
  {
   "cell_type": "markdown",
   "id": "f29802b4",
   "metadata": {},
   "source": [
    "__SQL APPLICATIONS:__\n",
    "\n",
    "    * __CRUD__ is an operations for CREATE, READ(SELECT), UPDATE and DELETE Statement in SQL."
   ]
  },
  {
   "cell_type": "markdown",
   "id": "30e0d1c7",
   "metadata": {},
   "source": [
    " __1.RELATIONAL DATABASE__          \n",
    " * Data stored in Tables.           \n",
    " * These databases have fixed or static or predefined schema.\n",
    " * Low performance with huge volume of data.\n",
    " * Ex:- Postgres, MySQL,MS-SQL Server\n",
    " \n",
    " \n",
    " \n",
    " __2.NON-RELATIONAL DATABASE__\n",
    " * Data stored in either key-value pairs, documents-based,graph database or wide column sote.\n",
    " * They have dynamic schemas.\n",
    " * Easily work with huge amount of data.\n",
    " * MongoDB, Cassandra,HBase.\n",
    " "
   ]
  },
  {
   "cell_type": "markdown",
   "id": "a59a8eb4",
   "metadata": {},
   "source": [
    "# SQL commands:\n",
    "\n",
    "\n",
    " * There are mainly 3 types of SQL commands\n",
    "     1. __DDL__(Data Definition Language) : Create,Alter and Drop\n",
    "     2. __DML__(Data Manipulation Langauge) : Select, Insert, Update and Delete.\n",
    "     3. __DCL__(Data Control Language) : Grand and Revoke Permission to users."
   ]
  },
  {
   "cell_type": "markdown",
   "id": "0a7171fb",
   "metadata": {},
   "source": [
    "__Q.What is DataBase?__\n",
    "\n",
    "  * __DataBase__ is a system that allow users to store and organise data.\n",
    "  \n",
    "  \n",
    "  __1.Excel__\n",
    "  * 1. Easy to use untrained person can work.\n",
    "  * 2. Data stored less data.\n",
    "  * 3. Good for one-time analysis, Quick charts.\n",
    "  * 4. No data integrity due to manual operations.\n",
    "  * 5. Low search/ Filter capability.\n",
    "  \n",
    " __2.DataBase__\n",
    "  * 1. Trained person can Work.\n",
    "  * 2. Stores large amount of data.\n",
    "  * 3. Can automate tasks.\n",
    "  * 4. High data integrity.\n",
    "  * 5. High search/ Filter capability."
   ]
  },
  {
   "cell_type": "markdown",
   "id": "694e31e9",
   "metadata": {},
   "source": [
    "# SQL DataBase\n",
    "\n",
    " * 1. Tera Data.\n",
    " * 2. Microsoft SQL Server\n",
    " * 3. SQL\n",
    " * 4. Amazon RDS\n",
    " * 5. Oracle DataBase\n",
    " * 6. MySQL\n",
    " * 7. Snow Flake\n",
    " * 8. Postgres\n",
    " * 9. Sap S/4 Hana etc . These are some Query."
   ]
  },
  {
   "cell_type": "markdown",
   "id": "07ca2828",
   "metadata": {},
   "source": [
    "# Q. What are the type of DataBase?\n",
    "\n",
    "  * DataBase type of a column defines what the value the column can store in the table.\n",
    "  * Defined while creating tables in databases.\n",
    "  * Data type mainly classified into three Categories are used.\n",
    "  * 1. __String__ : char,varchar, etc.\n",
    "  * 2. __Numeric__ : int,float,bool etc.\n",
    "  * 3. __Date and time__ : data, datetime etc.\n",
    "  \n",
    "__NOTE__\n",
    " \n",
    " * __char__ : Fixed length string that can contains numbers, letter and special character.\n",
    " * __varchar__ : Variable length string that can contains number, letters, special characters.\n",
    " * __int__ : Integer is used for the integer value.\n",
    " * __float__ : Float is used to specify a decimal point number.\n",
    " * __bool__ : Bool is used to specify Boolean values that is \"TRUE\" or \"FALSE\".\n",
    " * __date__ : Date is used to display format YYYY-MM-DD.\n",
    " * __datetime__ : Date and Time is used to display date & time combinations format is YYYY-MM-DD and HH:MM:SS."
   ]
  },
  {
   "cell_type": "markdown",
   "id": "16c79098",
   "metadata": {},
   "source": [
    "# Primary And Foreign Key:\n",
    "\n",
    "\n",
    " __Primary Keys(PK)__:-\n",
    " \n",
    "  * A Primary key is a unique column we set in a table to easily identify and locate data in queries.\n",
    "  * A table have only one primary key, which shuld be unique and NOT NULL values.\n",
    "  \n",
    "  \n",
    " __Foreign Keys(FK)__:-\n",
    " \n",
    "  * A Foreign key is a column used to link two or more table together.\n",
    "  * A table can have any number of foreign keys, can contains duplicate and NOT NULL values."
   ]
  },
  {
   "cell_type": "markdown",
   "id": "15456beb",
   "metadata": {},
   "source": [
    "# Constraints (Rule)\n",
    "\n",
    "__RULE__:\n",
    " \n",
    " * Constraints are used to specify rule for data in a table.\n",
    " * This ensures the accuracy and realiablity of the data in the table.\n",
    " * Constrains can specify when the table is created with CREATE TABLE statement, or and after the table is created with ALTER TABlE statement.\n",
    " \n",
    "__Syntax__\n",
    "\n",
    "        CREATE TABLE table_name(\n",
    "                Column1 datatype constraints,\n",
    "                Column2 datatype constraints,\n",
    "                Column3 datatype constraints\n",
    "        \n",
    "        \n",
    "        );\n",
    " \n",
    " \n",
    " "
   ]
  },
  {
   "cell_type": "markdown",
   "id": "135bc827",
   "metadata": {},
   "source": [
    "# Commonly used Constrains in SQL:\n",
    "\n",
    "\n",
    " * __NOT NULL__: Ensure that a column can not have a NULL value.\n",
    " * __UNIQUE__ : Ensure that all values in a column are different.\n",
    " * __PRIMARY KEY__ : A combination of a NOT NULL and UNIQUE.\n",
    " * __FOREIGN KEY__ : Prevents action that would destroy links between tables (used to link multiple tables together).\n",
    " * __CHECK__ : Ensure that the values in a column satisfies a specific condition.\n",
    " * __DEFAULT__ : Sets a default values for a column if no value is specified.\n",
    " * __CREATE INDEX__ : Used to create and retrieve data form database very quickly."
   ]
  },
  {
   "cell_type": "markdown",
   "id": "d46cfca5",
   "metadata": {},
   "source": [
    "# 2. Basic SQL Syntax\n",
    "\n",
    "\n",
    "* Let's look at the fundamental __SQL Commands:__ SELECT, FROM, WHERE, GROUPBY, HAVING, and ORDER BY."
   ]
  },
  {
   "cell_type": "markdown",
   "id": "56427ce4",
   "metadata": {},
   "source": [
    "# 2.1 SELECT and FROM\n",
    "\n",
    "\n",
    " * The __SELECT__ statement is used to select data from a databse, and the __FROM__ statement specifies which table to get the data from.\n",
    " \n",
    " \n",
    " __Query syntax__\n",
    " \n",
    " __SELECT__ FirstName,LastName\n",
    " \n",
    " __FROM__ Employees;\n",
    " \n",
    " \n",
    " * This query retrieves all first and last names from the __Employees__ table.\n",
    " * If you want to select all columns, use * symbol:\n",
    " \n",
    " \n",
    " __SELECT * FROM__ Empoloyees;"
   ]
  },
  {
   "cell_type": "markdown",
   "id": "a52b0ff6",
   "metadata": {},
   "source": [
    "# 2.2 WHERE\n",
    "\n",
    "\n",
    " * The __WHERE__ clause is used to filter records:\n",
    " \n",
    " __Query Syntax__\n",
    " \n",
    " __SELECT *__\n",
    " \n",
    " __FROM__ \"Employees\"\n",
    " \n",
    " __WHERE Position__ = 'Analyst'; \n",
    " \n",
    " \n",
    " * This query retrieves all data from employees who are analysts."
   ]
  },
  {
   "cell_type": "markdown",
   "id": "08782e32",
   "metadata": {},
   "source": [
    "# GROUPBY and HAVING\n",
    "\n",
    " * __GROUP BY__ groups rows that have the same values in specified columns into aggregated data. __HAVING__ is used instead of __WHERE__ with aggregated data.\n",
    " \n",
    " \n",
    " \n",
    " __Query Syntax__\n",
    " \n",
    " __SELECT \"Position\", COUNT(*)__\n",
    " \n",
    " FROM \"Employees\"\n",
    " \n",
    " GROUP BY \"Position\"\n",
    " \n",
    " HAVING COUNT(*) >1;\n",
    " \n",
    " \n",
    " * This query shows postions held by more than one employee.\n"
   ]
  },
  {
   "cell_type": "code",
   "execution_count": null,
   "id": "7bccc3ad",
   "metadata": {},
   "outputs": [],
   "source": []
  }
 ],
 "metadata": {
  "kernelspec": {
   "display_name": "Python 3 (ipykernel)",
   "language": "python",
   "name": "python3"
  },
  "language_info": {
   "codemirror_mode": {
    "name": "ipython",
    "version": 3
   },
   "file_extension": ".py",
   "mimetype": "text/x-python",
   "name": "python",
   "nbconvert_exporter": "python",
   "pygments_lexer": "ipython3",
   "version": "3.9.13"
  }
 },
 "nbformat": 4,
 "nbformat_minor": 5
}
