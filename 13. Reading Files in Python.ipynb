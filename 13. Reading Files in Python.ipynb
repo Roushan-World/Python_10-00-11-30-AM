{
 "cells": [
  {
   "cell_type": "markdown",
   "id": "af06c045",
   "metadata": {},
   "source": [
    "# 13. Reading Files in Python\n",
    "\n",
    "\n",
    " * To Read a text files in Python follow these steps:\n",
    " \n",
    " * First, Open a text file for reading by using the open() function.\n",
    " * Second, read text from the text file using the file read(), readline(), or readlines() method of the file object.\n",
    " * Third, close the file using the file close() method. This frees up resources and ensures consistency across different python versions.\n",
    " \n",
    " \n",
    "* Method--------------------Description\n",
    "\n",
    "* writeable()--> Returns whether the files can be written to or not.\n",
    "* readable()--> Returns whether the files stream can be read or not.\n",
    "* read()--> Returns the file content\n",
    "* readline()--> Returns one line from the file.\n",
    "* readlines()--> Returns a list of lines from the file.\n",
    "* write()--> Writes the specified string to the file.\n",
    "* Writelines()--> Writes a list of strings to the file.\n",
    "* close()--> Closed the file.\n",
    "* flush()--> Flushes the internal buffer.\n",
    "* seek()--> Change the file position\n",
    "* tell()--> Returns the current file.\n",
    "* truncate()--> Resize the file to a sepcified."
   ]
  },
  {
   "cell_type": "code",
   "execution_count": 8,
   "id": "00e3c65c",
   "metadata": {},
   "outputs": [
    {
     "data": {
      "text/plain": [
       "'The story concerns a Hare who ridicules a slow-moving Tortoise. Tired of the Hare\\'s arrogant behaviour, the Tortoise challenges him to a race.[2] The hare soon leaves the tortoise behind and, confident of winning, takes a nap midway through the race. When the Hare awakes, however, he finds that his competitor, crawling slowly but steadily, has arrived before him. The later version of the story in La Fontaine\\'s Fables (VI.10), while more long-winded, differs hardly at all from Aesop\\'s.[3]\\n\\nAs in several other fables by Aesop, the lesson it is teaching appears ambiguous. In Classical times it was not the Tortoise\\'s plucky conduct in taking on a bully that was emphasised but the Hare\\'s foolish over-confidence. An old Greek source comments that \\'many people have good natural abilities which are ruined by idleness; on the other hand, sobriety, zeal and perseverance can prevail over indolence\\'.[4]\\n\\nWhen the fable entered the European emblem tradition, the precept to \\'hasten slowly\\' (festina lente) was recommended to lovers by Otto van Veen in his Emblemata Amorum (1608), using a relation of the story. There the infant figure of Eros is shown passing through a landscape and pointing to the tortoise as it overtakes the sleeping hare under the motto \"perseverance winneth.\"[5] Later interpreters too have asserted that the fable\\'s moral is the proverbial \\'the more haste, the worse speed\\' (Samuel Croxall) or have applied to it the biblical observation that \\'the race is not to the swift\\' (Ecclesiastes 9.11).\\n\\nIn the 19th century the fable was given satirical interpretations. In the social commentary of Charles H. Bennett\\'s The Fables of Aesop translated into Human Nature (1857), the hare is changed to a thoughtful craftsman prostrate under the foot of a capitalist entrepreneur.[6] Lord Dunsany brings out another view in his \"The True History of the Tortoise and the Hare\" (1915). There the hare realises the stupidity of the challenge and refuses to proceed any further. The obstinate tortoise continues to the finishing line and is proclaimed the swiftest by his backers. But, continues Dunsany,\\n\\nthe reason that this version of the race is not widely known is that very few of those that witnessed it survived the great forest-fire that happened shortly after. It came up over the weald by night with a great wind. The Hare and the Tortoise and a very few of the beasts saw it far off from a high bare hill that was at the edge of the trees, and they hurriedly called a meeting to decide what messenger they should send to warn the beasts in the forest. They sent the Tortoise.[7]\\nA century later Vikram Seth broadened the satire in his verse retelling of the fable in Beastly Tales (1991) and had it both ways. There is nothing to recommend in the behaviour of either protagonist by way of a moral. While the Tortoise\\'s victory bolsters its joyless self-righteousness, the hare-brained loser is taken up by the media and \"pampered rotten/ And the tortoise was forgotten\".[8]'"
      ]
     },
     "execution_count": 8,
     "metadata": {},
     "output_type": "execute_result"
    }
   ],
   "source": [
    "# Reading the txt file.\n",
    "\n",
    "file_name='Strory.txt'\n",
    "file=open(file_name,'r')\n",
    "content=file.read()\n",
    "content"
   ]
  },
  {
   "cell_type": "code",
   "execution_count": 9,
   "id": "9106ad54",
   "metadata": {},
   "outputs": [
    {
     "name": "stdout",
     "output_type": "stream",
     "text": [
      "Strory.txt\n",
      "r\n",
      "The story concerns a Hare who ridicules a slow-moving Tortoise. Tired of the Hare's arrogant behaviour, the Tortoise challenges him to a race.[2] The hare soon leaves the tortoise behind and, confident of winning, takes a nap midway through the race. When the Hare awakes, however, he finds that his competitor, crawling slowly but steadily, has arrived before him. The later version of the story in La Fontaine's Fables (VI.10), while more long-winded, differs hardly at all from Aesop's.[3]\n",
      "\n",
      "As in several other fables by Aesop, the lesson it is teaching appears ambiguous. In Classical times it was not the Tortoise's plucky conduct in taking on a bully that was emphasised but the Hare's foolish over-confidence. An old Greek source comments that 'many people have good natural abilities which are ruined by idleness; on the other hand, sobriety, zeal and perseverance can prevail over indolence'.[4]\n",
      "\n",
      "When the fable entered the European emblem tradition, the precept to 'hasten slowly' (festina lente) was recommended to lovers by Otto van Veen in his Emblemata Amorum (1608), using a relation of the story. There the infant figure of Eros is shown passing through a landscape and pointing to the tortoise as it overtakes the sleeping hare under the motto \"perseverance winneth.\"[5] Later interpreters too have asserted that the fable's moral is the proverbial 'the more haste, the worse speed' (Samuel Croxall) or have applied to it the biblical observation that 'the race is not to the swift' (Ecclesiastes 9.11).\n",
      "\n",
      "In the 19th century the fable was given satirical interpretations. In the social commentary of Charles H. Bennett's The Fables of Aesop translated into Human Nature (1857), the hare is changed to a thoughtful craftsman prostrate under the foot of a capitalist entrepreneur.[6] Lord Dunsany brings out another view in his \"The True History of the Tortoise and the Hare\" (1915). There the hare realises the stupidity of the challenge and refuses to proceed any further. The obstinate tortoise continues to the finishing line and is proclaimed the swiftest by his backers. But, continues Dunsany,\n",
      "\n",
      "the reason that this version of the race is not widely known is that very few of those that witnessed it survived the great forest-fire that happened shortly after. It came up over the weald by night with a great wind. The Hare and the Tortoise and a very few of the beasts saw it far off from a high bare hill that was at the edge of the trees, and they hurriedly called a meeting to decide what messenger they should send to warn the beasts in the forest. They sent the Tortoise.[7]\n",
      "A century later Vikram Seth broadened the satire in his verse retelling of the fable in Beastly Tales (1991) and had it both ways. There is nothing to recommend in the behaviour of either protagonist by way of a moral. While the Tortoise's victory bolsters its joyless self-righteousness, the hare-brained loser is taken up by the media and \"pampered rotten/ And the tortoise was forgotten\".[8]\n",
      "<class 'str'>\n"
     ]
    }
   ],
   "source": [
    "# printing the path of file.\n",
    "print(file.name)\n",
    "\n",
    "#printing the mode of the file.\n",
    "print(file.mode)\n",
    "\n",
    "# printint the file with '\\n' as a new line\n",
    "print(content)\n",
    "\n",
    "# printing the type of file.\n",
    "\n",
    "print(type(content))"
   ]
  },
  {
   "cell_type": "code",
   "execution_count": 11,
   "id": "a0ec2def",
   "metadata": {},
   "outputs": [],
   "source": [
    "# Verification of file close.\n",
    "file.close()"
   ]
  },
  {
   "cell_type": "code",
   "execution_count": 7,
   "id": "bebbf772",
   "metadata": {},
   "outputs": [
    {
     "data": {
      "text/plain": [
       "True"
      ]
     },
     "execution_count": 7,
     "metadata": {},
     "output_type": "execute_result"
    }
   ],
   "source": [
    "file.closed"
   ]
  },
  {
   "cell_type": "code",
   "execution_count": 12,
   "id": "6f923336",
   "metadata": {},
   "outputs": [
    {
     "data": {
      "text/plain": [
       "True"
      ]
     },
     "execution_count": 12,
     "metadata": {},
     "output_type": "execute_result"
    }
   ],
   "source": [
    "file.closed"
   ]
  },
  {
   "cell_type": "code",
   "execution_count": 13,
   "id": "93fc3508",
   "metadata": {},
   "outputs": [
    {
     "name": "stdout",
     "output_type": "stream",
     "text": [
      "The story concerns a Hare who ridicules a slow-moving Tortoise. Tired of the Hare's arrogant behaviour, the Tortoise challenges him to a race.[2] The hare soon leaves the tortoise behind and, confident of winning, takes a nap midway through the race. When the Hare awakes, however, he finds that his competitor, crawling slowly but steadily, has arrived before him. The later version of the story in La Fontaine's Fables (VI.10), while more long-winded, differs hardly at all from Aesop's.[3]\n",
      "\n",
      "As in several other fables by Aesop, the lesson it is teaching appears ambiguous. In Classical times it was not the Tortoise's plucky conduct in taking on a bully that was emphasised but the Hare's foolish over-confidence. An old Greek source comments that 'many people have good natural abilities which are ruined by idleness; on the other hand, sobriety, zeal and perseverance can prevail over indolence'.[4]\n",
      "\n",
      "When the fable entered the European emblem tradition, the precept to 'hasten slowly' (festina lente) was recommended to lovers by Otto van Veen in his Emblemata Amorum (1608), using a relation of the story. There the infant figure of Eros is shown passing through a landscape and pointing to the tortoise as it overtakes the sleeping hare under the motto \"perseverance winneth.\"[5] Later interpreters too have asserted that the fable's moral is the proverbial 'the more haste, the worse speed' (Samuel Croxall) or have applied to it the biblical observation that 'the race is not to the swift' (Ecclesiastes 9.11).\n",
      "\n",
      "In the 19th century the fable was given satirical interpretations. In the social commentary of Charles H. Bennett's The Fables of Aesop translated into Human Nature (1857), the hare is changed to a thoughtful craftsman prostrate under the foot of a capitalist entrepreneur.[6] Lord Dunsany brings out another view in his \"The True History of the Tortoise and the Hare\" (1915). There the hare realises the stupidity of the challenge and refuses to proceed any further. The obstinate tortoise continues to the finishing line and is proclaimed the swiftest by his backers. But, continues Dunsany,\n",
      "\n",
      "the reason that this version of the race is not widely known is that very few of those that witnessed it survived the great forest-fire that happened shortly after. It came up over the weald by night with a great wind. The Hare and the Tortoise and a very few of the beasts saw it far off from a high bare hill that was at the edge of the trees, and they hurriedly called a meeting to decide what messenger they should send to warn the beasts in the forest. They sent the Tortoise.[7]\n",
      "A century later Vikram Seth broadened the satire in his verse retelling of the fable in Beastly Tales (1991) and had it both ways. There is nothing to recommend in the behaviour of either protagonist by way of a moral. While the Tortoise's victory bolsters its joyless self-righteousness, the hare-brained loser is taken up by the media and \"pampered rotten/ And the tortoise was forgotten\".[8]\n"
     ]
    }
   ],
   "source": [
    "# Other method.\n",
    "\n",
    "fname='Strory.txt'\n",
    "with open(fname,'r') as f:\n",
    "    content=f.read()\n",
    "    print(content)"
   ]
  },
  {
   "cell_type": "code",
   "execution_count": 14,
   "id": "a007b9f9",
   "metadata": {},
   "outputs": [
    {
     "name": "stdout",
     "output_type": "stream",
     "text": [
      "The story concerns a Hare who ridicules a slow-moving Tortoise. Tired of the Hare's arrogant behaviour, the Tortoise challenges him to a race.[2] The hare soon leaves the tortoise behind and, confident of winning, takes a nap midway through the race. When the Hare awakes, however, he finds that his competitor, crawling slowly but steadily, has arrived before him. The later version of the story in La Fontaine's Fables (VI.10), while more long-winded, differs hardly at all from Aesop's.[3]\n",
      "\n",
      "As in several other fables by Aesop, the lesson it is teaching appears ambiguous. In Classical times it was not the Tortoise's plucky conduct in taking on a bully that was emphasised but the Hare's foolish over-confidence. An old Greek source comments that 'many people have good natural abilities which are ruined by idleness; on the other hand, sobriety, zeal and perseverance can prevail over indolence'.[4]\n",
      "\n",
      "When the fable entered the European emblem tradition, the precept to 'hasten slowly' (festina lente) was recommended to lovers by Otto van Veen in his Emblemata Amorum (1608), using a relation of the story. There the infant figure of Eros is shown passing through a landscape and pointing to the tortoise as it overtakes the sleeping hare under the motto \"perseverance winneth.\"[5] Later interpreters too have asserted that the fable's moral is the proverbial 'the more haste, the worse speed' (Samuel Croxall) or have applied to it the biblical observation that 'the race is not to the swift' (Ecclesiastes 9.11).\n",
      "\n",
      "In the 19th century the fable was given satirical interpretations. In the social commentary of Charles H. Bennett's The Fables of Aesop translated into Human Nature (1857), the hare is changed to a thoughtful craftsman prostrate under the foot of a capitalist entrepreneur.[6] Lord Dunsany brings out another view in his \"The True History of the Tortoise and the Hare\" (1915). There the hare realises the stupidity of the challenge and refuses to proceed any further. The obstinate tortoise continues to the finishing line and is proclaimed the swiftest by his backers. But, continues Dunsany,\n",
      "\n",
      "the reason that this version of the race is not widely known is that very few of those that witnessed it survived the great forest-fire that happened shortly after. It came up over the weald by night with a great wind. The Hare and the Tortoise and a very few of the beasts saw it far off from a high bare hill that was at the edge of the trees, and they hurriedly called a meeting to decide what messenger they should send to warn the beasts in the forest. They sent the Tortoise.[7]\n",
      "A century later Vikram Seth broadened the satire in his verse retelling of the fable in Beastly Tales (1991) and had it both ways. There is nothing to recommend in the behaviour of either protagonist by way of a moral. While the Tortoise's victory bolsters its joyless self-righteousness, the hare-brained loser is taken up by the media and \"pampered rotten/ And the tortoise was forgotten\".[8]\n"
     ]
    }
   ],
   "source": [
    "print(content)"
   ]
  },
  {
   "cell_type": "code",
   "execution_count": 18,
   "id": "8105aa62",
   "metadata": {},
   "outputs": [
    {
     "name": "stdout",
     "output_type": "stream",
     "text": [
      "The story concerns a\n",
      " Hare who ridicules \n",
      "a slow-moving Tortoi\n",
      "se. Tired of the Hare's arrogant behaviour, the To\n"
     ]
    }
   ],
   "source": [
    "# Reading certain amout of characters in the file.\n",
    "\n",
    "with open(fname,'r') as f:\n",
    "    print(f.read(20))\n",
    "    print(f.read(20))\n",
    "    print(f.read(20))\n",
    "    print(f.read(50))"
   ]
  },
  {
   "cell_type": "code",
   "execution_count": 19,
   "id": "c1e38bc0",
   "metadata": {},
   "outputs": [
    {
     "name": "stdout",
     "output_type": "stream",
     "text": [
      "The first line is: The story concerns a Hare who ridicules a slow-moving Tortoise. Tired of the Hare's arrogant behaviour, the Tortoise challenges him to a race.[2] The hare soon leaves the tortoise behind and, confident of winning, takes a nap midway through the race. When the Hare awakes, however, he finds that his competitor, crawling slowly but steadily, has arrived before him. The later version of the story in La Fontaine's Fables (VI.10), while more long-winded, differs hardly at all from Aesop's.[3]\n",
      "\n"
     ]
    }
   ],
   "source": [
    "# Reading first line in the text file.\n",
    "\n",
    "with open(fname,'r') as f:\n",
    "    print('The first line is:',f.readline())"
   ]
  },
  {
   "cell_type": "code",
   "execution_count": null,
   "id": "f607c796",
   "metadata": {},
   "outputs": [],
   "source": []
  }
 ],
 "metadata": {
  "kernelspec": {
   "display_name": "Python 3 (ipykernel)",
   "language": "python",
   "name": "python3"
  },
  "language_info": {
   "codemirror_mode": {
    "name": "ipython",
    "version": 3
   },
   "file_extension": ".py",
   "mimetype": "text/x-python",
   "name": "python",
   "nbconvert_exporter": "python",
   "pygments_lexer": "ipython3",
   "version": "3.9.13"
  }
 },
 "nbformat": 4,
 "nbformat_minor": 5
}
