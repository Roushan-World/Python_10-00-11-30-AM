{
 "cells": [
  {
   "cell_type": "markdown",
   "id": "0a2c9a07",
   "metadata": {},
   "source": [
    "# 17. Math Module Functions in Python\n",
    "\n",
    " * Python math module is defined as the most famous mathmatical functions, which includes trigonometiric functions, representation functions, logarithmic functions, etc.\n",
    " * Furthermore, it also defines two mathematical constants, i.e., Pie and Eular number, etc.\n",
    " * Pie(n): It is a well-known mathematical constant and defined as the ratio of circumstance to the diameter of a circle. Its value is 3.14159265359\n",
    " * Euler's number(e): It is defined as the base of the natural logarithmic, and its value is 2.718281828459045\n",
    " * The math module has a set of methods and constants."
   ]
  },
  {
   "cell_type": "code",
   "execution_count": 1,
   "id": "221e5763",
   "metadata": {},
   "outputs": [],
   "source": [
    "# Import math module and function.\n",
    "\n",
    "import math\n",
    "from math import *"
   ]
  },
  {
   "cell_type": "code",
   "execution_count": 2,
   "id": "381d1e94",
   "metadata": {},
   "outputs": [
    {
     "name": "stdout",
     "output_type": "stream",
     "text": [
      "Help on built-in module math:\n",
      "\n",
      "NAME\n",
      "    math\n",
      "\n",
      "DESCRIPTION\n",
      "    This module provides access to the mathematical functions\n",
      "    defined by the C standard.\n",
      "\n",
      "FUNCTIONS\n",
      "    acos(x, /)\n",
      "        Return the arc cosine (measured in radians) of x.\n",
      "        \n",
      "        The result is between 0 and pi.\n",
      "    \n",
      "    acosh(x, /)\n",
      "        Return the inverse hyperbolic cosine of x.\n",
      "    \n",
      "    asin(x, /)\n",
      "        Return the arc sine (measured in radians) of x.\n",
      "        \n",
      "        The result is between -pi/2 and pi/2.\n",
      "    \n",
      "    asinh(x, /)\n",
      "        Return the inverse hyperbolic sine of x.\n",
      "    \n",
      "    atan(x, /)\n",
      "        Return the arc tangent (measured in radians) of x.\n",
      "        \n",
      "        The result is between -pi/2 and pi/2.\n",
      "    \n",
      "    atan2(y, x, /)\n",
      "        Return the arc tangent (measured in radians) of y/x.\n",
      "        \n",
      "        Unlike atan(y/x), the signs of both x and y are considered.\n",
      "    \n",
      "    atanh(x, /)\n",
      "        Return the inverse hyperbolic tangent of x.\n",
      "    \n",
      "    ceil(x, /)\n",
      "        Return the ceiling of x as an Integral.\n",
      "        \n",
      "        This is the smallest integer >= x.\n",
      "    \n",
      "    comb(n, k, /)\n",
      "        Number of ways to choose k items from n items without repetition and without order.\n",
      "        \n",
      "        Evaluates to n! / (k! * (n - k)!) when k <= n and evaluates\n",
      "        to zero when k > n.\n",
      "        \n",
      "        Also called the binomial coefficient because it is equivalent\n",
      "        to the coefficient of k-th term in polynomial expansion of the\n",
      "        expression (1 + x)**n.\n",
      "        \n",
      "        Raises TypeError if either of the arguments are not integers.\n",
      "        Raises ValueError if either of the arguments are negative.\n",
      "    \n",
      "    copysign(x, y, /)\n",
      "        Return a float with the magnitude (absolute value) of x but the sign of y.\n",
      "        \n",
      "        On platforms that support signed zeros, copysign(1.0, -0.0)\n",
      "        returns -1.0.\n",
      "    \n",
      "    cos(x, /)\n",
      "        Return the cosine of x (measured in radians).\n",
      "    \n",
      "    cosh(x, /)\n",
      "        Return the hyperbolic cosine of x.\n",
      "    \n",
      "    degrees(x, /)\n",
      "        Convert angle x from radians to degrees.\n",
      "    \n",
      "    dist(p, q, /)\n",
      "        Return the Euclidean distance between two points p and q.\n",
      "        \n",
      "        The points should be specified as sequences (or iterables) of\n",
      "        coordinates.  Both inputs must have the same dimension.\n",
      "        \n",
      "        Roughly equivalent to:\n",
      "            sqrt(sum((px - qx) ** 2.0 for px, qx in zip(p, q)))\n",
      "    \n",
      "    erf(x, /)\n",
      "        Error function at x.\n",
      "    \n",
      "    erfc(x, /)\n",
      "        Complementary error function at x.\n",
      "    \n",
      "    exp(x, /)\n",
      "        Return e raised to the power of x.\n",
      "    \n",
      "    expm1(x, /)\n",
      "        Return exp(x)-1.\n",
      "        \n",
      "        This function avoids the loss of precision involved in the direct evaluation of exp(x)-1 for small x.\n",
      "    \n",
      "    fabs(x, /)\n",
      "        Return the absolute value of the float x.\n",
      "    \n",
      "    factorial(x, /)\n",
      "        Find x!.\n",
      "        \n",
      "        Raise a ValueError if x is negative or non-integral.\n",
      "    \n",
      "    floor(x, /)\n",
      "        Return the floor of x as an Integral.\n",
      "        \n",
      "        This is the largest integer <= x.\n",
      "    \n",
      "    fmod(x, y, /)\n",
      "        Return fmod(x, y), according to platform C.\n",
      "        \n",
      "        x % y may differ.\n",
      "    \n",
      "    frexp(x, /)\n",
      "        Return the mantissa and exponent of x, as pair (m, e).\n",
      "        \n",
      "        m is a float and e is an int, such that x = m * 2.**e.\n",
      "        If x is 0, m and e are both 0.  Else 0.5 <= abs(m) < 1.0.\n",
      "    \n",
      "    fsum(seq, /)\n",
      "        Return an accurate floating point sum of values in the iterable seq.\n",
      "        \n",
      "        Assumes IEEE-754 floating point arithmetic.\n",
      "    \n",
      "    gamma(x, /)\n",
      "        Gamma function at x.\n",
      "    \n",
      "    gcd(*integers)\n",
      "        Greatest Common Divisor.\n",
      "    \n",
      "    hypot(...)\n",
      "        hypot(*coordinates) -> value\n",
      "        \n",
      "        Multidimensional Euclidean distance from the origin to a point.\n",
      "        \n",
      "        Roughly equivalent to:\n",
      "            sqrt(sum(x**2 for x in coordinates))\n",
      "        \n",
      "        For a two dimensional point (x, y), gives the hypotenuse\n",
      "        using the Pythagorean theorem:  sqrt(x*x + y*y).\n",
      "        \n",
      "        For example, the hypotenuse of a 3/4/5 right triangle is:\n",
      "        \n",
      "            >>> hypot(3.0, 4.0)\n",
      "            5.0\n",
      "    \n",
      "    isclose(a, b, *, rel_tol=1e-09, abs_tol=0.0)\n",
      "        Determine whether two floating point numbers are close in value.\n",
      "        \n",
      "          rel_tol\n",
      "            maximum difference for being considered \"close\", relative to the\n",
      "            magnitude of the input values\n",
      "          abs_tol\n",
      "            maximum difference for being considered \"close\", regardless of the\n",
      "            magnitude of the input values\n",
      "        \n",
      "        Return True if a is close in value to b, and False otherwise.\n",
      "        \n",
      "        For the values to be considered close, the difference between them\n",
      "        must be smaller than at least one of the tolerances.\n",
      "        \n",
      "        -inf, inf and NaN behave similarly to the IEEE 754 Standard.  That\n",
      "        is, NaN is not close to anything, even itself.  inf and -inf are\n",
      "        only close to themselves.\n",
      "    \n",
      "    isfinite(x, /)\n",
      "        Return True if x is neither an infinity nor a NaN, and False otherwise.\n",
      "    \n",
      "    isinf(x, /)\n",
      "        Return True if x is a positive or negative infinity, and False otherwise.\n",
      "    \n",
      "    isnan(x, /)\n",
      "        Return True if x is a NaN (not a number), and False otherwise.\n",
      "    \n",
      "    isqrt(n, /)\n",
      "        Return the integer part of the square root of the input.\n",
      "    \n",
      "    lcm(*integers)\n",
      "        Least Common Multiple.\n",
      "    \n",
      "    ldexp(x, i, /)\n",
      "        Return x * (2**i).\n",
      "        \n",
      "        This is essentially the inverse of frexp().\n",
      "    \n",
      "    lgamma(x, /)\n",
      "        Natural logarithm of absolute value of Gamma function at x.\n",
      "    \n",
      "    log(...)\n",
      "        log(x, [base=math.e])\n",
      "        Return the logarithm of x to the given base.\n",
      "        \n",
      "        If the base not specified, returns the natural logarithm (base e) of x.\n",
      "    \n",
      "    log10(x, /)\n",
      "        Return the base 10 logarithm of x.\n",
      "    \n",
      "    log1p(x, /)\n",
      "        Return the natural logarithm of 1+x (base e).\n",
      "        \n",
      "        The result is computed in a way which is accurate for x near zero.\n",
      "    \n",
      "    log2(x, /)\n",
      "        Return the base 2 logarithm of x.\n",
      "    \n",
      "    modf(x, /)\n",
      "        Return the fractional and integer parts of x.\n",
      "        \n",
      "        Both results carry the sign of x and are floats.\n",
      "    \n",
      "    nextafter(x, y, /)\n",
      "        Return the next floating-point value after x towards y.\n",
      "    \n",
      "    perm(n, k=None, /)\n",
      "        Number of ways to choose k items from n items without repetition and with order.\n",
      "        \n",
      "        Evaluates to n! / (n - k)! when k <= n and evaluates\n",
      "        to zero when k > n.\n",
      "        \n",
      "        If k is not specified or is None, then k defaults to n\n",
      "        and the function returns n!.\n",
      "        \n",
      "        Raises TypeError if either of the arguments are not integers.\n",
      "        Raises ValueError if either of the arguments are negative.\n",
      "    \n",
      "    pow(x, y, /)\n",
      "        Return x**y (x to the power of y).\n",
      "    \n",
      "    prod(iterable, /, *, start=1)\n",
      "        Calculate the product of all the elements in the input iterable.\n",
      "        \n",
      "        The default start value for the product is 1.\n",
      "        \n",
      "        When the iterable is empty, return the start value.  This function is\n",
      "        intended specifically for use with numeric values and may reject\n",
      "        non-numeric types.\n",
      "    \n",
      "    radians(x, /)\n",
      "        Convert angle x from degrees to radians.\n",
      "    \n",
      "    remainder(x, y, /)\n",
      "        Difference between x and the closest integer multiple of y.\n",
      "        \n",
      "        Return x - n*y where n*y is the closest integer multiple of y.\n",
      "        In the case where x is exactly halfway between two multiples of\n",
      "        y, the nearest even value of n is used. The result is always exact.\n",
      "    \n",
      "    sin(x, /)\n",
      "        Return the sine of x (measured in radians).\n",
      "    \n",
      "    sinh(x, /)\n",
      "        Return the hyperbolic sine of x.\n",
      "    \n",
      "    sqrt(x, /)\n",
      "        Return the square root of x.\n",
      "    \n",
      "    tan(x, /)\n",
      "        Return the tangent of x (measured in radians).\n",
      "    \n",
      "    tanh(x, /)\n",
      "        Return the hyperbolic tangent of x.\n",
      "    \n",
      "    trunc(x, /)\n",
      "        Truncates the Real x to the nearest Integral toward 0.\n",
      "        \n",
      "        Uses the __trunc__ magic method.\n",
      "    \n",
      "    ulp(x, /)\n",
      "        Return the value of the least significant bit of the float x.\n",
      "\n",
      "DATA\n",
      "    e = 2.718281828459045\n",
      "    inf = inf\n",
      "    nan = nan\n",
      "    pi = 3.141592653589793\n",
      "    tau = 6.283185307179586\n",
      "\n",
      "FILE\n",
      "    (built-in)\n",
      "\n",
      "\n"
     ]
    }
   ],
   "source": [
    "help(math)"
   ]
  },
  {
   "cell_type": "markdown",
   "id": "5147a4c6",
   "metadata": {},
   "source": [
    "# acos() function\n",
    "\n",
    " * Return the arc cosine (measured in radians) of x.\n",
    " * The result is between 0 and pi.\n",
    " * The parameter must be a double value between -1 and 1."
   ]
  },
  {
   "cell_type": "code",
   "execution_count": 10,
   "id": "db8987fc",
   "metadata": {},
   "outputs": [
    {
     "data": {
      "text/plain": [
       "[1.0471975511965979]"
      ]
     },
     "execution_count": 10,
     "metadata": {},
     "output_type": "execute_result"
    }
   ],
   "source": [
    "nlis=[]\n",
    "nlis.append(math.acos(0.5))\n",
    "nlis"
   ]
  },
  {
   "cell_type": "markdown",
   "id": "fd27c524",
   "metadata": {},
   "source": [
    "# acosh() functions\n",
    "\n",
    "\n",
    " * It is a built-in method defined under the math module to calculate the hyperbolic arc cosine of the given paramter in radians\n",
    " * For example, if x is passed as an acosh functions (acosh(x)) parameter, it returns the hyperbolic arc cosine value.\n",
    " \n",
    " "
   ]
  },
  {
   "cell_type": "code",
   "execution_count": 11,
   "id": "5ae66a9b",
   "metadata": {},
   "outputs": [
    {
     "name": "stdout",
     "output_type": "stream",
     "text": [
      "8.148445582615551\n"
     ]
    }
   ],
   "source": [
    "print(math.acosh(1729))"
   ]
  },
  {
   "cell_type": "markdown",
   "id": "d56b1de7",
   "metadata": {},
   "source": [
    "# asin() functions\n",
    "\n",
    " * Returns the arc sine(measured in radians) of x.\n",
    " * The result is between -pi/2 and pi/2"
   ]
  },
  {
   "cell_type": "code",
   "execution_count": 19,
   "id": "30206872",
   "metadata": {},
   "outputs": [
    {
     "name": "stdout",
     "output_type": "stream",
     "text": [
      "[1.5707963267948966, -1.5707963267948966, 0.5235987755982989]\n"
     ]
    }
   ],
   "source": [
    "nlis=[]\n",
    "nlis.append(math.asin(1))\n",
    "nlis.append(math.asin(-1))\n",
    "nlis.append(math.asin(0.5))\n",
    "print(nlis)"
   ]
  },
  {
   "cell_type": "markdown",
   "id": "5e98763c",
   "metadata": {},
   "source": [
    "# asinh() function\n",
    " * Returns the inverse hyperbolic sine of x."
   ]
  },
  {
   "cell_type": "code",
   "execution_count": 20,
   "id": "52e84963",
   "metadata": {},
   "outputs": [
    {
     "name": "stdout",
     "output_type": "stream",
     "text": [
      "8.1484457498709\n"
     ]
    }
   ],
   "source": [
    "print(math.asinh(1729))"
   ]
  },
  {
   "cell_type": "markdown",
   "id": "0b363a63",
   "metadata": {},
   "source": [
    "# atan() function\n",
    " * Return the arc tangent (measured in radians) of x.\n",
    " * The result is between -pi/2 and pi/2"
   ]
  },
  {
   "cell_type": "code",
   "execution_count": 27,
   "id": "fbbeb1c9",
   "metadata": {},
   "outputs": [
    {
     "name": "stdout",
     "output_type": "stream",
     "text": [
      "[1.5707963267948966, -1.5707963267948966]\n"
     ]
    }
   ],
   "source": [
    "nlis=[]\n",
    "nlis.append(math.atan(math.inf))  # positive infinite\n",
    "nlis.append(math.atan(-math.inf))\n",
    "print(nlis)"
   ]
  },
  {
   "cell_type": "markdown",
   "id": "dbf9d9a4",
   "metadata": {},
   "source": [
    "# ceil() function\n",
    " * Rounds a number up to the nearest integer.\n",
    " * Returns the smalles integer greater than or equal to variable.\n",
    " \n",
    " "
   ]
  },
  {
   "cell_type": "code",
   "execution_count": 28,
   "id": "8758cc4d",
   "metadata": {},
   "outputs": [
    {
     "data": {
      "text/plain": [
       "3.141592653589793"
      ]
     },
     "execution_count": 28,
     "metadata": {},
     "output_type": "execute_result"
    }
   ],
   "source": [
    "pi"
   ]
  },
  {
   "cell_type": "code",
   "execution_count": 29,
   "id": "f57d776a",
   "metadata": {},
   "outputs": [
    {
     "data": {
      "text/plain": [
       "2.718281828459045"
      ]
     },
     "execution_count": 29,
     "metadata": {},
     "output_type": "execute_result"
    }
   ],
   "source": [
    "e"
   ]
  },
  {
   "cell_type": "code",
   "execution_count": 30,
   "id": "c376926c",
   "metadata": {},
   "outputs": [
    {
     "name": "stdout",
     "output_type": "stream",
     "text": [
      "The nearest integer greater than pi number is 4\n"
     ]
    }
   ],
   "source": [
    "pi_number=math.pi\n",
    "print(f'The nearest integer greater than pi number is {math.ceil(pi_number)}')"
   ]
  },
  {
   "cell_type": "code",
   "execution_count": 31,
   "id": "c7a66ef6",
   "metadata": {},
   "outputs": [
    {
     "name": "stdout",
     "output_type": "stream",
     "text": [
      "The nearest integer greater than eular's number is 3\n"
     ]
    }
   ],
   "source": [
    "e_number=math.e\n",
    "print(f\"The nearest integer greater than eular's number is {math.ceil(e_number)}\")"
   ]
  },
  {
   "cell_type": "markdown",
   "id": "590ba387",
   "metadata": {},
   "source": [
    "# comb() functions\n",
    "\n",
    " * Number of ways to choose k items form n items without repetition and without order.\n",
    " * Evaluates to n!/(k!*(n-k)!) When k<=n and evaluates to zero when k>n.\n",
    " * Also called the binomial cofficient because it is equivalent to the coefiicient of k-th term in polynomial expansion of the expression (1+x)**n.\n",
    " * Raises TypeError if either of the arguments are not integers.\n",
    " * Raises ValueError if either  of the arguments negative."
   ]
  },
  {
   "cell_type": "code",
   "execution_count": 2,
   "id": "07bc99d6",
   "metadata": {},
   "outputs": [
    {
     "name": "stdout",
     "output_type": "stream",
     "text": [
      "The combination of 6 with 2 is 15\n",
      "120\n"
     ]
    }
   ],
   "source": [
    "import math\n",
    "print(f'The combination of 6 with 2 is {math.comb(6,2)}')\n",
    "print(math.comb(10,3))"
   ]
  },
  {
   "cell_type": "markdown",
   "id": "7d57835b",
   "metadata": {},
   "source": [
    "# Copysign() function\n",
    "\n",
    " * Returns a float consiting of the value of the first parameter and the second parameter. "
   ]
  },
  {
   "cell_type": "code",
   "execution_count": 4,
   "id": "2274a07e",
   "metadata": {},
   "outputs": [
    {
     "name": "stdout",
     "output_type": "stream",
     "text": [
      "The copysign of these two numbers -3.14 and 2.718 is 3.14\n",
      "The copysign of these two numbers 1729 and -0.577 is -1729.0\n"
     ]
    }
   ],
   "source": [
    "print(f'The copysign of these two numbers -3.14 and 2.718 is {math.copysign (-3.14,2.718)}')\n",
    "print(f'The copysign of these two numbers 1729 and -0.577 is {math.copysign( 1729,-0.50000000)}')"
   ]
  },
  {
   "cell_type": "markdown",
   "id": "a22bde04",
   "metadata": {},
   "source": [
    "# cos() functions \n",
    " Return the cosine of x(measured in radians)."
   ]
  },
  {
   "cell_type": "code",
   "execution_count": 19,
   "id": "438acd40",
   "metadata": {},
   "outputs": [
    {
     "name": "stdout",
     "output_type": "stream",
     "text": [
      "1.0\n",
      "0.8660254037844387\n",
      "0.5403023058681398\n",
      "0.5403023058681398\n",
      "0.43204202084333315\n",
      "-0.4480736161291701\n"
     ]
    }
   ],
   "source": [
    "print(math.cos(0))\n",
    "print(math.cos(math.pi/6))\n",
    "print(math.cos(-1))\n",
    "print(math.cos(1))\n",
    "print(math.cos(1729))\n",
    "print(math.cos(90))"
   ]
  },
  {
   "cell_type": "markdown",
   "id": "1f407cca",
   "metadata": {},
   "source": [
    "# factorial() function.\n",
    "\n",
    " * Returns the factorial of a number."
   ]
  },
  {
   "cell_type": "code",
   "execution_count": 5,
   "id": "1f0c19ce",
   "metadata": {},
   "outputs": [
    {
     "name": "stdout",
     "output_type": "stream",
     "text": [
      "The factorial of number 6 is:720\n",
      "The factorial of the number 4 is: 24\n"
     ]
    }
   ],
   "source": [
    "print(f'The factorial of number 6 is:{math.factorial(6)}')\n",
    "print(f'The factorial of the number 4 is: {math.factorial(4)}')"
   ]
  },
  {
   "cell_type": "markdown",
   "id": "38a14117",
   "metadata": {},
   "source": [
    "# floor() functions:\n",
    "\n",
    " * Rounds a number down to the nearest integer."
   ]
  },
  {
   "cell_type": "code",
   "execution_count": 6,
   "id": "b9345012",
   "metadata": {},
   "outputs": [
    {
     "name": "stdout",
     "output_type": "stream",
     "text": [
      "3\n"
     ]
    }
   ],
   "source": [
    "print(math.floor(3.60))"
   ]
  },
  {
   "cell_type": "markdown",
   "id": "cadbbb7c",
   "metadata": {},
   "source": [
    "# fmod() function\n",
    " * It Returns the remainder of x/y"
   ]
  },
  {
   "cell_type": "code",
   "execution_count": 29,
   "id": "d60e427d",
   "metadata": {},
   "outputs": [
    {
     "name": "stdout",
     "output_type": "stream",
     "text": [
      "1.0\n",
      "0.0\n"
     ]
    }
   ],
   "source": [
    "print(math.fmod(37,6))\n",
    "print(math.fmod(4,2))"
   ]
  },
  {
   "cell_type": "markdown",
   "id": "534a4c7d",
   "metadata": {},
   "source": [
    "# gcd() function \n",
    " * Returns the greatest comman divisor of two integers."
   ]
  },
  {
   "cell_type": "code",
   "execution_count": 32,
   "id": "3a97640b",
   "metadata": {},
   "outputs": [
    {
     "name": "stdout",
     "output_type": "stream",
     "text": [
      "1\n",
      "4\n",
      "0\n"
     ]
    }
   ],
   "source": [
    "print(math.gcd(3,10))\n",
    "print(math.gcd(4,8))\n",
    "print(math.gcd(0,0))"
   ]
  },
  {
   "cell_type": "markdown",
   "id": "f2c05d3a",
   "metadata": {},
   "source": [
    "# isqrt() funciton\n",
    " * Rounds a square root number downwards to the nearset integer.\n",
    " * The returned square root value is the floor value of square root of a non-negative integer numbers.\n",
    " * It gives a ValueError and TypeError when a negative integer number and a float number are used respectively."
   ]
  },
  {
   "cell_type": "code",
   "execution_count": 38,
   "id": "473e711e",
   "metadata": {},
   "outputs": [
    {
     "name": "stdout",
     "output_type": "stream",
     "text": [
      "12\n",
      "13\n",
      "16\n"
     ]
    }
   ],
   "source": [
    "print(math.isqrt(144))\n",
    "print(math.isqrt(169))\n",
    "print(math.isqrt(256))"
   ]
  },
  {
   "cell_type": "code",
   "execution_count": 7,
   "id": "562df32c",
   "metadata": {},
   "outputs": [
    {
     "data": {
      "text/plain": [
       "144"
      ]
     },
     "execution_count": 7,
     "metadata": {},
     "output_type": "execute_result"
    }
   ],
   "source": [
    "12**2"
   ]
  },
  {
   "cell_type": "code",
   "execution_count": 8,
   "id": "f83d3434",
   "metadata": {},
   "outputs": [
    {
     "data": {
      "text/plain": [
       "144"
      ]
     },
     "execution_count": 8,
     "metadata": {},
     "output_type": "execute_result"
    }
   ],
   "source": [
    "12*12"
   ]
  },
  {
   "cell_type": "code",
   "execution_count": null,
   "id": "4a070575",
   "metadata": {},
   "outputs": [],
   "source": []
  }
 ],
 "metadata": {
  "kernelspec": {
   "display_name": "Python 3 (ipykernel)",
   "language": "python",
   "name": "python3"
  },
  "language_info": {
   "codemirror_mode": {
    "name": "ipython",
    "version": 3
   },
   "file_extension": ".py",
   "mimetype": "text/x-python",
   "name": "python",
   "nbconvert_exporter": "python",
   "pygments_lexer": "ipython3",
   "version": "3.9.13"
  }
 },
 "nbformat": 4,
 "nbformat_minor": 5
}
