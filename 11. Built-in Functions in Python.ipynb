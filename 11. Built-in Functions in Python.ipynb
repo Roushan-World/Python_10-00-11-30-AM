{
 "cells": [
  {
   "cell_type": "markdown",
   "id": "48557b7a",
   "metadata": {},
   "source": [
    "# 11. Built-in Functions in Python\n",
    "\n",
    " * Python has several functions that are readily available for use. These functions are called built-in Functions.\n",
    " \n",
    " \n",
    " \n",
    "      Built- in Functions\n",
    "      \n",
    "      A                 E                     I              O                     T\n",
    "       \n",
    "      abs()             enumerate()           id()           object()              tuple()\n",
    "      all()             eval()                input()        oct()                 type()\n",
    "      any()             exec()                int()          open()\n",
    "      ascii()                                 isinstance()   ord()\n",
    "        \n",
    "      B                F                      L              P                     V\n",
    "      \n",
    "      bin()            filter()               len()          pow()                 vars()\n",
    "      bool()           float()                list()         print()\n",
    "      breakpoint()     format()               locals()       property()\n",
    "      bytearray()      frozenset()\n",
    "      bytes()          \n",
    "      \n",
    "      C                G                      M              R                     Z\n",
    "      \n",
    "      Callable()       getattr()              map()          range()               zip()\n",
    "      chr()            globals()              max()          repr()\n",
    "      classmethod()                           memoryview()   reversed()\n",
    "      compile()                               min()          round()               __import__\n",
    "      complex()                               \n",
    "      \n",
    "      D                H                      N              S\n",
    "      \n",
    "      delattr()        Hasattr()              next()         set()\n",
    "      dict()           hash()                                setattr()\n",
    "      dir()            help()                                slice()\n",
    "      divmod()         hex()                                 sorted()\n",
    "                                                             staticmethod()\n",
    "                                                             str()\n",
    "                                                             sum()\n",
    "                                                             super()"
   ]
  }
 ],
 "metadata": {
  "kernelspec": {
   "display_name": "Python 3 (ipykernel)",
   "language": "python",
   "name": "python3"
  },
  "language_info": {
   "codemirror_mode": {
    "name": "ipython",
    "version": 3
   },
   "file_extension": ".py",
   "mimetype": "text/x-python",
   "name": "python",
   "nbconvert_exporter": "python",
   "pygments_lexer": "ipython3",
   "version": "3.9.13"
  }
 },
 "nbformat": 4,
 "nbformat_minor": 5
}
