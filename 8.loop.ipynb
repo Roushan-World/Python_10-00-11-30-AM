{
 "cells": [
  {
   "cell_type": "markdown",
   "id": "6de728cb",
   "metadata": {},
   "source": [
    "# Continue in while loop"
   ]
  },
  {
   "cell_type": "code",
   "execution_count": 1,
   "id": "3a5de939",
   "metadata": {},
   "outputs": [
    {
     "name": "stdout",
     "output_type": "stream",
     "text": [
      "0\n",
      "1\n",
      "2\n",
      "3\n",
      "4\n",
      "5\n"
     ]
    }
   ],
   "source": [
    "i=0\n",
    "\n",
    "while i<=5:\n",
    "    print(i)\n",
    "    i+=1\n",
    "    if i==3:\n",
    "        continue"
   ]
  },
  {
   "cell_type": "code",
   "execution_count": 2,
   "id": "a459df24",
   "metadata": {},
   "outputs": [
    {
     "name": "stdout",
     "output_type": "stream",
     "text": [
      "0\n",
      "1\n",
      "2\n"
     ]
    }
   ],
   "source": [
    "# break function\n",
    "i=0\n",
    "\n",
    "while i<=5:\n",
    "    print(i)\n",
    "    i+=1\n",
    "    if i==3:\n",
    "        break"
   ]
  },
  {
   "cell_type": "code",
   "execution_count": 3,
   "id": "7646aaf7",
   "metadata": {},
   "outputs": [
    {
     "name": "stdout",
     "output_type": "stream",
     "text": [
      "0\n",
      "1\n",
      "2\n",
      "3\n",
      "4\n",
      "5\n"
     ]
    }
   ],
   "source": [
    "i=0\n",
    "\n",
    "while i<=5:\n",
    "    print(i)\n",
    "    i+=1\n",
    "    if i==3:\n",
    "        continue"
   ]
  },
  {
   "cell_type": "code",
   "execution_count": 4,
   "id": "8fae0c6d",
   "metadata": {},
   "outputs": [
    {
     "name": "stdout",
     "output_type": "stream",
     "text": [
      "1\n",
      "2\n",
      "3\n",
      "4\n",
      "5\n",
      "6\n",
      "7\n",
      "8\n",
      "9\n",
      "10\n"
     ]
    }
   ],
   "source": [
    "# Write a program to print the first 10 natural numbers using for loop.\n",
    "# between 0 to 10\n",
    "# There are 11 numbers.\n",
    "# of n to 11\n",
    "n=11\n",
    "for i in range(1,n):\n",
    "    print(i)"
   ]
  },
  {
   "cell_type": "code",
   "execution_count": 5,
   "id": "f817f275",
   "metadata": {},
   "outputs": [
    {
     "name": "stdout",
     "output_type": "stream",
     "text": [
      "0\n",
      "2\n",
      "4\n",
      "6\n",
      "8\n",
      "10\n",
      "12\n",
      "14\n",
      "16\n",
      "18\n"
     ]
    }
   ],
   "source": [
    "# Write a program to print all the even numbers within the given range with for loop.\n",
    "# if the given range is 20.\n",
    "\n",
    "given_range=20\n",
    "for i in range(given_range):\n",
    "    if i%2==0:\n",
    "        print(i)"
   ]
  },
  {
   "cell_type": "code",
   "execution_count": 2,
   "id": "a7fff946",
   "metadata": {},
   "outputs": [
    {
     "name": "stdout",
     "output_type": "stream",
     "text": [
      "1\n",
      "3\n",
      "6\n",
      "10\n",
      "15\n",
      "21\n",
      "28\n",
      "36\n",
      "45\n",
      "55\n"
     ]
    }
   ],
   "source": [
    "# Write a program to calculate the sum of all numbers from 1 to given number is 10.\n",
    "\n",
    "given_number=10\n",
    "\n",
    "sum=0\n",
    "for i in range(1,given_number+1):\n",
    "    sum+=i\n",
    "    print(sum)"
   ]
  },
  {
   "cell_type": "code",
   "execution_count": 3,
   "id": "32afdd8b",
   "metadata": {},
   "outputs": [
    {
     "name": "stdout",
     "output_type": "stream",
     "text": [
      "100\n"
     ]
    }
   ],
   "source": [
    "# Write a program to calculate the sum of all the odd numbers  within given range. i.e- 20?\n",
    "\n",
    "num = 20\n",
    "total = 0\n",
    "for i in range(num):\n",
    "    if i%2 == 1:\n",
    "        total = total+i\n",
    "print(total)"
   ]
  },
  {
   "cell_type": "code",
   "execution_count": 4,
   "id": "abe9725b",
   "metadata": {},
   "outputs": [
    {
     "name": "stdout",
     "output_type": "stream",
     "text": [
      "100\n"
     ]
    }
   ],
   "source": [
    "# Other method.\n",
    "\n",
    "given_range=20\n",
    "\n",
    "sum=0\n",
    "for i in range(given_range):\n",
    "    if i%2!=0:\n",
    "        sum+=i\n",
    "        \n",
    "print(sum)"
   ]
  },
  {
   "cell_type": "code",
   "execution_count": 7,
   "id": "1b1281a2",
   "metadata": {},
   "outputs": [
    {
     "name": "stdout",
     "output_type": "stream",
     "text": [
      "5 x 1 = 5\n",
      "5 x 2 = 10\n",
      "5 x 3 = 15\n",
      "5 x 4 = 20\n",
      "5 x 5 = 25\n",
      "5 x 6 = 30\n",
      "5 x 7 = 35\n",
      "5 x 8 = 40\n",
      "5 x 9 = 45\n",
      "5 x 10 = 50\n"
     ]
    }
   ],
   "source": [
    "# Write a program to print a multiplication table of a given number i.e 5.\n",
    "\n",
    "\n",
    "given_number=5\n",
    "\n",
    "for i in range(1,11):\n",
    "    print(given_number,'x',i,'=',given_number*i)"
   ]
  },
  {
   "cell_type": "code",
   "execution_count": 8,
   "id": "b6ab23e2",
   "metadata": {},
   "outputs": [
    {
     "name": "stdout",
     "output_type": "stream",
     "text": [
      "5 X 1 = 5\n",
      "5 X 2 = 10\n",
      "5 X 3 = 15\n",
      "5 X 4 = 20\n",
      "5 X 5 = 25\n",
      "5 X 6 = 30\n",
      "5 X 7 = 35\n",
      "5 X 8 = 40\n",
      "5 X 9 = 45\n",
      "5 X 10 = 50\n",
      "\n",
      "\n",
      "15 X 1 = 15\n",
      "15 X 2 = 30\n",
      "15 X 3 = 45\n",
      "15 X 4 = 60\n",
      "15 X 5 = 75\n",
      "15 X 6 = 90\n",
      "15 X 7 = 105\n",
      "15 X 8 = 120\n",
      "15 X 9 = 135\n",
      "15 X 10 = 150\n"
     ]
    }
   ],
   "source": [
    "# Write a program to print a multiplication table of a given number i.e 5 and 15\n",
    "number=5\n",
    "n = 11\n",
    "for i in range(1,n):\n",
    "    print('%d X %d = %d'%(number,i,number*i))\n",
    "\n",
    "print('\\n')    \n",
    "number = 15\n",
    "for i in range(1,n):\n",
    "    print('%d X %d = %d'%(number,i,number*i))"
   ]
  },
  {
   "cell_type": "code",
   "execution_count": 15,
   "id": "4c30e2ff",
   "metadata": {},
   "outputs": [
    {
     "name": "stdout",
     "output_type": "stream",
     "text": [
      "5 X 1 = 5    15 X 1 = 15    20 X 1 = 20\n",
      "5 X 2 = 10    15 X 2 = 30    20 X 2 = 40\n",
      "5 X 3 = 15    15 X 3 = 45    20 X 3 = 60\n",
      "5 X 4 = 20    15 X 4 = 60    20 X 4 = 80\n",
      "5 X 5 = 25    15 X 5 = 75    20 X 5 = 100\n",
      "5 X 6 = 30    15 X 6 = 90    20 X 6 = 120\n",
      "5 X 7 = 35    15 X 7 = 105    20 X 7 = 140\n",
      "5 X 8 = 40    15 X 8 = 120    20 X 8 = 160\n",
      "5 X 9 = 45    15 X 9 = 135    20 X 9 = 180\n",
      "5 X 10 = 50    15 X 10 = 150    20 X 10 = 200\n"
     ]
    }
   ],
   "source": [
    "number=5\n",
    "number1=15\n",
    "number2=20\n",
    "n = 11\n",
    "for i in range(1,n):\n",
    "    print('%d X %d = %d'%(number,i,number*i),'   %d X %d = %d'%(number1,i,number1*i),'   %d X %d = %d'%(number2,i,number2*i))\n"
   ]
  },
  {
   "cell_type": "code",
   "execution_count": 18,
   "id": "fc203f46",
   "metadata": {},
   "outputs": [
    {
     "name": "stdout",
     "output_type": "stream",
     "text": [
      "1\n",
      "2\n",
      "4\n",
      "6\n",
      "88\n",
      "125\n"
     ]
    }
   ],
   "source": [
    "# Write a program to display numbers from a list using a for loop.\n",
    "# If the below list is given.\n",
    "\n",
    "list=[1,2,4,6,88,125]\n",
    "\n",
    "new_list = [1,2,4,6,88,125]\n",
    "\n",
    "for i in new_list:\n",
    "    print(i)"
   ]
  },
  {
   "cell_type": "code",
   "execution_count": 23,
   "id": "c111a9bc",
   "metadata": {},
   "outputs": [
    {
     "name": "stdout",
     "output_type": "stream",
     "text": [
      "6\n"
     ]
    }
   ],
   "source": [
    "# Write a python program to count the total number of digits in a number.\n",
    "# if the given number is 129475\n",
    "\n",
    "given_number=129427\n",
    "\n",
    "given_number=str(given_number)\n",
    "count=0\n",
    "\n",
    "for i in given_number:\n",
    "    count +=1\n",
    "    \n",
    "print(count)"
   ]
  },
  {
   "cell_type": "code",
   "execution_count": 24,
   "id": "8d1fe871",
   "metadata": {},
   "outputs": [
    {
     "name": "stdout",
     "output_type": "stream",
     "text": [
      "Enter any number:12\n",
      "2\n"
     ]
    }
   ],
   "source": [
    "# other method.\n",
    "given_number=int(input('Enter any number:'))\n",
    "\n",
    "given_number=str(given_number)\n",
    "count=0\n",
    "\n",
    "for i in given_number:\n",
    "    count +=1\n",
    "    \n",
    "print(count)"
   ]
  },
  {
   "cell_type": "code",
   "execution_count": 26,
   "id": "961957da",
   "metadata": {},
   "outputs": [
    {
     "name": "stdout",
     "output_type": "stream",
     "text": [
      "Enter your string: xyz\n",
      "The given string is not a pallindrome\n"
     ]
    }
   ],
   "source": [
    "# Write a program to check if the given string is a palindrome.\n",
    "new = input('Enter your string: ')\n",
    "for i in new:\n",
    "    if new[::1] == new[::-1]:\n",
    "        print('The given string is pallindrome')\n",
    "    else:\n",
    "        print('The given string is not a pallindrome')\n",
    "    break\n"
   ]
  },
  {
   "cell_type": "code",
   "execution_count": 27,
   "id": "d336cc4b",
   "metadata": {},
   "outputs": [
    {
     "name": "stdout",
     "output_type": "stream",
     "text": [
      "Enter your string: madam\n",
      "The String madam is a Palindrome\n"
     ]
    }
   ],
   "source": [
    "# other method.\n",
    "\n",
    "given_string=input('Enter your string: ')\n",
    "\n",
    "reverse_string= ''\n",
    "\n",
    "for i in given_string:\n",
    "    reverse_string=i+reverse_string\n",
    "    \n",
    "if (given_string == reverse_string):\n",
    "    print('The String',given_string,'is a Palindrome')\n",
    "    \n",
    "else:\n",
    "    print('The String',given_string,'is not a Palindrome.')"
   ]
  },
  {
   "cell_type": "code",
   "execution_count": 32,
   "id": "1aaf7a46",
   "metadata": {},
   "outputs": [
    {
     "name": "stdout",
     "output_type": "stream",
     "text": [
      "Enter your name: Amey\n",
      "yemA\n"
     ]
    }
   ],
   "source": [
    "# Write a program to accept your name form user and reverse it as a output?\n",
    "\n",
    "name = input('Enter your name: ')\n",
    "for i in name:\n",
    "    print(name[::-1])\n",
    "    break"
   ]
  },
  {
   "cell_type": "code",
   "execution_count": 33,
   "id": "532fcaba",
   "metadata": {},
   "outputs": [
    {
     "name": "stdout",
     "output_type": "stream",
     "text": [
      "Enter your name: Amey\n",
      "yemA\n"
     ]
    }
   ],
   "source": [
    "# other method.\n",
    "given_string=input('Enter your name: ')\n",
    "\n",
    "reverse_string=''\n",
    "for i in given_string:\n",
    "    reverse_string=i+reverse_string\n",
    "    \n",
    "print(reverse_string)\n"
   ]
  },
  {
   "cell_type": "code",
   "execution_count": 41,
   "id": "c79c8bfb",
   "metadata": {},
   "outputs": [
    {
     "name": "stdout",
     "output_type": "stream",
     "text": [
      "Enter any number:153\n",
      "The given number 153 is an Armstrong number.\n"
     ]
    }
   ],
   "source": [
    "# Write a program to check if the number is an Armstrong number.\n",
    "\n",
    "given_number=int(input('Enter any number:'))\n",
    "\n",
    "given_number=str(given_number)\n",
    "\n",
    "string_length=len(given_number)\n",
    "\n",
    "sum=0\n",
    "for i in given_number:\n",
    "    sum += int(i)**string_length\n",
    "    \n",
    "if sum == int(given_number):\n",
    "    print('The given number',given_number,'is an Armstrong number.')\n",
    "else:\n",
    "    print('The given number',given_number, 'is not an Armstrong number.')"
   ]
  },
  {
   "cell_type": "code",
   "execution_count": 42,
   "id": "ec5f3609",
   "metadata": {},
   "outputs": [
    {
     "name": "stdout",
     "output_type": "stream",
     "text": [
      "Enter your mobile number: 8709268257\n",
      "The phone number 8709268257 has 6 even numbers\n",
      "The phone number 8709268257 has 4 odd numbers\n"
     ]
    }
   ],
   "source": [
    "# Write a progrm to count the number even  and odd form your series of mobile number.\n",
    "ph_number = int(input('Enter your mobile number: '))\n",
    "ph_string = str(ph_number)\n",
    "even_count = 0\n",
    "odd_count = 0\n",
    "\n",
    "for i in ph_string:\n",
    "    if int(i)%2 == 0:\n",
    "        even_count+=1\n",
    "    else:\n",
    "        odd_count+=1\n",
    "        \n",
    "print(f'The phone number {ph_number} has {even_count} even numbers')\n",
    "print(f'The phone number {ph_number} has {odd_count} odd numbers')\n"
   ]
  },
  {
   "cell_type": "code",
   "execution_count": 56,
   "id": "37a71f97",
   "metadata": {},
   "outputs": [
    {
     "name": "stdout",
     "output_type": "stream",
     "text": [
      "Enter any number: 8709268257\n",
      "8 : is an even number.\n",
      "7 : is an odd number.\n",
      "0 : is an even number.\n",
      "9 : is an odd number.\n",
      "2 : is an even number.\n",
      "6 : is an even number.\n",
      "8 : is an even number.\n",
      "2 : is an even number.\n",
      "5 : is an odd number.\n",
      "7 : is an odd number.\n"
     ]
    }
   ],
   "source": [
    "ph_number = int(input('Enter any number: '))\n",
    "ph_string = str(ph_number)\n",
    "for i in ph_string:\n",
    "    if int(i)%2==0:\n",
    "        print(i,': is an even number.')\n",
    "        \n",
    "    else:\n",
    "        print(i,': is an odd number.')\n"
   ]
  },
  {
   "cell_type": "code",
   "execution_count": 52,
   "id": "04b40762",
   "metadata": {},
   "outputs": [
    {
     "name": "stdout",
     "output_type": "stream",
     "text": [
      "Enter your mobile number: 8709268257\n",
      "8 is an even number\n",
      "7 is an odd number\n",
      "0 is an even number\n",
      "9 is an odd number\n",
      "2 is an even number\n",
      "6 is an even number\n",
      "8 is an even number\n",
      "2 is an even number\n",
      "5 is an odd number\n",
      "7 is an odd number\n"
     ]
    }
   ],
   "source": [
    "ph_number = int(input('Enter your mobile number: '))\n",
    "ph_string = str(ph_number)\n",
    "\n",
    "for i in ph_string:\n",
    "    if int(i)%2==0:\n",
    "        print(f'{i} is an even number')\n",
    "    else:\n",
    "        print(f'{i} is an odd number')"
   ]
  },
  {
   "cell_type": "code",
   "execution_count": 59,
   "id": "fc716363",
   "metadata": {},
   "outputs": [
    {
     "name": "stdout",
     "output_type": "stream",
     "text": [
      "Enter any number:6\n",
      "The factorial of 6 is 720\n"
     ]
    }
   ],
   "source": [
    "# Write a program to find the factorial of a given number.\n",
    "\n",
    "given_number=int(input('Enter any number:'))\n",
    "\n",
    "#since 1 is a factor of all number.\n",
    "factorial=1\n",
    "\n",
    "for i in range(1,given_number+1):\n",
    "    factorial = factorial*i\n",
    "print('The factorial of',given_number,'is',factorial)"
   ]
  },
  {
   "cell_type": "code",
   "execution_count": 3,
   "id": "138be0b2",
   "metadata": {},
   "outputs": [
    {
     "name": "stdout",
     "output_type": "stream",
     "text": [
      "8.0\n",
      "7.5\n",
      "9.1\n",
      "6.3\n",
      "6.5\n"
     ]
    }
   ],
   "source": [
    "# Printing the movie rating greater than 6\n",
    "\n",
    "movie_rating=[8.0,7.5,5.4,9.1,6.3,6.5,2.1,4.8,3.3]\n",
    "\n",
    "\n",
    "for i in movie_rating:\n",
    "    if i > 6:\n",
    "        print(i)\n",
    "    else:\n",
    "        continue"
   ]
  },
  {
   "cell_type": "code",
   "execution_count": 4,
   "id": "10ea31f0",
   "metadata": {},
   "outputs": [
    {
     "name": "stdout",
     "output_type": "stream",
     "text": [
      "1 8.0\n",
      "2 7.5\n",
      "3 9.1\n",
      "4 6.3\n",
      "5 6.5\n"
     ]
    }
   ],
   "source": [
    "index=0\n",
    "for i in range(len(movie_rating)):\n",
    "    if movie_rating[i]>=6:\n",
    "        index+=1\n",
    "        print(index,movie_rating[i])"
   ]
  },
  {
   "cell_type": "code",
   "execution_count": null,
   "id": "d08a8955",
   "metadata": {},
   "outputs": [],
   "source": []
  }
 ],
 "metadata": {
  "kernelspec": {
   "display_name": "Python 3 (ipykernel)",
   "language": "python",
   "name": "python3"
  },
  "language_info": {
   "codemirror_mode": {
    "name": "ipython",
    "version": 3
   },
   "file_extension": ".py",
   "mimetype": "text/x-python",
   "name": "python",
   "nbconvert_exporter": "python",
   "pygments_lexer": "ipython3",
   "version": "3.9.13"
  }
 },
 "nbformat": 4,
 "nbformat_minor": 5
}
