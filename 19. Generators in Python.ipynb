{
 "cells": [
  {
   "cell_type": "markdown",
   "id": "648b1834",
   "metadata": {},
   "source": [
    "# 21. Generators in Python\n",
    "\n",
    "  * Python generators are the functions that return the transversal object and a simple way of creating iterators.\n",
    "  * It transverses the entire items at once.\n",
    "  * The generator can also be an expression in which syntax is similar to the list comprehension in Python.\n",
    "  * There is a lot of complexity in crating iteration in Python, it is required to implement iter() and next() methods to keep track of internal states.\n",
    "  * It is a lengty process to create iterators.\n",
    "  * That is why the generators plays a significant role in simplifying this process.\n",
    "  * If there is no value found in iteration, it raises StopIteration exception.\n",
    "  * It is quite simple to create a generator in Python.\n",
    "  * It is similar ot the normal funciton defined by the def keyword and employs a yield keyword instead of return.\n",
    "  * If the body of any function includes a yield statement, it automatically becomes a generator functions.\n",
    "  * The yield keyword is responsible to control the flow of the generator function.\n",
    "  * It pauses the function execution by saving all states and yielded to the caller.\n",
    "  * Later it resumes execution when a successive function is called.\n",
    "  * The return keyword returns a value and terminates the whole function and only one return statement can be employed in the functions."
   ]
  },
  {
   "cell_type": "code",
   "execution_count": 3,
   "id": "a8e34e7d",
   "metadata": {},
   "outputs": [
    {
     "name": "stdout",
     "output_type": "stream",
     "text": [
      "[0, 2, 4, 6, 8, 10, 12, 14, 16, 18, 20, 22, 24, 26, 28, 30, 32, 34, 36, 38, 40, 42, 44, 46, 48, 50, 52, 54, 56, 58, 60, 62, 64, 66, 68, 70, 72, 74, 76, 78, 80, 82, 84, 86, 88, 90, 92, 94, 96, 98]\n"
     ]
    }
   ],
   "source": [
    "def function():\n",
    "    for i in range(100):\n",
    "        if i%2==0:\n",
    "            yield i\n",
    "        \n",
    "nlis = []\n",
    "for i in function():\n",
    "    nlis.append(i)\n",
    "print(nlis)"
   ]
  },
  {
   "cell_type": "code",
   "execution_count": 4,
   "id": "0168ff30",
   "metadata": {},
   "outputs": [
    {
     "name": "stdout",
     "output_type": "stream",
     "text": [
      "[0, 4, 8, 12, 16, 20, 24]\n"
     ]
    }
   ],
   "source": [
    "def func():\n",
    "    for i in range(25):\n",
    "        if i%4==0:\n",
    "            yield i\n",
    "            \n",
    "num_lis= []\n",
    "for i in func():\n",
    "    num_lis.append(i)\n",
    "print(num_lis)"
   ]
  },
  {
   "cell_type": "code",
   "execution_count": null,
   "id": "f37ad25c",
   "metadata": {},
   "outputs": [],
   "source": []
  }
 ],
 "metadata": {
  "kernelspec": {
   "display_name": "Python 3 (ipykernel)",
   "language": "python",
   "name": "python3"
  },
  "language_info": {
   "codemirror_mode": {
    "name": "ipython",
    "version": 3
   },
   "file_extension": ".py",
   "mimetype": "text/x-python",
   "name": "python",
   "nbconvert_exporter": "python",
   "pygments_lexer": "ipython3",
   "version": "3.9.13"
  }
 },
 "nbformat": 4,
 "nbformat_minor": 5
}
