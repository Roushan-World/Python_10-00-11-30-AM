{
 "cells": [
  {
   "cell_type": "code",
   "execution_count": 1,
   "id": "c4a79ae7",
   "metadata": {},
   "outputs": [
    {
     "name": "stdout",
     "output_type": "stream",
     "text": [
      "The max speed of car is:  120 \n",
      "and mileage is:  15\n"
     ]
    }
   ],
   "source": [
    "# Create a class with instance attributes\n",
    "# write a Python program to create a Vehicle class with max_speed and mileage \n",
    "# instance attributes.\n",
    "class Vehicles:\n",
    "    def __init__(self,max_speed,mileage):\n",
    "        self.max_speed= max_speed\n",
    "        self.mileage = mileage\n",
    "        \n",
    "    def print_car(self):\n",
    "        print('The max speed of car is: ',self.max_speed,'\\nand mileage is: ',self.mileage)\n",
    "        \n",
    "var1 = Vehicles(120,15)\n",
    "var1.print_car()"
   ]
  },
  {
   "cell_type": "code",
   "execution_count": 2,
   "id": "2003c632",
   "metadata": {},
   "outputs": [],
   "source": [
    "# Create a class with instance attributes.\n",
    "# Create a Vehicle without any variable and methods.\n",
    "\n",
    "\n",
    "class Vehicle:\n",
    "    pass"
   ]
  },
  {
   "cell_type": "code",
   "execution_count": 3,
   "id": "060f2a60",
   "metadata": {},
   "outputs": [
    {
     "name": "stdout",
     "output_type": "stream",
     "text": [
      "The name of the vehicle is:  Volvo \n",
      "The max speed of car is:  180 \n",
      "and mileage is:  12\n"
     ]
    }
   ],
   "source": [
    "# Create a Bus object that will inherit all of the variables and methods \n",
    "# of the parent Vehicle class and display it.\n",
    "# Vehicle Name: School Volvo. Speed: 180 Mileage: 12\n",
    "\n",
    "class Vehicles:\n",
    "    def __init__(self,name,max_speed,mileage):\n",
    "        self.name = name\n",
    "        self.max_speed= max_speed\n",
    "        self.mileage = mileage\n",
    "        \n",
    "    def print_vehicle(self):\n",
    "        print('The name of the vehicle is: ',self.name,'\\nThe max speed of car is: ',self.max_speed,'\\nand mileage is: ',self.mileage)\n",
    "        \n",
    "class Bus(Vehicles):\n",
    "    pass\n",
    "\n",
    "var2 = Bus('Volvo',180,12)\n",
    "var2.print_vehicle()"
   ]
  },
  {
   "cell_type": "code",
   "execution_count": 5,
   "id": "8d838aa7",
   "metadata": {},
   "outputs": [
    {
     "name": "stdout",
     "output_type": "stream",
     "text": [
      "The seating capacity of a Volvo is 50 passengers\n"
     ]
    }
   ],
   "source": [
    "# Class Inheritance\n",
    "#Given:\n",
    "\n",
    "#Create a Bus class that inherits from the Vehicle class. \n",
    "# Give the capacity argument of Bus.seating_capacity() a default value of 50.\n",
    "# The seating capacity of a bus is 50 passengers\n",
    "\n",
    "class Vehicles:\n",
    "    def __init__(self,name,max_speed,mileage):\n",
    "        self.name = name\n",
    "        self.max_speed= max_speed\n",
    "        self.mileage = mileage\n",
    "    \n",
    "    def seating_capacity(self,capacity):\n",
    "        return(f'The seating capacity of a {self.name} is {capacity} passengers')\n",
    "    \n",
    "    \n",
    "class Bus(Vehicles):\n",
    "    #assigning default value to capacity.\n",
    "    def seating_capacity(self, capacity=50):\n",
    "        return super().seating_capacity(capacity=50)\n",
    "    \n",
    "School_bus = Bus('Volvo',180,12)\n",
    "print(School_bus.seating_capacity())\n"
   ]
  },
  {
   "cell_type": "code",
   "execution_count": null,
   "id": "7eb9a617",
   "metadata": {},
   "outputs": [],
   "source": []
  }
 ],
 "metadata": {
  "kernelspec": {
   "display_name": "Python 3 (ipykernel)",
   "language": "python",
   "name": "python3"
  },
  "language_info": {
   "codemirror_mode": {
    "name": "ipython",
    "version": 3
   },
   "file_extension": ".py",
   "mimetype": "text/x-python",
   "name": "python",
   "nbconvert_exporter": "python",
   "pygments_lexer": "ipython3",
   "version": "3.9.13"
  }
 },
 "nbformat": 4,
 "nbformat_minor": 5
}
