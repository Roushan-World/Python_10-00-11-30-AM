{
 "cells": [
  {
   "cell_type": "code",
   "execution_count": 1,
   "id": "c4a79ae7",
   "metadata": {},
   "outputs": [
    {
     "name": "stdout",
     "output_type": "stream",
     "text": [
      "The max speed of car is:  120 \n",
      "and mileage is:  15\n"
     ]
    }
   ],
   "source": [
    "# Create a class with instance attributes\n",
    "# write a Python program to create a Vehicle class with max_speed and mileage \n",
    "# instance attributes.\n",
    "class Vehicles:\n",
    "    def __init__(self,max_speed,mileage):\n",
    "        self.max_speed= max_speed\n",
    "        self.mileage = mileage\n",
    "        \n",
    "    def print_car(self):\n",
    "        print('The max speed of car is: ',self.max_speed,'\\nand mileage is: ',self.mileage)\n",
    "        \n",
    "var1 = Vehicles(120,15)\n",
    "var1.print_car()"
   ]
  },
  {
   "cell_type": "code",
   "execution_count": 2,
   "id": "2003c632",
   "metadata": {},
   "outputs": [],
   "source": [
    "# Create a class with instance attributes.\n",
    "# Create a Vehicle without any variable and methods.\n",
    "\n",
    "\n",
    "class Vehicle:\n",
    "    pass"
   ]
  },
  {
   "cell_type": "code",
   "execution_count": 3,
   "id": "060f2a60",
   "metadata": {},
   "outputs": [
    {
     "name": "stdout",
     "output_type": "stream",
     "text": [
      "The name of the vehicle is:  Volvo \n",
      "The max speed of car is:  180 \n",
      "and mileage is:  12\n"
     ]
    }
   ],
   "source": [
    "# Create a Bus object that will inherit all of the variables and methods \n",
    "# of the parent Vehicle class and display it.\n",
    "# Vehicle Name: School Volvo. Speed: 180 Mileage: 12\n",
    "\n",
    "class Vehicles:\n",
    "    def __init__(self,name,max_speed,mileage):\n",
    "        self.name = name\n",
    "        self.max_speed= max_speed\n",
    "        self.mileage = mileage\n",
    "        \n",
    "    def print_vehicle(self):\n",
    "        print('The name of the vehicle is: ',self.name,'\\nThe max speed of car is: ',self.max_speed,'\\nand mileage is: ',self.mileage)\n",
    "        \n",
    "class Bus(Vehicles):\n",
    "    pass\n",
    "\n",
    "var2 = Bus('Volvo',180,12)\n",
    "var2.print_vehicle()"
   ]
  },
  {
   "cell_type": "code",
   "execution_count": 5,
   "id": "8d838aa7",
   "metadata": {},
   "outputs": [
    {
     "name": "stdout",
     "output_type": "stream",
     "text": [
      "The seating capacity of a Volvo is 50 passengers\n"
     ]
    }
   ],
   "source": [
    "# Class Inheritance\n",
    "#Given:\n",
    "\n",
    "#Create a Bus class that inherits from the Vehicle class. \n",
    "# Give the capacity argument of Bus.seating_capacity() a default value of 50.\n",
    "# The seating capacity of a bus is 50 passengers\n",
    "\n",
    "class Vehicles:\n",
    "    def __init__(self,name,max_speed,mileage):\n",
    "        self.name = name\n",
    "        self.max_speed= max_speed\n",
    "        self.mileage = mileage\n",
    "    \n",
    "    def seating_capacity(self,capacity):\n",
    "        return(f'The seating capacity of a {self.name} is {capacity} passengers')\n",
    "    \n",
    "    \n",
    "class Bus(Vehicles):\n",
    "    #assigning default value to capacity.\n",
    "    def seating_capacity(self, capacity=50):\n",
    "        return super().seating_capacity(capacity=50)\n",
    "    \n",
    "School_bus = Bus('Volvo',180,12)\n",
    "print(School_bus.seating_capacity())\n"
   ]
  },
  {
   "cell_type": "code",
   "execution_count": 23,
   "id": "7eb9a617",
   "metadata": {},
   "outputs": [
    {
     "name": "stdout",
     "output_type": "stream",
     "text": [
      "The color of the car is:  <bound method Vehicle.color of <__main__.Vehicle object at 0x000002F6EF3FBF70>>\n",
      "The name of the car is:  School Bus Volvo\n",
      "The speed of the car is:  180\n",
      "The mileage of the car is:  12\n"
     ]
    }
   ],
   "source": [
    "# Define a property that must have same value for every class instance(object).\n",
    "# Define a class attribute \"color\" with a default value white. i.e Every vehicle should be white.\n",
    "# color: white, vehicle name: School volvo, speed: 180, mileage: 12\n",
    "# coldor: white, vehicle name: Audi Q5, speed:240, meleage:10\n",
    "\n",
    "class Vehicle:\n",
    "    def __init__(self,name,speed,mileage):\n",
    "        self.name = name\n",
    "        self.speed = speed\n",
    "        self.mileage = mileage\n",
    "        \n",
    "    def color(self,color=\"White\"):\n",
    "        return super().color(color='white')\n",
    "    \n",
    "    def print_vehicle(self):\n",
    "        print('The color of the car is: ',self.color)\n",
    "        print('The name of the car is: ',self.name)\n",
    "        print('The speed of the car is: ',self.speed)\n",
    "        print('The mileage of the car is: ',self.mileage)\n",
    "    \n",
    "        \n",
    "#obj_1 = Vehicle('School Bus Volvo',180,12)\n",
    "obj_1.print_vehicle()"
   ]
  },
  {
   "cell_type": "code",
   "execution_count": 10,
   "id": "7a3d1df3",
   "metadata": {},
   "outputs": [
    {
     "name": "stdout",
     "output_type": "stream",
     "text": [
      "color: White Name: School_Volvo Speed: 180 Mileage: 12\n",
      "color: White Name: Audi Q5 Speed: 240 Mileage: 10\n"
     ]
    }
   ],
   "source": [
    "class vehicle:\n",
    "    color='White'\n",
    "    \n",
    "    def __init__(self,name,max_speed,mileage):\n",
    "        self.name=name\n",
    "        self.max_speed=max_speed\n",
    "        self.mileage=mileage\n",
    "        \n",
    "        \n",
    "class Bus(vehicle):\n",
    "    pass\n",
    "class Car(vehicle):\n",
    "    pass\n",
    "\n",
    "    \n",
    "school_bus=Bus('School_Volvo',180,12)\n",
    "print(\"color:\",school_bus.color,\"Name:\",school_bus.name,\"Speed:\",school_bus.max_speed,'Mileage:',school_bus.mileage)\n",
    "\n",
    "car= Car('Audi Q5',240,10)\n",
    "print(\"color:\",car.color,\"Name:\",car.name,\"Speed:\",car.max_speed,\"Mileage:\",car.mileage)"
   ]
  },
  {
   "cell_type": "code",
   "execution_count": 26,
   "id": "7e06967c",
   "metadata": {},
   "outputs": [
    {
     "name": "stdout",
     "output_type": "stream",
     "text": [
      "Total Bus fare is: 5500.0\n"
     ]
    }
   ],
   "source": [
    "#Create a Bus child class that inherits from the Vehicle class. \n",
    "# The default fare charge of any vehicle is seating capacity * 100. \n",
    "# If Vehicle is Bus instance, we need to add an extra 10% on full fare as a maintenance charge. \n",
    "# So total fare for bus instance will become the final amount = total fare + 10% of the total fare.\n",
    "# Note: The bus seating capacity is 50. so the final fare amount should be 5500. You need to override \n",
    "# the fare() method of a Vehicle class in Bus class.\n",
    "# output:Total Bus fare is: 5500.0\n",
    "\n",
    "\n",
    "# amout=super().fare()\n",
    "# amount+=amout*10/100\n",
    "# return amount\n",
    "\n",
    "class vehicle: \n",
    "    def __init__(self,name,max_speed,mileage,capacity):\n",
    "        self.name=name\n",
    "        self.max_speed=max_speed\n",
    "        self.mileage=mileage\n",
    "        self.capacity=capacity\n",
    "        \n",
    "    def fare(self):\n",
    "        return self.capacity*100\n",
    "    \n",
    "class Bus(vehicle):\n",
    "    def fare(self):\n",
    "        amount= super().fare()\n",
    "        amount+=amount*10/100\n",
    "        return amount\n",
    "    \n",
    "School_bus=Bus('School_Volvo',12,80,50)\n",
    "print('Total Bus fare is:',School_bus.fare())\n"
   ]
  },
  {
   "cell_type": "code",
   "execution_count": null,
   "id": "014cfa70",
   "metadata": {},
   "outputs": [],
   "source": []
  }
 ],
 "metadata": {
  "kernelspec": {
   "display_name": "Python 3 (ipykernel)",
   "language": "python",
   "name": "python3"
  },
  "language_info": {
   "codemirror_mode": {
    "name": "ipython",
    "version": 3
   },
   "file_extension": ".py",
   "mimetype": "text/x-python",
   "name": "python",
   "nbconvert_exporter": "python",
   "pygments_lexer": "ipython3",
   "version": "3.9.13"
  }
 },
 "nbformat": 4,
 "nbformat_minor": 5
}
