{
 "cells": [
  {
   "cell_type": "markdown",
   "id": "9e1e6da3",
   "metadata": {},
   "source": [
    "# 3. Lists"
   ]
  },
  {
   "cell_type": "markdown",
   "id": "71296826",
   "metadata": {},
   "source": [
    "   * Lists are ordered.\n",
    "   * Lists can contain any arbitrary objects.\n",
    "   * Lists elements can be accessed by index.\n",
    "   * Lists can be nested to arbitrary depth.\n",
    "   * Lists are mutable.\n",
    "   * Lists are dynamic."
   ]
  },
  {
   "cell_type": "code",
   "execution_count": 2,
   "id": "56ed01e4",
   "metadata": {},
   "outputs": [
    {
     "name": "stdout",
     "output_type": "stream",
     "text": [
      "['Python', 25, 2023]\n",
      "<class 'list'>\n"
     ]
    }
   ],
   "source": [
    "# Creating a list\n",
    "\n",
    "x = ['Python',25,2023]\n",
    "\n",
    "print(x)\n",
    "print(type(x))"
   ]
  },
  {
   "cell_type": "code",
   "execution_count": 9,
   "id": "1768d06e",
   "metadata": {},
   "outputs": [
    {
     "name": "stdout",
     "output_type": "stream",
     "text": [
      "Positive index:  Python , Negative index:  Python\n",
      "Positive index:  25 , Negative index:  25\n",
      "Positive index:  2023 , Negative index:  2023\n"
     ]
    }
   ],
   "source": [
    "print('Positive index: ',x[0],',','Negative index: ',x[-3])\n",
    "print('Positive index: ',x[1],',','Negative index: ',x[-2])\n",
    "print('Positive index: ',x[2],',','Negative index: ',x[-1])"
   ]
  },
  {
   "cell_type": "markdown",
   "id": "2463a084",
   "metadata": {},
   "source": [
    "# What can content a list?"
   ]
  },
  {
   "cell_type": "markdown",
   "id": "b0dada72",
   "metadata": {},
   "source": [
    "   * Strings\n",
    "   * Floats\n",
    "   * Integer\n",
    "   * Boolean\n",
    "   * Nested List\n",
    "   * Nested Tuples\n",
    "   * Other Data structure"
   ]
  },
  {
   "cell_type": "code",
   "execution_count": 10,
   "id": "e19f3916",
   "metadata": {},
   "outputs": [
    {
     "data": {
      "text/plain": [
       "['Python',\n",
       " 3.14,\n",
       " 2023,\n",
       " True,\n",
       " False,\n",
       " [1, 2, 3, 4, 5, 6, 7, 8, 9],\n",
       " ('hello python', 3.14, 2023)]"
      ]
     },
     "execution_count": 10,
     "metadata": {},
     "output_type": "execute_result"
    }
   ],
   "source": [
    "nlis=['Python', 3.14, 2023,True, False, [1,2,3,4,5,6,7,8,9],('hello python',3.14,2023)]\n",
    "\n",
    "nlis"
   ]
  },
  {
   "cell_type": "markdown",
   "id": "6f26b74d",
   "metadata": {},
   "source": [
    "# List operations"
   ]
  },
  {
   "cell_type": "code",
   "execution_count": 11,
   "id": "deb07494",
   "metadata": {},
   "outputs": [
    {
     "data": {
      "text/plain": [
       "7"
      ]
     },
     "execution_count": 11,
     "metadata": {},
     "output_type": "execute_result"
    }
   ],
   "source": [
    "# length of the list\n",
    "\n",
    "len(nlis)"
   ]
  },
  {
   "cell_type": "code",
   "execution_count": 16,
   "id": "09ae6ec1",
   "metadata": {},
   "outputs": [
    {
     "name": "stdout",
     "output_type": "stream",
     "text": [
      "[True]\n",
      "['Python', 3.14, 2023, True, False]\n",
      "[[1, 2, 3, 4, 5, 6, 7, 8, 9]]\n",
      "('hello python', 3.14, 2023)\n",
      "[('hello python', 3.14, 2023)]\n"
     ]
    }
   ],
   "source": [
    "# Slicing of a list.\n",
    "\n",
    "print(nlis[3:4])\n",
    "print(nlis[0:5])\n",
    "print(nlis[5:6])\n",
    "print(nlis[-1])\n",
    "print(nlis[6:7])\n",
    "\n"
   ]
  },
  {
   "cell_type": "code",
   "execution_count": 23,
   "id": "8216f7d2",
   "metadata": {},
   "outputs": [
    {
     "name": "stdout",
     "output_type": "stream",
     "text": [
      "5\n",
      "8\n",
      "hello python\n",
      "2023\n"
     ]
    }
   ],
   "source": [
    "nlis=['Python', 3.14, 2023,True, False, [1,2,3,4,5,6,7,8,9],('hello python',3.14,2023)]\n",
    "\n",
    "\n",
    "\n",
    "print(nlis[5][4])\n",
    "print(nlis[5][7])\n",
    "print(nlis[6][0])\n",
    "print(nlis[6][2])"
   ]
  },
  {
   "cell_type": "markdown",
   "id": "cdee0cfc",
   "metadata": {},
   "source": [
    "# Extending the list"
   ]
  },
  {
   "cell_type": "markdown",
   "id": "0a1c5d28",
   "metadata": {},
   "source": [
    "    * We use the extend() function to add a new element to the list.\n",
    "    * With this function we add more than one element to the list."
   ]
  },
  {
   "cell_type": "code",
   "execution_count": 25,
   "id": "c8d6b491",
   "metadata": {},
   "outputs": [
    {
     "name": "stdout",
     "output_type": "stream",
     "text": [
      "['Python', 3.14, 2023, True, False, [1, 2, 3, 4, 5, 6, 7, 8, 9], ('hello python', 3.14, 2023), 'hello World', 1.618]\n"
     ]
    }
   ],
   "source": [
    "nlis=['Python', 3.14, 2023,True, False, [1,2,3,4,5,6,7,8,9],('hello python',3.14,2023)]\n",
    "\n",
    "nlis.extend(['hello World',1.618])\n",
    "print(nlis)"
   ]
  },
  {
   "cell_type": "markdown",
   "id": "f41b2731",
   "metadata": {},
   "source": [
    "# append() method"
   ]
  },
  {
   "cell_type": "markdown",
   "id": "50d23821",
   "metadata": {},
   "source": [
    "   * as different from the extend() method, with the append() method, we add only one element to the list.\n",
    "   * you can see the difference by comparing the above and below codes.\n",
    "   "
   ]
  },
  {
   "cell_type": "code",
   "execution_count": 28,
   "id": "c24f26bf",
   "metadata": {},
   "outputs": [
    {
     "data": {
      "text/plain": [
       "['Python',\n",
       " 3.14,\n",
       " 2023,\n",
       " True,\n",
       " False,\n",
       " [1, 2, 3, 4, 5, 6, 7, 8, 9],\n",
       " ('hello python', 3.14, 2023),\n",
       " ['Hello World!', 1.618],\n",
       " ['Amey Lonkar']]"
      ]
     },
     "execution_count": 28,
     "metadata": {},
     "output_type": "execute_result"
    }
   ],
   "source": [
    "nlis=['Python', 3.14, 2023,True, False, [1,2,3,4,5,6,7,8,9],('hello python',3.14,2023)]\n",
    "\n",
    "nlis.append(['Hello World!',1.618])\n",
    "nlis.append(['Amey Lonkar'])\n",
    "nlis"
   ]
  },
  {
   "cell_type": "code",
   "execution_count": 3,
   "id": "32f27955",
   "metadata": {},
   "outputs": [
    {
     "name": "stdout",
     "output_type": "stream",
     "text": [
      "[10, 20, 30, [40]]\n"
     ]
    }
   ],
   "source": [
    "# append method\n",
    "y=[10,20,30]\n",
    "\n",
    "y.append([40])\n",
    "print(y)"
   ]
  },
  {
   "cell_type": "code",
   "execution_count": 5,
   "id": "6ba03723",
   "metadata": {},
   "outputs": [
    {
     "name": "stdout",
     "output_type": "stream",
     "text": [
      "[10, 20, 30, [40], 40, 40]\n"
     ]
    }
   ],
   "source": [
    "# extend method\n",
    "\n",
    "y.extend([40])\n",
    "print(y)"
   ]
  },
  {
   "cell_type": "code",
   "execution_count": 6,
   "id": "cc3388fc",
   "metadata": {},
   "outputs": [
    {
     "name": "stdout",
     "output_type": "stream",
     "text": [
      "[10, 20, 60, 30, [40], 40, 40]\n"
     ]
    }
   ],
   "source": [
    "# insert method\n",
    "\n",
    "y.insert(2,60)\n",
    "print(y)"
   ]
  },
  {
   "cell_type": "code",
   "execution_count": 8,
   "id": "2cd1d749",
   "metadata": {},
   "outputs": [
    {
     "data": {
      "text/plain": [
       "3"
      ]
     },
     "execution_count": 8,
     "metadata": {},
     "output_type": "execute_result"
    }
   ],
   "source": [
    "# count method\n",
    "\n",
    "z=[10,20,30,40,20,20]\n",
    "\n",
    "z.count(20)\n",
    "\n"
   ]
  },
  {
   "cell_type": "code",
   "execution_count": 10,
   "id": "8f69797e",
   "metadata": {},
   "outputs": [
    {
     "data": {
      "text/plain": [
       "[]"
      ]
     },
     "execution_count": 10,
     "metadata": {},
     "output_type": "execute_result"
    }
   ],
   "source": [
    "# Clear method\n",
    "z=[20,30]\n",
    "\n",
    "z.clear()\n",
    "z"
   ]
  },
  {
   "cell_type": "code",
   "execution_count": 13,
   "id": "32136464",
   "metadata": {},
   "outputs": [
    {
     "name": "stdout",
     "output_type": "stream",
     "text": [
      "[10, 20, 60, 30, [40], 40, 40]\n"
     ]
    },
    {
     "data": {
      "text/plain": [
       "5"
      ]
     },
     "execution_count": 13,
     "metadata": {},
     "output_type": "execute_result"
    }
   ],
   "source": [
    "# index method\n",
    "print(y)\n",
    "y.index(40)"
   ]
  },
  {
   "cell_type": "code",
   "execution_count": 18,
   "id": "96c18bcf",
   "metadata": {},
   "outputs": [
    {
     "name": "stdout",
     "output_type": "stream",
     "text": [
      "[10, 20, 30, [40], 40]\n"
     ]
    },
    {
     "ename": "IndexError",
     "evalue": "pop index out of range",
     "output_type": "error",
     "traceback": [
      "\u001b[1;31m---------------------------------------------------------------------------\u001b[0m",
      "\u001b[1;31mIndexError\u001b[0m                                Traceback (most recent call last)",
      "\u001b[1;32mC:\\Users\\ROUSHA~1\\AppData\\Local\\Temp/ipykernel_4424/4293385083.py\u001b[0m in \u001b[0;36m<module>\u001b[1;34m\u001b[0m\n\u001b[0;32m      3\u001b[0m \u001b[0mprint\u001b[0m\u001b[1;33m(\u001b[0m\u001b[0my\u001b[0m\u001b[1;33m)\u001b[0m\u001b[1;33m\u001b[0m\u001b[1;33m\u001b[0m\u001b[0m\n\u001b[0;32m      4\u001b[0m \u001b[1;33m\u001b[0m\u001b[0m\n\u001b[1;32m----> 5\u001b[1;33m \u001b[0my\u001b[0m\u001b[1;33m.\u001b[0m\u001b[0mpop\u001b[0m\u001b[1;33m(\u001b[0m\u001b[1;36m6\u001b[0m\u001b[1;33m)\u001b[0m\u001b[1;33m\u001b[0m\u001b[1;33m\u001b[0m\u001b[0m\n\u001b[0m\u001b[0;32m      6\u001b[0m \u001b[1;33m\u001b[0m\u001b[0m\n\u001b[0;32m      7\u001b[0m \u001b[0mprint\u001b[0m\u001b[1;33m(\u001b[0m\u001b[0my\u001b[0m\u001b[1;33m)\u001b[0m\u001b[1;33m\u001b[0m\u001b[1;33m\u001b[0m\u001b[0m\n",
      "\u001b[1;31mIndexError\u001b[0m: pop index out of range"
     ]
    }
   ],
   "source": [
    "# pop method\n",
    "\n",
    "print(y)\n",
    "\n",
    "y.pop(6)\n",
    "\n",
    "print(y)"
   ]
  },
  {
   "cell_type": "code",
   "execution_count": 16,
   "id": "afc7542b",
   "metadata": {},
   "outputs": [
    {
     "name": "stdout",
     "output_type": "stream",
     "text": [
      "[10, 20, 30, [40], 40]\n"
     ]
    }
   ],
   "source": [
    "y.pop(2)\n",
    "print(y)"
   ]
  },
  {
   "cell_type": "code",
   "execution_count": 19,
   "id": "aa3c6130",
   "metadata": {},
   "outputs": [
    {
     "name": "stdout",
     "output_type": "stream",
     "text": [
      "[10, 20, 30]\n"
     ]
    }
   ],
   "source": [
    "# reverse method\n",
    "t=[30,20,10]\n",
    "\n",
    "t.reverse()\n",
    "print(t)"
   ]
  },
  {
   "cell_type": "code",
   "execution_count": 33,
   "id": "c7289be3",
   "metadata": {},
   "outputs": [
    {
     "name": "stdout",
     "output_type": "stream",
     "text": [
      "Amey Lonkar\n",
      "raknoL yemA\n"
     ]
    }
   ],
   "source": [
    "# reverse the string method\n",
    "u='Amey Lonkar'\n",
    "print(u)\n",
    "print(u[::-1])\n"
   ]
  },
  {
   "cell_type": "code",
   "execution_count": 39,
   "id": "01d2df26",
   "metadata": {},
   "outputs": [
    {
     "name": "stdout",
     "output_type": "stream",
     "text": [
      "[10, 20, 30, 40, 60, 80]\n"
     ]
    }
   ],
   "source": [
    "# sort method ascending order.\n",
    "i=[30,40,10,20,80,60]\n",
    "i.sort()\n",
    "print(i)\n"
   ]
  },
  {
   "cell_type": "code",
   "execution_count": 41,
   "id": "78707da9",
   "metadata": {},
   "outputs": [
    {
     "data": {
      "text/plain": [
       "80"
      ]
     },
     "execution_count": 41,
     "metadata": {},
     "output_type": "execute_result"
    }
   ],
   "source": [
    "# max number of list.\n",
    "max(i)"
   ]
  },
  {
   "cell_type": "code",
   "execution_count": 42,
   "id": "f69c78f3",
   "metadata": {},
   "outputs": [
    {
     "data": {
      "text/plain": [
       "10"
      ]
     },
     "execution_count": 42,
     "metadata": {},
     "output_type": "execute_result"
    }
   ],
   "source": [
    "# minimum number of list.\n",
    "\n",
    "min(i)"
   ]
  },
  {
   "cell_type": "code",
   "execution_count": 43,
   "id": "f18d2491",
   "metadata": {},
   "outputs": [
    {
     "data": {
      "text/plain": [
       "240"
      ]
     },
     "execution_count": 43,
     "metadata": {},
     "output_type": "execute_result"
    }
   ],
   "source": [
    "# sum of the list.\n",
    "sum(i)"
   ]
  },
  {
   "cell_type": "markdown",
   "id": "0ec4ce93",
   "metadata": {},
   "source": [
    "# Changing the element of a list since it is mutable.\n",
    "\n",
    "\n"
   ]
  },
  {
   "cell_type": "code",
   "execution_count": 46,
   "id": "add54716",
   "metadata": {},
   "outputs": [
    {
     "name": "stdout",
     "output_type": "stream",
     "text": [
      "Before changing: ['Python', 3.14, 2023, [1, 2, 3, 4, 5, 6, 81, 20], ('Hello World', 3, 14, 2023)]\n",
      "After Changing: ['Amey Lonkar', 3.14, 2023, [1, 2, 3, 4, 5, 6, 81, 20], ('Hello World', 3, 14, 2023)]\n"
     ]
    }
   ],
   "source": [
    "nlis=['Python',3.14,2023,[1,2,3,4,5,6,81,20],('Hello World',3,14,2023)]\n",
    "\n",
    "print('Before changing:',nlis)\n",
    "nlis[0]='Amey Lonkar'\n",
    "print('After Changing:',nlis)"
   ]
  },
  {
   "cell_type": "code",
   "execution_count": 51,
   "id": "c951e575",
   "metadata": {},
   "outputs": [
    {
     "name": "stdout",
     "output_type": "stream",
     "text": [
      "Before Changing: ['Amey Lonkar', 3.14, 2023, [1, 2, 3, 4, 5, 6, 81, 20], ('Hello World', 3, 14, 2023)]\n",
      "After Changing: ['Amey Lonkar', 3.14, 2023, [1, 2, 3, 4, 5, 6, 90, 20], ('Hello World', 3, 14, 2023)]\n"
     ]
    }
   ],
   "source": [
    "\n",
    "print('Before Changing:',nlis)\n",
    "nlis[3][6]=90\n",
    "print('After Changing:',nlis)"
   ]
  },
  {
   "cell_type": "code",
   "execution_count": 53,
   "id": "51c3d7b6",
   "metadata": {},
   "outputs": [
    {
     "ename": "TypeError",
     "evalue": "'tuple' object does not support item assignment",
     "output_type": "error",
     "traceback": [
      "\u001b[1;31m---------------------------------------------------------------------------\u001b[0m",
      "\u001b[1;31mTypeError\u001b[0m                                 Traceback (most recent call last)",
      "\u001b[1;32mC:\\Users\\ROUSHA~1\\AppData\\Local\\Temp/ipykernel_4424/3557054078.py\u001b[0m in \u001b[0;36m<module>\u001b[1;34m\u001b[0m\n\u001b[1;32m----> 1\u001b[1;33m \u001b[0mnlis\u001b[0m\u001b[1;33m[\u001b[0m\u001b[1;36m4\u001b[0m\u001b[1;33m]\u001b[0m\u001b[1;33m[\u001b[0m\u001b[1;36m0\u001b[0m\u001b[1;33m]\u001b[0m\u001b[1;33m=\u001b[0m\u001b[1;34m'Amey Lonkar'\u001b[0m\u001b[1;33m\u001b[0m\u001b[1;33m\u001b[0m\u001b[0m\n\u001b[0m\u001b[0;32m      2\u001b[0m \u001b[0mprint\u001b[0m\u001b[1;33m(\u001b[0m\u001b[0mnlis\u001b[0m\u001b[1;33m)\u001b[0m\u001b[1;33m\u001b[0m\u001b[1;33m\u001b[0m\u001b[0m\n",
      "\u001b[1;31mTypeError\u001b[0m: 'tuple' object does not support item assignment"
     ]
    }
   ],
   "source": [
    "# tuple does not support item assignment\n",
    "nlis[4][0]='Amey Lonkar'\n",
    "print(nlis)"
   ]
  },
  {
   "cell_type": "markdown",
   "id": "2e056f9f",
   "metadata": {},
   "source": [
    "# Changing of a string into a list using split() function."
   ]
  },
  {
   "cell_type": "code",
   "execution_count": 54,
   "id": "d3171d00",
   "metadata": {},
   "outputs": [
    {
     "data": {
      "text/plain": [
       "['Python', 'is', 'a', 'programming', 'language.']"
      ]
     },
     "execution_count": 54,
     "metadata": {},
     "output_type": "execute_result"
    }
   ],
   "source": [
    "message='Python is a programming language.'\n",
    "\n",
    "message.split()"
   ]
  },
  {
   "cell_type": "markdown",
   "id": "dc4fb744",
   "metadata": {},
   "source": [
    "# Use of split() function with a delimeter."
   ]
  },
  {
   "cell_type": "code",
   "execution_count": 55,
   "id": "862c68d4",
   "metadata": {},
   "outputs": [
    {
     "data": {
      "text/plain": [
       "['p', 'y', 't', 'h', 'o', 'n']"
      ]
     },
     "execution_count": 55,
     "metadata": {},
     "output_type": "execute_result"
    }
   ],
   "source": [
    "text='p,y,t,h,o,n'\n",
    "\n",
    "text.split(\",\")"
   ]
  },
  {
   "cell_type": "markdown",
   "id": "2678c7e1",
   "metadata": {},
   "source": [
    "# Basic Operations"
   ]
  },
  {
   "cell_type": "code",
   "execution_count": 59,
   "id": "650e36d0",
   "metadata": {},
   "outputs": [
    {
     "name": "stdout",
     "output_type": "stream",
     "text": [
      "4\n",
      "6\n",
      "['a', 'b', 'Hello', 'Python', 1, 2, 3, 4, 5, 6]\n",
      "['a', 'b', 'Hello', 'Python', 'a', 'b', 'Hello', 'Python', 'a', 'b', 'Hello', 'Python']\n"
     ]
    }
   ],
   "source": [
    "nlis_1=['a','b','Hello','Python']\n",
    "\n",
    "nlis_2=[1,2,3,4,5,6]\n",
    "print(len(nlis_1))\n",
    "print(len(nlis_2))\n",
    "print(nlis_1+nlis_2)\n",
    "\n",
    "print(nlis_1*3)"
   ]
  },
  {
   "cell_type": "markdown",
   "id": "3a342634",
   "metadata": {},
   "source": [
    "# Concatenate the list"
   ]
  },
  {
   "cell_type": "code",
   "execution_count": 60,
   "id": "81e8c53b",
   "metadata": {},
   "outputs": [
    {
     "name": "stdout",
     "output_type": "stream",
     "text": [
      "['a', 'b', ['c', 'd'], 'e', 1, 2, 3, 4, 5, (6, 7), True, False]\n"
     ]
    }
   ],
   "source": [
    "a_list=['a','b',['c','d'],'e']\n",
    "b_list=[1,2,3,4,5,(6,7),True,False]\n",
    "\n",
    "new_list=a_list+b_list\n",
    "print(new_list)\n"
   ]
  },
  {
   "cell_type": "markdown",
   "id": "5aece3ca",
   "metadata": {},
   "source": [
    "# As different from the list, I also siginificant the following information."
   ]
  },
  {
   "cell_type": "markdown",
   "id": "38d4e969",
   "metadata": {},
   "source": [
    "# input function"
   ]
  },
  {
   "cell_type": "markdown",
   "id": "8d7c6303",
   "metadata": {},
   "source": [
    " * input() function in Python provides a user of a program supply inputs to the program at runtime."
   ]
  },
  {
   "cell_type": "code",
   "execution_count": 61,
   "id": "6fe95f34",
   "metadata": {},
   "outputs": [
    {
     "name": "stdout",
     "output_type": "stream",
     "text": [
      "Enter a string.Amey Lonkar\n",
      "The text is:  Amey Lonkar\n",
      "<class 'str'>\n"
     ]
    }
   ],
   "source": [
    "text=input('Enter a string.')\n",
    "print('The text is: ',text)\n",
    "\n",
    "print(type(text))"
   ]
  },
  {
   "cell_type": "code",
   "execution_count": 62,
   "id": "539ec068",
   "metadata": {},
   "outputs": [
    {
     "name": "stdout",
     "output_type": "stream",
     "text": [
      "Enter a string.15\n",
      "The text is:  15\n",
      "<class 'str'>\n"
     ]
    }
   ],
   "source": [
    "# Although the function wants an integer, the type of the entered number is a string.\n",
    "text=input('Enter a string.')\n",
    "print('The text is: ',text)\n",
    "\n",
    "print(type(text))"
   ]
  },
  {
   "cell_type": "code",
   "execution_count": 63,
   "id": "87d1e1b7",
   "metadata": {},
   "outputs": [
    {
     "name": "stdout",
     "output_type": "stream",
     "text": [
      "Enter a string.15\n",
      "The text is:  15\n",
      "<class 'int'>\n"
     ]
    }
   ],
   "source": [
    "text=int(input('Enter a string.'))\n",
    "print('The text is: ',text)\n",
    "\n",
    "print(type(text))"
   ]
  },
  {
   "cell_type": "code",
   "execution_count": 65,
   "id": "0ee5803a",
   "metadata": {},
   "outputs": [
    {
     "name": "stdout",
     "output_type": "stream",
     "text": [
      "Enter a string.78.3\n",
      "The text is:  78.3\n",
      "<class 'float'>\n"
     ]
    }
   ],
   "source": [
    "text=float(input('Enter a string.'))\n",
    "print('The text is: ',text)\n",
    "\n",
    "print(type(text))"
   ]
  },
  {
   "cell_type": "code",
   "execution_count": 66,
   "id": "abc3bbcb",
   "metadata": {},
   "outputs": [
    {
     "name": "stdout",
     "output_type": "stream",
     "text": [
      "20+30\n"
     ]
    }
   ],
   "source": [
    "print('20+30')\n"
   ]
  },
  {
   "cell_type": "markdown",
   "id": "8a501884",
   "metadata": {},
   "source": [
    "# eval() functions"
   ]
  },
  {
   "cell_type": "markdown",
   "id": "e5b30f61",
   "metadata": {},
   "source": [
    " * This function serves the aim of converting a string to an integer or a float.\n",
    " \n",
    " "
   ]
  },
  {
   "cell_type": "code",
   "execution_count": 68,
   "id": "3f1faa4c",
   "metadata": {},
   "outputs": [
    {
     "name": "stdout",
     "output_type": "stream",
     "text": [
      "Sum of the expression: 90\n",
      "<class 'str'>\n",
      "<class 'int'>\n"
     ]
    }
   ],
   "source": [
    "expression='80+10'\n",
    "total=eval(expression)\n",
    "print('Sum of the expression:',total)\n",
    "\n",
    "print(type(expression))\n",
    "print(type(total))"
   ]
  },
  {
   "cell_type": "markdown",
   "id": "6d76fee5",
   "metadata": {},
   "source": [
    "# format() function"
   ]
  },
  {
   "cell_type": "markdown",
   "id": "9b0421ea",
   "metadata": {},
   "source": [
    " * This function helps to format the output printed on the screen with good look and attractive."
   ]
  },
  {
   "cell_type": "code",
   "execution_count": 70,
   "id": "3f5b2ad2",
   "metadata": {},
   "outputs": [
    {
     "name": "stdout",
     "output_type": "stream",
     "text": [
      "Enter any number:8\n",
      "Enter second number:7\n",
      "Sum of 8.0 and 7.0 is 15.0.\n"
     ]
    }
   ],
   "source": [
    "a=float(input('Enter any number:'))\n",
    "b=float(input('Enter second number:'))\n",
    "\n",
    "total=a+b\n",
    "print('Sum of {} and {} is {}.'.format(a,b,total))"
   ]
  },
  {
   "cell_type": "markdown",
   "id": "75103c9d",
   "metadata": {},
   "source": [
    "# Comparison operators"
   ]
  },
  {
   "cell_type": "markdown",
   "id": "a2a36258",
   "metadata": {},
   "source": [
    " * The operators such as <,>,<=,>=,== and != compare the certain two operands and return True of False"
   ]
  },
  {
   "cell_type": "code",
   "execution_count": 76,
   "id": "aab09fda",
   "metadata": {},
   "outputs": [
    {
     "name": "stdout",
     "output_type": "stream",
     "text": [
      "a>b is: True\n",
      "a<b is: False\n",
      "a<=b is: False\n",
      "a>=b is: True\n",
      "a==b is: False\n",
      "a!=b is: True\n"
     ]
    }
   ],
   "source": [
    "a=3.14\n",
    "b=1.618\n",
    "\n",
    "print('a>b is:',a>b)\n",
    "print('a<b is:',a<b)\n",
    "print('a<=b is:',a<=b)\n",
    "print('a>=b is:',a>=b)\n",
    "print('a==b is:',a==b)\n",
    "print('a!=b is:', a!=b)"
   ]
  },
  {
   "cell_type": "markdown",
   "id": "7ba2bab1",
   "metadata": {},
   "source": [
    "# Logical Operators"
   ]
  },
  {
   "cell_type": "markdown",
   "id": "b1e88a36",
   "metadata": {},
   "source": [
    " * The operators including and, or, not are utilized to bring two conditions together and access them. The output returns True or False"
   ]
  },
  {
   "cell_type": "code",
   "execution_count": 6,
   "id": "fa28077f",
   "metadata": {},
   "outputs": [
    {
     "name": "stdout",
     "output_type": "stream",
     "text": [
      "True\n",
      "False\n",
      "False\n",
      "True\n",
      "True\n",
      "False\n"
     ]
    }
   ],
   "source": [
    "a = 3.14\n",
    "b= 1.618\n",
    "c=12\n",
    "d=3.14\n",
    "\n",
    "print (a>b and c>a)\n",
    "print(b>c and d>a)\n",
    "print(b<c and d>a)\n",
    "print(b<c or d>a)\n",
    "print(not a==b)\n",
    "print(not a==d)"
   ]
  },
  {
   "cell_type": "markdown",
   "id": "6ee98123",
   "metadata": {},
   "source": [
    "# Assignment operators"
   ]
  },
  {
   "cell_type": "markdown",
   "id": "92f76c47",
   "metadata": {},
   "source": [
    "    * The operators including =,+=,-=,/=,%=,//=,*=,&=,^=,>>= and <<= are employed to evalueate a value to a variable."
   ]
  },
  {
   "cell_type": "code",
   "execution_count": 7,
   "id": "21566f32",
   "metadata": {},
   "outputs": [
    {
     "name": "stdout",
     "output_type": "stream",
     "text": [
      "8.14\n"
     ]
    }
   ],
   "source": [
    "x = 3.14\n",
    "\n",
    "x+=5\n",
    "\n",
    "print(x)"
   ]
  },
  {
   "cell_type": "code",
   "execution_count": 8,
   "id": "3a683c6a",
   "metadata": {},
   "outputs": [
    {
     "name": "stdout",
     "output_type": "stream",
     "text": [
      "-1.8599999999999999\n"
     ]
    }
   ],
   "source": [
    "x = 3.14\n",
    "\n",
    "x-=5\n",
    "\n",
    "print(x)"
   ]
  },
  {
   "cell_type": "code",
   "execution_count": 9,
   "id": "0214506c",
   "metadata": {},
   "outputs": [
    {
     "name": "stdout",
     "output_type": "stream",
     "text": [
      "15.700000000000001\n"
     ]
    }
   ],
   "source": [
    "x = 3.14\n",
    "x*=5\n",
    "print(x)"
   ]
  },
  {
   "cell_type": "code",
   "execution_count": 10,
   "id": "ef65feeb",
   "metadata": {},
   "outputs": [
    {
     "name": "stdout",
     "output_type": "stream",
     "text": [
      "0.628\n"
     ]
    }
   ],
   "source": [
    "x=3.14\n",
    "\n",
    "x/=5\n",
    "print(x)"
   ]
  },
  {
   "cell_type": "code",
   "execution_count": 11,
   "id": "9d15a9a6",
   "metadata": {},
   "outputs": [
    {
     "name": "stdout",
     "output_type": "stream",
     "text": [
      "3.14\n"
     ]
    }
   ],
   "source": [
    "x=3.14\n",
    "\n",
    "x%=5\n",
    "print(x)"
   ]
  },
  {
   "cell_type": "code",
   "execution_count": 14,
   "id": "a2b80162",
   "metadata": {},
   "outputs": [
    {
     "name": "stdout",
     "output_type": "stream",
     "text": [
      "3\n"
     ]
    }
   ],
   "source": [
    "x = 102258\n",
    "\n",
    "x%=5\n",
    "print(x)"
   ]
  },
  {
   "cell_type": "code",
   "execution_count": 15,
   "id": "f554d7f8",
   "metadata": {},
   "outputs": [
    {
     "name": "stdout",
     "output_type": "stream",
     "text": [
      "0.0\n"
     ]
    }
   ],
   "source": [
    "x=3.14\n",
    "\n",
    "x//=5\n",
    "print(x)"
   ]
  },
  {
   "cell_type": "code",
   "execution_count": 16,
   "id": "908670f3",
   "metadata": {},
   "outputs": [
    {
     "name": "stdout",
     "output_type": "stream",
     "text": [
      "305.2447761824001\n"
     ]
    }
   ],
   "source": [
    "x=3.14\n",
    "\n",
    "x**=5\n",
    "print(x)"
   ]
  },
  {
   "cell_type": "markdown",
   "id": "4daabd78",
   "metadata": {},
   "source": [
    "# Identity operators."
   ]
  },
  {
   "cell_type": "markdown",
   "id": "cce25695",
   "metadata": {},
   "source": [
    " * The operators is or isnot are employed to control if the operands or objects to the left and right of these operators are referring to a value stored in the same memory location and return True or False."
   ]
  },
  {
   "cell_type": "code",
   "execution_count": 23,
   "id": "f5153d58",
   "metadata": {},
   "outputs": [
    {
     "name": "stdout",
     "output_type": "stream",
     "text": [
      "False\n",
      "True\n",
      "False\n",
      "True\n",
      "False\n",
      "True\n"
     ]
    }
   ],
   "source": [
    "a = 3.14\n",
    "\n",
    "b = 1.618\n",
    "\n",
    "print(a is b)\n",
    "\n",
    "print(a is not b)\n",
    "msg1='Hello Python'\n",
    "\n",
    "msg2='Hello, World!'\n",
    "\n",
    "print(msg1 is msg2)\n",
    "print(msg1 is not msg2)\n",
    "\n",
    "list1=[3.14,1.618]\n",
    "list2=[3.14,1.618]\n",
    "print(list1 is list2)\n",
    "print(list1 is not list2)"
   ]
  },
  {
   "cell_type": "markdown",
   "id": "7bc55c91",
   "metadata": {},
   "source": [
    "# Membership operators"
   ]
  },
  {
   "cell_type": "markdown",
   "id": "a662fba9",
   "metadata": {},
   "source": [
    " * These operators including in and not in are employer to check if the certain value is available in the sequence of value and return True of Fasle."
   ]
  },
  {
   "cell_type": "code",
   "execution_count": 34,
   "id": "7abc8cb4",
   "metadata": {},
   "outputs": [
    {
     "name": "stdout",
     "output_type": "stream",
     "text": [
      "True\n",
      "False\n",
      "False\n",
      "True\n",
      "True\n",
      "True\n",
      "True\n",
      "True\n"
     ]
    }
   ],
   "source": [
    "# take a list\n",
    "\n",
    "nlis=[4,5,6,7,8,'hello',(4,5),{'name':'Python'},{1,2,3},[1,2,3]]\n",
    "\n",
    "print(5 in nlis)\n",
    "print(3 in nlis)\n",
    "print(4 not in nlis)\n",
    "print((4,5) in nlis)\n",
    "print(9 not in nlis)\n",
    "print([1,2,3] in nlis)\n",
    "print([1,2,3] in nlis)\n",
    "print({'name':'Python'} in nlis)"
   ]
  },
  {
   "cell_type": "code",
   "execution_count": null,
   "id": "49024f3e",
   "metadata": {},
   "outputs": [],
   "source": []
  }
 ],
 "metadata": {
  "kernelspec": {
   "display_name": "Python 3 (ipykernel)",
   "language": "python",
   "name": "python3"
  },
  "language_info": {
   "codemirror_mode": {
    "name": "ipython",
    "version": 3
   },
   "file_extension": ".py",
   "mimetype": "text/x-python",
   "name": "python",
   "nbconvert_exporter": "python",
   "pygments_lexer": "ipython3",
   "version": "3.9.7"
  }
 },
 "nbformat": 4,
 "nbformat_minor": 5
}
