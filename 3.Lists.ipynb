{
 "cells": [
  {
   "cell_type": "markdown",
   "id": "9e1e6da3",
   "metadata": {},
   "source": [
    "# 3. Lists"
   ]
  },
  {
   "cell_type": "markdown",
   "id": "71296826",
   "metadata": {},
   "source": [
    "   * Lists are ordered.\n",
    "   * Lists can contain any arbitrary objects.\n",
    "   * Lists elements can be accessed by index.\n",
    "   * Lists can be nested to arbitrary depth.\n",
    "   * Lists are mutable.\n",
    "   * Lists are dynamic."
   ]
  },
  {
   "cell_type": "code",
   "execution_count": 2,
   "id": "56ed01e4",
   "metadata": {},
   "outputs": [
    {
     "name": "stdout",
     "output_type": "stream",
     "text": [
      "['Python', 25, 2023]\n",
      "<class 'list'>\n"
     ]
    }
   ],
   "source": [
    "# Creating a list\n",
    "\n",
    "x = ['Python',25,2023]\n",
    "\n",
    "print(x)\n",
    "print(type(x))"
   ]
  },
  {
   "cell_type": "code",
   "execution_count": 9,
   "id": "1768d06e",
   "metadata": {},
   "outputs": [
    {
     "name": "stdout",
     "output_type": "stream",
     "text": [
      "Positive index:  Python , Negative index:  Python\n",
      "Positive index:  25 , Negative index:  25\n",
      "Positive index:  2023 , Negative index:  2023\n"
     ]
    }
   ],
   "source": [
    "print('Positive index: ',x[0],',','Negative index: ',x[-3])\n",
    "print('Positive index: ',x[1],',','Negative index: ',x[-2])\n",
    "print('Positive index: ',x[2],',','Negative index: ',x[-1])"
   ]
  },
  {
   "cell_type": "markdown",
   "id": "2463a084",
   "metadata": {},
   "source": [
    "# What can content a list?"
   ]
  },
  {
   "cell_type": "markdown",
   "id": "b0dada72",
   "metadata": {},
   "source": [
    "   * Strings\n",
    "   * Floats\n",
    "   * Integer\n",
    "   * Boolean\n",
    "   * Nested List\n",
    "   * Nested Tuples\n",
    "   * Other Data structure"
   ]
  },
  {
   "cell_type": "code",
   "execution_count": 10,
   "id": "e19f3916",
   "metadata": {},
   "outputs": [
    {
     "data": {
      "text/plain": [
       "['Python',\n",
       " 3.14,\n",
       " 2023,\n",
       " True,\n",
       " False,\n",
       " [1, 2, 3, 4, 5, 6, 7, 8, 9],\n",
       " ('hello python', 3.14, 2023)]"
      ]
     },
     "execution_count": 10,
     "metadata": {},
     "output_type": "execute_result"
    }
   ],
   "source": [
    "nlis=['Python', 3.14, 2023,True, False, [1,2,3,4,5,6,7,8,9],('hello python',3.14,2023)]\n",
    "\n",
    "nlis"
   ]
  },
  {
   "cell_type": "markdown",
   "id": "6f26b74d",
   "metadata": {},
   "source": [
    "# List operations"
   ]
  },
  {
   "cell_type": "code",
   "execution_count": 11,
   "id": "deb07494",
   "metadata": {},
   "outputs": [
    {
     "data": {
      "text/plain": [
       "7"
      ]
     },
     "execution_count": 11,
     "metadata": {},
     "output_type": "execute_result"
    }
   ],
   "source": [
    "# length of the list\n",
    "\n",
    "len(nlis)"
   ]
  },
  {
   "cell_type": "code",
   "execution_count": 16,
   "id": "09ae6ec1",
   "metadata": {},
   "outputs": [
    {
     "name": "stdout",
     "output_type": "stream",
     "text": [
      "[True]\n",
      "['Python', 3.14, 2023, True, False]\n",
      "[[1, 2, 3, 4, 5, 6, 7, 8, 9]]\n",
      "('hello python', 3.14, 2023)\n",
      "[('hello python', 3.14, 2023)]\n"
     ]
    }
   ],
   "source": [
    "# Slicing of a list.\n",
    "\n",
    "print(nlis[3:4])\n",
    "print(nlis[0:5])\n",
    "print(nlis[5:6])\n",
    "print(nlis[-1])\n",
    "print(nlis[6:7])\n",
    "\n"
   ]
  },
  {
   "cell_type": "code",
   "execution_count": 23,
   "id": "8216f7d2",
   "metadata": {},
   "outputs": [
    {
     "name": "stdout",
     "output_type": "stream",
     "text": [
      "5\n",
      "8\n",
      "hello python\n",
      "2023\n"
     ]
    }
   ],
   "source": [
    "nlis=['Python', 3.14, 2023,True, False, [1,2,3,4,5,6,7,8,9],('hello python',3.14,2023)]\n",
    "\n",
    "\n",
    "\n",
    "print(nlis[5][4])\n",
    "print(nlis[5][7])\n",
    "print(nlis[6][0])\n",
    "print(nlis[6][2])"
   ]
  },
  {
   "cell_type": "markdown",
   "id": "cdee0cfc",
   "metadata": {},
   "source": [
    "# Extending the list"
   ]
  },
  {
   "cell_type": "markdown",
   "id": "0a1c5d28",
   "metadata": {},
   "source": [
    "    * We use the extend() function to add a new element to the list.\n",
    "    * With this function we add more than one element to the list."
   ]
  },
  {
   "cell_type": "code",
   "execution_count": 25,
   "id": "c8d6b491",
   "metadata": {},
   "outputs": [
    {
     "name": "stdout",
     "output_type": "stream",
     "text": [
      "['Python', 3.14, 2023, True, False, [1, 2, 3, 4, 5, 6, 7, 8, 9], ('hello python', 3.14, 2023), 'hello World', 1.618]\n"
     ]
    }
   ],
   "source": [
    "nlis=['Python', 3.14, 2023,True, False, [1,2,3,4,5,6,7,8,9],('hello python',3.14,2023)]\n",
    "\n",
    "nlis.extend(['hello World',1.618])\n",
    "print(nlis)"
   ]
  },
  {
   "cell_type": "markdown",
   "id": "f41b2731",
   "metadata": {},
   "source": [
    "# append() method"
   ]
  },
  {
   "cell_type": "markdown",
   "id": "50d23821",
   "metadata": {},
   "source": [
    "   * as different from the extend() method, with the append() method, we add only one element to the list.\n",
    "   * you can see the difference by comparing the above and below codes.\n",
    "   "
   ]
  },
  {
   "cell_type": "code",
   "execution_count": 28,
   "id": "c24f26bf",
   "metadata": {},
   "outputs": [
    {
     "data": {
      "text/plain": [
       "['Python',\n",
       " 3.14,\n",
       " 2023,\n",
       " True,\n",
       " False,\n",
       " [1, 2, 3, 4, 5, 6, 7, 8, 9],\n",
       " ('hello python', 3.14, 2023),\n",
       " ['Hello World!', 1.618],\n",
       " ['Amey Lonkar']]"
      ]
     },
     "execution_count": 28,
     "metadata": {},
     "output_type": "execute_result"
    }
   ],
   "source": [
    "nlis=['Python', 3.14, 2023,True, False, [1,2,3,4,5,6,7,8,9],('hello python',3.14,2023)]\n",
    "\n",
    "nlis.append(['Hello World!',1.618])\n",
    "nlis.append(['Amey Lonkar'])\n",
    "nlis"
   ]
  },
  {
   "cell_type": "code",
   "execution_count": null,
   "id": "32f27955",
   "metadata": {},
   "outputs": [],
   "source": []
  }
 ],
 "metadata": {
  "kernelspec": {
   "display_name": "Python 3 (ipykernel)",
   "language": "python",
   "name": "python3"
  },
  "language_info": {
   "codemirror_mode": {
    "name": "ipython",
    "version": 3
   },
   "file_extension": ".py",
   "mimetype": "text/x-python",
   "name": "python",
   "nbconvert_exporter": "python",
   "pygments_lexer": "ipython3",
   "version": "3.9.7"
  }
 },
 "nbformat": 4,
 "nbformat_minor": 5
}
