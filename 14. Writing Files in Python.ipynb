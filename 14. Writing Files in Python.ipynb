{
 "cells": [
  {
   "cell_type": "markdown",
   "id": "158ee539",
   "metadata": {},
   "source": [
    "# 14. Writing Files in Python\n",
    "\n",
    "\n",
    "To write to a text file in Python, you follows these steps:\n",
    "\n",
    " * First, open the text file for writing(appending) using open() function.\n",
    " * Second, write to the text file using the write() or writelines() method.\n",
    " * Third, close the file using close() method.\n",
    " \n",
    " \n",
    "* character----------------------> functions.\n",
    "    * r -------------------------> Open file for reading only. Stats reading from beginning of file. This is default mode.\n",
    "    * rb-------------------------> Open a file for reading only. Starts reading from beginning of file.\n",
    "    * r+ ------------------------> Open file for reading and writing. File pointer placed at beginning of the file.\n",
    "    * W --------------------------> Open file for writing only. File pointer placed at beginning of the file. Overwrites existing file and creates a new one if it does not exists.\n",
    "    * wb -------------------------> Same as w but opens in binary mode.\n",
    "    * W+ -------------------------> same as w but allows to read from file.\n",
    "    * wb+ ------------------------> same as wb but also allows to read from file.\n",
    "    * a --------------------------> Open a file for appending. Starts writing at the end of the file. Creates a new file if file does not exist.\n",
    "    * ab -------------------------> Same as a but in binary format. Creates a new file it file does not exist.\n",
    "    * a+ -------------------------> Same as a but alos open for reading.\n",
    "    * ab+ ------------------------> same as ab but also open for reading."
   ]
  },
  {
   "cell_type": "code",
   "execution_count": 2,
   "id": "cca71ad5",
   "metadata": {},
   "outputs": [],
   "source": [
    "fname='sample-2mb-text-file.txt'\n",
    "with open(fname,'w') as f:\n",
    "    f.write('I dedicate this book from Nancy.\\n')\n",
    "    f.write('A feedback from Nance.')\n"
   ]
  },
  {
   "cell_type": "code",
   "execution_count": 3,
   "id": "a8fa7be4",
   "metadata": {},
   "outputs": [
    {
     "name": "stdout",
     "output_type": "stream",
     "text": [
      "I dedicate this book from Nancy.\n",
      "A feedback from Nance.\n"
     ]
    }
   ],
   "source": [
    "with open(fname,'r') as f:\n",
    "    content=f.read()\n",
    "    print(content)"
   ]
  },
  {
   "cell_type": "code",
   "execution_count": 4,
   "id": "38583a08",
   "metadata": {},
   "outputs": [
    {
     "name": "stdout",
     "output_type": "stream",
     "text": [
      "from the Noew Yorker\n",
      "\n",
      "Entertaining is usefully cranky and combative, raising provactive question.\n"
     ]
    }
   ],
   "source": [
    "add_text=['from the Noew Yorker\\n',\n",
    "         'Entertaining is usefully cranky and combative, raising provactive question.']\n",
    "\n",
    "\n",
    "fname='sample-2mb-text-file.txt'\n",
    "with open(fname,'w') as f:\n",
    "    for line in add_text:\n",
    "        print(line)\n",
    "        f.write(line)"
   ]
  },
  {
   "cell_type": "markdown",
   "id": "44df5303",
   "metadata": {},
   "source": [
    "# appending files"
   ]
  },
  {
   "cell_type": "code",
   "execution_count": 5,
   "id": "1be8da8e",
   "metadata": {},
   "outputs": [
    {
     "name": "stdout",
     "output_type": "stream",
     "text": [
      "Overight\n",
      "\n"
     ]
    }
   ],
   "source": [
    "# wrting and then reading the files.\n",
    "new_file='sample-2mb-text-file.txt'\n",
    "with open(new_file,'w') as f:\n",
    "    f.write('Overight\\n')\n",
    "with open(new_file,'r') as f:\n",
    "    print(f.read())"
   ]
  },
  {
   "cell_type": "code",
   "execution_count": 6,
   "id": "c1d889f9",
   "metadata": {},
   "outputs": [
    {
     "name": "stdout",
     "output_type": "stream",
     "text": [
      "Overight\n",
      "\n"
     ]
    }
   ],
   "source": [
    "with open(fname,'r') as f:\n",
    "    print(f.read())"
   ]
  },
  {
   "cell_type": "markdown",
   "id": "38cf0877",
   "metadata": {},
   "source": [
    "# copy the file"
   ]
  },
  {
   "cell_type": "code",
   "execution_count": 9,
   "id": "9efac272",
   "metadata": {},
   "outputs": [],
   "source": [
    "fname='sample-2mb-text-file.txt'\n",
    "with open(fname,'r') as f_reading:\n",
    "    with open('sample-2mb-text-file.txt','w') as f_writing:\n",
    "        for line in f_reading:\n",
    "            f_writing.write(line)"
   ]
  },
  {
   "cell_type": "code",
   "execution_count": 10,
   "id": "cca37b0c",
   "metadata": {},
   "outputs": [
    {
     "name": "stdout",
     "output_type": "stream",
     "text": [
      "\n"
     ]
    }
   ],
   "source": [
    "# for the verification and execute the following codes.\n",
    "fname='sample-2mb-text-file.txt'\n",
    "with open(fname,'r') as f:\n",
    "    print(f.read())"
   ]
  },
  {
   "cell_type": "code",
   "execution_count": 11,
   "id": "600a8830",
   "metadata": {},
   "outputs": [
    {
     "name": "stdout",
     "output_type": "stream",
     "text": [
      "Enter a student name:Amey\n",
      "Enter a student name:Rajesh\n",
      "Enter a student name:Utkarsh\n",
      "Amey\n",
      "\n",
      "Rajesh\n",
      "\n",
      "Utkarsh\n",
      "\n"
     ]
    }
   ],
   "source": [
    "# Writing the student names into a file.\n",
    "\n",
    "\n",
    "fname=open(f'student_name.txt','w')\n",
    "for i in range(3):\n",
    "    name=input('Enter a student name:')\n",
    "    fname.write(name)\n",
    "    fname.write('\\n')\n",
    "fname=open(r'student_name.txt','r')\n",
    "for line in fname:\n",
    "    print(line)\n",
    "fname.close()"
   ]
  },
  {
   "cell_type": "code",
   "execution_count": null,
   "id": "c615055d",
   "metadata": {},
   "outputs": [],
   "source": []
  }
 ],
 "metadata": {
  "kernelspec": {
   "display_name": "Python 3 (ipykernel)",
   "language": "python",
   "name": "python3"
  },
  "language_info": {
   "codemirror_mode": {
    "name": "ipython",
    "version": 3
   },
   "file_extension": ".py",
   "mimetype": "text/x-python",
   "name": "python",
   "nbconvert_exporter": "python",
   "pygments_lexer": "ipython3",
   "version": "3.9.13"
  }
 },
 "nbformat": 4,
 "nbformat_minor": 5
}
