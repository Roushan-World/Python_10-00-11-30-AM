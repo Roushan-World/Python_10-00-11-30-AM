{
 "cells": [
  {
   "cell_type": "markdown",
   "id": "74c9719e",
   "metadata": {},
   "source": [
    "# 6. Dictionaries in Python"
   ]
  },
  {
   "cell_type": "markdown",
   "id": "81966341",
   "metadata": {},
   "source": [
    " * Dictionaries are used to store data values in Key:Value pairs.\n",
    " * A dictionary is a collection which is ordered, changeable or mutable and do not allow duplicates.\n",
    " * Dictionary items are ordered, changeable, and does not allow duplicates.\n",
    " * Dictionary item are presented in key:value pairs, and can be referred to by using the key name.\n",
    " * Dictionaries are changeable, meaning that we can change, add or remove items after the dicitonary has been created.\n",
    " * Dictionaries cannot have two items with the same key.\n",
    " * A dictionary can nested and can contain another dictionary.\n",
    " \n",
    "                 * Keys-----------------------Values.\n",
    "                 *'name'--------------------->'Bob'\n",
    "                 * 'age'--------------------->25\n",
    "                 *'job'---------------------->'Dev'\n",
    "                 *'city'--------------------->'New York'\n",
    "                 *'e-mail'------------------->'bob@web.com'"
   ]
  },
  {
   "cell_type": "code",
   "execution_count": 2,
   "id": "a167c46e",
   "metadata": {},
   "outputs": [
    {
     "data": {
      "text/plain": [
       "{'Key_1': 3.14,\n",
       " 'Key_2': 1.618,\n",
       " 'Key_3': True,\n",
       " 'Key_4': [3.14, 1.618],\n",
       " 'Key_5': (3.14, 1.618),\n",
       " 'Key_6': 2023,\n",
       " (3.14, 1.618): 'pi and ratio.'}"
      ]
     },
     "execution_count": 2,
     "metadata": {},
     "output_type": "execute_result"
    }
   ],
   "source": [
    "# Take a sample dicitonary.\n",
    "\n",
    "sample_dict={'Key_1':3.14,'Key_2':1.618,\n",
    "             'Key_3':True,'Key_4':[3.14,1.618],\n",
    "             'Key_5':(3.14,1.618),'Key_6':2023,(3.14,1.618):'pi and ratio.'}\n",
    "\n",
    "sample_dict"
   ]
  },
  {
   "cell_type": "markdown",
   "id": "a0df6360",
   "metadata": {},
   "source": [
    " *Note: As you see the whole dictionary is enclosed in curly braces, each key is separated from its value by a column\":\" and commas are used to separate the items in the dictionay."
   ]
  },
  {
   "cell_type": "code",
   "execution_count": 3,
   "id": "1ed32179",
   "metadata": {},
   "outputs": [
    {
     "name": "stdout",
     "output_type": "stream",
     "text": [
      "<class 'dict'>\n"
     ]
    }
   ],
   "source": [
    "print(type(sample_dict))"
   ]
  },
  {
   "cell_type": "code",
   "execution_count": 11,
   "id": "5d684e11",
   "metadata": {},
   "outputs": [
    {
     "name": "stdout",
     "output_type": "stream",
     "text": [
      "3.14\n",
      "1.618\n",
      "True\n",
      "[3.14, 1.618]\n",
      "(3.14, 1.618)\n",
      "2023\n",
      "pi and ratio.\n"
     ]
    }
   ],
   "source": [
    "# Accessing to the value using the key.\n",
    "print(sample_dict['Key_1'])\n",
    "print(sample_dict['Key_2'])\n",
    "print(sample_dict['Key_3'])\n",
    "print(sample_dict['Key_4'])\n",
    "print(sample_dict['Key_5'])\n",
    "print(sample_dict['Key_6'])\n",
    "print(sample_dict[(3.14,1.618)])"
   ]
  },
  {
   "cell_type": "code",
   "execution_count": 13,
   "id": "4cd1d79e",
   "metadata": {},
   "outputs": [
    {
     "data": {
      "text/plain": [
       "{'soap': 'Lux,hamam,pears,dove,santoor,dettol,lifebuoy,medimix',\n",
       " 'Biscuit': 'Parle-G,Marie,GoodDay,Tiger,MilkBikies,DarkFantsy,Milano',\n",
       " 'Oil': 'Coconut,Hair&Care,Godrej,Paracuit,Mamaearth,Patanjali',\n",
       " 'Milk': 'Chitale,Amul',\n",
       " 'Ice-Cream': 'Corneto,Vanilla,Chocolate'}"
      ]
     },
     "execution_count": 13,
     "metadata": {},
     "output_type": "execute_result"
    }
   ],
   "source": [
    "# Take a sample dictionary.\n",
    "\n",
    "product={'soap':'Lux,hamam,pears,dove,santoor,dettol,lifebuoy,medimix',\n",
    "        'Biscuit':'Parle-G,Marie,GoodDay,Tiger,MilkBikies,DarkFantsy,Milano',\n",
    "        'Oil':'Coconut,Hair&Care,Godrej,Paracuit,Mamaearth,Patanjali',\n",
    "        'Milk':'Chitale,Amul',\n",
    "        'Ice-Cream':'Corneto,Vanilla,Chocolate'}\n",
    "product"
   ]
  },
  {
   "cell_type": "code",
   "execution_count": 15,
   "id": "e149e7d2",
   "metadata": {},
   "outputs": [
    {
     "name": "stdout",
     "output_type": "stream",
     "text": [
      "Lux,hamam,pears,dove,santoor,dettol,lifebuoy,medimix\n"
     ]
    }
   ],
   "source": [
    "print(product['soap'])"
   ]
  },
  {
   "cell_type": "code",
   "execution_count": 16,
   "id": "9338fe6d",
   "metadata": {},
   "outputs": [
    {
     "name": "stdout",
     "output_type": "stream",
     "text": [
      "Parle-G,Marie,GoodDay,Tiger,MilkBikies,DarkFantsy,Milano\n"
     ]
    }
   ],
   "source": [
    "print(product['Biscuit'])"
   ]
  },
  {
   "cell_type": "code",
   "execution_count": 17,
   "id": "734dbf67",
   "metadata": {},
   "outputs": [
    {
     "name": "stdout",
     "output_type": "stream",
     "text": [
      "Coconut,Hair&Care,Godrej,Paracuit,Mamaearth,Patanjali\n"
     ]
    }
   ],
   "source": [
    "print(product['Oil'])"
   ]
  },
  {
   "cell_type": "code",
   "execution_count": 18,
   "id": "93b5f818",
   "metadata": {},
   "outputs": [
    {
     "name": "stdout",
     "output_type": "stream",
     "text": [
      "Chitale,Amul\n"
     ]
    }
   ],
   "source": [
    "print(product['Milk'])"
   ]
  },
  {
   "cell_type": "code",
   "execution_count": 19,
   "id": "e2be08b1",
   "metadata": {},
   "outputs": [
    {
     "name": "stdout",
     "output_type": "stream",
     "text": [
      "Corneto,Vanilla,Chocolate\n"
     ]
    }
   ],
   "source": [
    "print(product['Ice-Cream'])"
   ]
  },
  {
   "cell_type": "code",
   "execution_count": 22,
   "id": "907bb21f",
   "metadata": {},
   "outputs": [
    {
     "name": "stdout",
     "output_type": "stream",
     "text": [
      "dict_keys(['soap', 'Biscuit', 'Oil', 'Milk', 'Ice-Cream'])\n",
      "dict_keys(['Key_1', 'Key_2', 'Key_3', 'Key_4', 'Key_5', 'Key_6', (3.14, 1.618)])\n"
     ]
    }
   ],
   "source": [
    "# What are the keys in the product&sample_dict.\n",
    "\n",
    "print(product.keys())\n",
    "print(sample_dict.keys())"
   ]
  },
  {
   "cell_type": "code",
   "execution_count": 24,
   "id": "2b779104",
   "metadata": {},
   "outputs": [
    {
     "name": "stdout",
     "output_type": "stream",
     "text": [
      "dict_values(['Lux,hamam,pears,dove,santoor,dettol,lifebuoy,medimix', 'Parle-G,Marie,GoodDay,Tiger,MilkBikies,DarkFantsy,Milano', 'Coconut,Hair&Care,Godrej,Paracuit,Mamaearth,Patanjali', 'Chitale,Amul', 'Corneto,Vanilla,Chocolate'])\n",
      "dict_values([3.14, 1.618, True, [3.14, 1.618], (3.14, 1.618), 2023, 'pi and ratio.'])\n"
     ]
    }
   ],
   "source": [
    "# What are the values in the product&sample_dict.\n",
    "\n",
    "print(product.values())\n",
    "print(sample_dict.values())"
   ]
  },
  {
   "cell_type": "markdown",
   "id": "062d91cd",
   "metadata": {},
   "source": [
    "# Addition of a new keys:value pair in the dictionary. "
   ]
  },
  {
   "cell_type": "code",
   "execution_count": 25,
   "id": "0653885c",
   "metadata": {},
   "outputs": [
    {
     "data": {
      "text/plain": [
       "{'soap': 'Lux,hamam,pears,dove,santoor,dettol,lifebuoy,medimix',\n",
       " 'Biscuit': 'Parle-G,Marie,GoodDay,Tiger,MilkBikies,DarkFantsy,Milano',\n",
       " 'Oil': 'Coconut,Hair&Care,Godrej,Paracuit,Mamaearth,Patanjali',\n",
       " 'Milk': 'Chitale,Amul',\n",
       " 'Ice-Cream': 'Corneto,Vanilla,Chocolate',\n",
       " 'Water-Bottle': 'Bisleri,Bailley,Oxycool'}"
      ]
     },
     "execution_count": 25,
     "metadata": {},
     "output_type": "execute_result"
    }
   ],
   "source": [
    "product['Water-Bottle']='Bisleri,Bailley,Oxycool'\n",
    "product"
   ]
  },
  {
   "cell_type": "code",
   "execution_count": 26,
   "id": "1aa4cc9d",
   "metadata": {},
   "outputs": [
    {
     "data": {
      "text/plain": [
       "'Bisleri,Bailley,Oxycool'"
      ]
     },
     "execution_count": 26,
     "metadata": {},
     "output_type": "execute_result"
    }
   ],
   "source": [
    "product['Water-Bottle']"
   ]
  },
  {
   "cell_type": "markdown",
   "id": "ce6da0ac",
   "metadata": {},
   "source": [
    "# Delete an item using del() function in the dictionary by key\n",
    "\n"
   ]
  },
  {
   "cell_type": "code",
   "execution_count": 27,
   "id": "c10e5f90",
   "metadata": {},
   "outputs": [
    {
     "data": {
      "text/plain": [
       "{'soap': 'Lux,hamam,pears,dove,santoor,dettol,lifebuoy,medimix',\n",
       " 'Biscuit': 'Parle-G,Marie,GoodDay,Tiger,MilkBikies,DarkFantsy,Milano',\n",
       " 'Oil': 'Coconut,Hair&Care,Godrej,Paracuit,Mamaearth,Patanjali',\n",
       " 'Milk': 'Chitale,Amul',\n",
       " 'Ice-Cream': 'Corneto,Vanilla,Chocolate'}"
      ]
     },
     "execution_count": 27,
     "metadata": {},
     "output_type": "execute_result"
    }
   ],
   "source": [
    "del(product['Water-Bottle'])\n",
    "product"
   ]
  },
  {
   "cell_type": "code",
   "execution_count": 28,
   "id": "ce7eb114",
   "metadata": {},
   "outputs": [
    {
     "ename": "NameError",
     "evalue": "name 'sample_dict' is not defined",
     "output_type": "error",
     "traceback": [
      "\u001b[1;31m---------------------------------------------------------------------------\u001b[0m",
      "\u001b[1;31mNameError\u001b[0m                                 Traceback (most recent call last)",
      "\u001b[1;32mC:\\Users\\ROUSHA~1\\AppData\\Local\\Temp/ipykernel_24260/1230098826.py\u001b[0m in \u001b[0;36m<module>\u001b[1;34m\u001b[0m\n\u001b[0;32m      1\u001b[0m \u001b[1;32mdel\u001b[0m\u001b[1;33m(\u001b[0m\u001b[0msample_dict\u001b[0m\u001b[1;33m)\u001b[0m\u001b[1;33m\u001b[0m\u001b[1;33m\u001b[0m\u001b[0m\n\u001b[1;32m----> 2\u001b[1;33m \u001b[0mprint\u001b[0m\u001b[1;33m(\u001b[0m\u001b[0msample_dict\u001b[0m\u001b[1;33m)\u001b[0m\u001b[1;33m\u001b[0m\u001b[1;33m\u001b[0m\u001b[0m\n\u001b[0m",
      "\u001b[1;31mNameError\u001b[0m: name 'sample_dict' is not defined"
     ]
    }
   ],
   "source": [
    "del(sample_dict)\n",
    "print(sample_dict)\n",
    "\n",
    "# The dictionary was deleted"
   ]
  },
  {
   "cell_type": "markdown",
   "id": "43dbe933",
   "metadata": {},
   "source": [
    "# Verification using in or not in"
   ]
  },
  {
   "cell_type": "code",
   "execution_count": 34,
   "id": "5cf51e42",
   "metadata": {},
   "outputs": [
    {
     "name": "stdout",
     "output_type": "stream",
     "text": [
      "True\n",
      "True\n",
      "True\n",
      "True\n",
      "False\n"
     ]
    }
   ],
   "source": [
    "print('soap' in product)\n",
    "print('Oil' in product)\n",
    "print('Milk' in product)\n",
    "print('Biscuit'in product)\n",
    "print('Ice-Cream' not in product)"
   ]
  },
  {
   "cell_type": "markdown",
   "id": "cfae6281",
   "metadata": {},
   "source": [
    "# dict() function\n",
    "\n",
    " * This function is used to create dictionary."
   ]
  },
  {
   "cell_type": "code",
   "execution_count": 37,
   "id": "1a438b0a",
   "metadata": {},
   "outputs": [
    {
     "data": {
      "text/plain": [
       "{'family': 'music', 'type': 'pop', 'year': '2024', 'name': 'Happy New Year'}"
      ]
     },
     "execution_count": 37,
     "metadata": {},
     "output_type": "execute_result"
    }
   ],
   "source": [
    "dict_sample=dict(family='music',type='pop',year='2024',name='Happy New Year')\n",
    "dict_sample"
   ]
  },
  {
   "cell_type": "code",
   "execution_count": 38,
   "id": "859be125",
   "metadata": {},
   "outputs": [
    {
     "data": {
      "text/plain": [
       "dict_keys(['family', 'type', 'year', 'name'])"
      ]
     },
     "execution_count": 38,
     "metadata": {},
     "output_type": "execute_result"
    }
   ],
   "source": [
    "dict_sample.keys()"
   ]
  },
  {
   "cell_type": "code",
   "execution_count": 39,
   "id": "37c633cf",
   "metadata": {},
   "outputs": [
    {
     "data": {
      "text/plain": [
       "dict_values(['music', 'pop', '2024', 'Happy New Year'])"
      ]
     },
     "execution_count": 39,
     "metadata": {},
     "output_type": "execute_result"
    }
   ],
   "source": [
    "dict_sample.values()"
   ]
  },
  {
   "cell_type": "markdown",
   "id": "3e3ff236",
   "metadata": {},
   "source": [
    "# clear() functions\n",
    "\n",
    "* It removes all the items in the dictionary and returns an empty dictionary."
   ]
  },
  {
   "cell_type": "code",
   "execution_count": 42,
   "id": "c92455c8",
   "metadata": {},
   "outputs": [
    {
     "data": {
      "text/plain": [
       "{}"
      ]
     },
     "execution_count": 42,
     "metadata": {},
     "output_type": "execute_result"
    }
   ],
   "source": [
    "dict_sample=dict(family='music',type='pop',year='2024',name='Happy New Year')\n",
    "\n",
    "dict_sample.clear()\n",
    "dict_sample"
   ]
  },
  {
   "cell_type": "markdown",
   "id": "afc69964",
   "metadata": {},
   "source": [
    "# copy() function\n",
    "\n",
    "\n",
    "* It returns a shallow copy of the main dictionary."
   ]
  },
  {
   "cell_type": "code",
   "execution_count": 45,
   "id": "1048abe8",
   "metadata": {},
   "outputs": [
    {
     "name": "stdout",
     "output_type": "stream",
     "text": [
      "sample_original:  {'family': 'music', 'type': 'pop', 'year': '2024', 'name': 'Happy New Year'}\n",
      "sample_copy:  {'family': 'music', 'type': 'pop', 'year': '2024', 'name': 'Happy New Year'}\n"
     ]
    }
   ],
   "source": [
    "sample_original=dict(family='music',type='pop',year='2024',name='Happy New Year')\n",
    "sample_copy=sample_original\n",
    "print('sample_original: ',sample_original)\n",
    "print('sample_copy: ',sample_copy)"
   ]
  },
  {
   "cell_type": "code",
   "execution_count": null,
   "id": "7d04195c",
   "metadata": {},
   "outputs": [],
   "source": []
  }
 ],
 "metadata": {
  "kernelspec": {
   "display_name": "Python 3 (ipykernel)",
   "language": "python",
   "name": "python3"
  },
  "language_info": {
   "codemirror_mode": {
    "name": "ipython",
    "version": 3
   },
   "file_extension": ".py",
   "mimetype": "text/x-python",
   "name": "python",
   "nbconvert_exporter": "python",
   "pygments_lexer": "ipython3",
   "version": "3.9.7"
  }
 },
 "nbformat": 4,
 "nbformat_minor": 5
}
